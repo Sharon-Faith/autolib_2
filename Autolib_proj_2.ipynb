{
  "nbformat": 4,
  "nbformat_minor": 0,
  "metadata": {
    "colab": {
      "name": "Autolib_proj_2.ipynb",
      "provenance": [],
      "authorship_tag": "ABX9TyPU9sFHVcW3AhzGr8CR+iaf",
      "include_colab_link": true
    },
    "kernelspec": {
      "name": "python3",
      "display_name": "Python 3"
    },
    "language_info": {
      "name": "python"
    }
  },
  "cells": [
    {
      "cell_type": "markdown",
      "metadata": {
        "id": "view-in-github",
        "colab_type": "text"
      },
      "source": [
        "<a href=\"https://colab.research.google.com/github/Sharon-Faith/autolib_2/blob/main/Autolib_proj_2.ipynb\" target=\"_parent\"><img src=\"https://colab.research.google.com/assets/colab-badge.svg\" alt=\"Open In Colab\"/></a>"
      ]
    },
    {
      "cell_type": "code",
      "execution_count": null,
      "metadata": {
        "id": "ogiK3TwwKCrp"
      },
      "outputs": [],
      "source": [
        ""
      ]
    },
    {
      "cell_type": "markdown",
      "metadata": {
        "id": "kLG2VTrnTvYL"
      },
      "source": [
        "## 1. Introduction"
      ]
    },
    {
      "cell_type": "markdown",
      "metadata": {
        "id": "9ozBnKfehSAw"
      },
      "source": [
        "\n",
        "**Problem Statement**\n",
        "\n",
        "> The aim of the study is to determine whether the average number of blue cars taken (provided by Autolib company) during weekends in the 9th-20th arrondissements of Paris is greater than the average number taken in the 1st-8th arrondissements during the weekend.\n",
        "\n",
        "NB: 'Arrondissement' == District\n",
        "\n",
        "**Why**\n",
        "\n",
        "> The average population in the 9th-20th arrondissements is greater than that in the first 8. Our assumption would therefore be that more people in these areas are hiring the electric vehicles. However, the first 8 arrondissements have the most major tourist attractions, many businesses (including major retail centres and restaurants), and a lot of entertainment activities, so it may be possible that more people are hiring the electric  vehicles in those areas, especially during weekends.Varying economic status by district can also affect our assumption (many of the higher average wage arrondissements are between 1-8). Investigating whether our claim/assumption (that the average number of blue cars taken during weekends in the 9th-20th arrondissements of Paris is greater than that of the 1st-8th arrondissements) is actually true (backed by statistical evidence) will help in accurately informing Autolib's strategies of resource distribution across the different districts on weekends.\n",
        "\n",
        "> (Reference links for information on arrondissements (districts) in Paris: [link1](https://shewandersabroad.com/best-arrondissements-to-stay-in-paris/), [link2](https://www.parisinsidersguide.com/paris-arrondissements.html), [link3](https://www.statista.com/statistics/1046193/population-by-district-arrondissements-paris-france/), [link4]( https://www.lonelyplanet.com/articles/guide-paris-arrondissements), [link5]( http://blog.lodgis.com/en/business-districts-convention-centers-paris-region/)\n",
        "\n",
        "**Experimental Design**\n",
        "*   Set the main objective.\n",
        "*   Load and preview the dataset.\n",
        "*   Understand the data.\n",
        "*   Prepare the dataset - Identify outliers, anomalies, duplicates and determine how deal with them, perform relevant datatype conversion.\n",
        "*    Analyse the dataset using univariate, bivariate analysis techniques.\n",
        "*   Implement the solution using hypothesis testing methods.\n",
        "*   Conclusions and recommendations."
      ]
    },
    {
      "cell_type": "markdown",
      "metadata": {
        "id": "iUNbvIvnT7ep"
      },
      "source": [
        "## 2. Reading the Data"
      ]
    },
    {
      "cell_type": "code",
      "source": [
        "import pandas as pd\n",
        "import matplotlib.pyplot as plt\n",
        "import seaborn as sns\n"
      ],
      "metadata": {
        "id": "R3IAvCE77z50"
      },
      "execution_count": null,
      "outputs": []
    },
    {
      "cell_type": "code",
      "metadata": {
        "id": "XJn2KjW-WMlG"
      },
      "source": [
        "# Loading the Data \n",
        "\n",
        "df= pd.read_csv('autolib_daily_events_postal_code.csv')"
      ],
      "execution_count": null,
      "outputs": []
    },
    {
      "cell_type": "markdown",
      "metadata": {
        "id": "OI3P3YnHUEBk"
      },
      "source": [
        "## 3. Checking the Data"
      ]
    },
    {
      "cell_type": "code",
      "metadata": {
        "id": "YjSVNwgptHxY",
        "colab": {
          "base_uri": "https://localhost:8080/"
        },
        "outputId": "1af76e40-27a0-4f3b-8678-95b0723a79e5"
      },
      "source": [
        "# Determining the no. of records in our dataset\n",
        "#\n",
        "df.shape\n",
        "# The dataset has 16085 rows and 13 columns"
      ],
      "execution_count": null,
      "outputs": [
        {
          "output_type": "execute_result",
          "data": {
            "text/plain": [
              "(16085, 13)"
            ]
          },
          "metadata": {},
          "execution_count": 74
        }
      ]
    },
    {
      "cell_type": "code",
      "metadata": {
        "id": "xHhTw5eKWr0n",
        "colab": {
          "base_uri": "https://localhost:8080/",
          "height": 288
        },
        "outputId": "3306714c-b62c-44fe-ccd1-651895736f38"
      },
      "source": [
        "# Previewing the top of our dataset\n",
        "#\n",
        "df.head()"
      ],
      "execution_count": null,
      "outputs": [
        {
          "output_type": "execute_result",
          "data": {
            "text/plain": [
              "   Postal code      date  n_daily_data_points  dayOfWeek day_type  \\\n",
              "0        75001  1/1/2018                 1440          0  weekday   \n",
              "1        75001  1/2/2018                 1438          1  weekday   \n",
              "2        75001  1/3/2018                 1439          2  weekday   \n",
              "3        75001  1/4/2018                 1320          3  weekday   \n",
              "4        75001  1/5/2018                 1440          4  weekday   \n",
              "\n",
              "   BlueCars_taken_sum  BlueCars_returned_sum  Utilib_taken_sum  \\\n",
              "0                 110                    103                 3   \n",
              "1                  98                     94                 1   \n",
              "2                 138                    139                 0   \n",
              "3                 104                    104                 2   \n",
              "4                 114                    117                 3   \n",
              "\n",
              "   Utilib_returned_sum  Utilib_14_taken_sum  Utilib_14_returned_sum  \\\n",
              "0                    2                   10                       9   \n",
              "1                    1                    8                       8   \n",
              "2                    0                    2                       2   \n",
              "3                    2                    9                       8   \n",
              "4                    3                    6                       6   \n",
              "\n",
              "   Slots_freed_sum  Slots_taken_sum  \n",
              "0               22               20  \n",
              "1               23               22  \n",
              "2               27               27  \n",
              "3               25               21  \n",
              "4               18               20  "
            ],
            "text/html": [
              "\n",
              "  <div id=\"df-a53ae67a-aff7-461a-aa79-b709a720500b\">\n",
              "    <div class=\"colab-df-container\">\n",
              "      <div>\n",
              "<style scoped>\n",
              "    .dataframe tbody tr th:only-of-type {\n",
              "        vertical-align: middle;\n",
              "    }\n",
              "\n",
              "    .dataframe tbody tr th {\n",
              "        vertical-align: top;\n",
              "    }\n",
              "\n",
              "    .dataframe thead th {\n",
              "        text-align: right;\n",
              "    }\n",
              "</style>\n",
              "<table border=\"1\" class=\"dataframe\">\n",
              "  <thead>\n",
              "    <tr style=\"text-align: right;\">\n",
              "      <th></th>\n",
              "      <th>Postal code</th>\n",
              "      <th>date</th>\n",
              "      <th>n_daily_data_points</th>\n",
              "      <th>dayOfWeek</th>\n",
              "      <th>day_type</th>\n",
              "      <th>BlueCars_taken_sum</th>\n",
              "      <th>BlueCars_returned_sum</th>\n",
              "      <th>Utilib_taken_sum</th>\n",
              "      <th>Utilib_returned_sum</th>\n",
              "      <th>Utilib_14_taken_sum</th>\n",
              "      <th>Utilib_14_returned_sum</th>\n",
              "      <th>Slots_freed_sum</th>\n",
              "      <th>Slots_taken_sum</th>\n",
              "    </tr>\n",
              "  </thead>\n",
              "  <tbody>\n",
              "    <tr>\n",
              "      <th>0</th>\n",
              "      <td>75001</td>\n",
              "      <td>1/1/2018</td>\n",
              "      <td>1440</td>\n",
              "      <td>0</td>\n",
              "      <td>weekday</td>\n",
              "      <td>110</td>\n",
              "      <td>103</td>\n",
              "      <td>3</td>\n",
              "      <td>2</td>\n",
              "      <td>10</td>\n",
              "      <td>9</td>\n",
              "      <td>22</td>\n",
              "      <td>20</td>\n",
              "    </tr>\n",
              "    <tr>\n",
              "      <th>1</th>\n",
              "      <td>75001</td>\n",
              "      <td>1/2/2018</td>\n",
              "      <td>1438</td>\n",
              "      <td>1</td>\n",
              "      <td>weekday</td>\n",
              "      <td>98</td>\n",
              "      <td>94</td>\n",
              "      <td>1</td>\n",
              "      <td>1</td>\n",
              "      <td>8</td>\n",
              "      <td>8</td>\n",
              "      <td>23</td>\n",
              "      <td>22</td>\n",
              "    </tr>\n",
              "    <tr>\n",
              "      <th>2</th>\n",
              "      <td>75001</td>\n",
              "      <td>1/3/2018</td>\n",
              "      <td>1439</td>\n",
              "      <td>2</td>\n",
              "      <td>weekday</td>\n",
              "      <td>138</td>\n",
              "      <td>139</td>\n",
              "      <td>0</td>\n",
              "      <td>0</td>\n",
              "      <td>2</td>\n",
              "      <td>2</td>\n",
              "      <td>27</td>\n",
              "      <td>27</td>\n",
              "    </tr>\n",
              "    <tr>\n",
              "      <th>3</th>\n",
              "      <td>75001</td>\n",
              "      <td>1/4/2018</td>\n",
              "      <td>1320</td>\n",
              "      <td>3</td>\n",
              "      <td>weekday</td>\n",
              "      <td>104</td>\n",
              "      <td>104</td>\n",
              "      <td>2</td>\n",
              "      <td>2</td>\n",
              "      <td>9</td>\n",
              "      <td>8</td>\n",
              "      <td>25</td>\n",
              "      <td>21</td>\n",
              "    </tr>\n",
              "    <tr>\n",
              "      <th>4</th>\n",
              "      <td>75001</td>\n",
              "      <td>1/5/2018</td>\n",
              "      <td>1440</td>\n",
              "      <td>4</td>\n",
              "      <td>weekday</td>\n",
              "      <td>114</td>\n",
              "      <td>117</td>\n",
              "      <td>3</td>\n",
              "      <td>3</td>\n",
              "      <td>6</td>\n",
              "      <td>6</td>\n",
              "      <td>18</td>\n",
              "      <td>20</td>\n",
              "    </tr>\n",
              "  </tbody>\n",
              "</table>\n",
              "</div>\n",
              "      <button class=\"colab-df-convert\" onclick=\"convertToInteractive('df-a53ae67a-aff7-461a-aa79-b709a720500b')\"\n",
              "              title=\"Convert this dataframe to an interactive table.\"\n",
              "              style=\"display:none;\">\n",
              "        \n",
              "  <svg xmlns=\"http://www.w3.org/2000/svg\" height=\"24px\"viewBox=\"0 0 24 24\"\n",
              "       width=\"24px\">\n",
              "    <path d=\"M0 0h24v24H0V0z\" fill=\"none\"/>\n",
              "    <path d=\"M18.56 5.44l.94 2.06.94-2.06 2.06-.94-2.06-.94-.94-2.06-.94 2.06-2.06.94zm-11 1L8.5 8.5l.94-2.06 2.06-.94-2.06-.94L8.5 2.5l-.94 2.06-2.06.94zm10 10l.94 2.06.94-2.06 2.06-.94-2.06-.94-.94-2.06-.94 2.06-2.06.94z\"/><path d=\"M17.41 7.96l-1.37-1.37c-.4-.4-.92-.59-1.43-.59-.52 0-1.04.2-1.43.59L10.3 9.45l-7.72 7.72c-.78.78-.78 2.05 0 2.83L4 21.41c.39.39.9.59 1.41.59.51 0 1.02-.2 1.41-.59l7.78-7.78 2.81-2.81c.8-.78.8-2.07 0-2.86zM5.41 20L4 18.59l7.72-7.72 1.47 1.35L5.41 20z\"/>\n",
              "  </svg>\n",
              "      </button>\n",
              "      \n",
              "  <style>\n",
              "    .colab-df-container {\n",
              "      display:flex;\n",
              "      flex-wrap:wrap;\n",
              "      gap: 12px;\n",
              "    }\n",
              "\n",
              "    .colab-df-convert {\n",
              "      background-color: #E8F0FE;\n",
              "      border: none;\n",
              "      border-radius: 50%;\n",
              "      cursor: pointer;\n",
              "      display: none;\n",
              "      fill: #1967D2;\n",
              "      height: 32px;\n",
              "      padding: 0 0 0 0;\n",
              "      width: 32px;\n",
              "    }\n",
              "\n",
              "    .colab-df-convert:hover {\n",
              "      background-color: #E2EBFA;\n",
              "      box-shadow: 0px 1px 2px rgba(60, 64, 67, 0.3), 0px 1px 3px 1px rgba(60, 64, 67, 0.15);\n",
              "      fill: #174EA6;\n",
              "    }\n",
              "\n",
              "    [theme=dark] .colab-df-convert {\n",
              "      background-color: #3B4455;\n",
              "      fill: #D2E3FC;\n",
              "    }\n",
              "\n",
              "    [theme=dark] .colab-df-convert:hover {\n",
              "      background-color: #434B5C;\n",
              "      box-shadow: 0px 1px 3px 1px rgba(0, 0, 0, 0.15);\n",
              "      filter: drop-shadow(0px 1px 2px rgba(0, 0, 0, 0.3));\n",
              "      fill: #FFFFFF;\n",
              "    }\n",
              "  </style>\n",
              "\n",
              "      <script>\n",
              "        const buttonEl =\n",
              "          document.querySelector('#df-a53ae67a-aff7-461a-aa79-b709a720500b button.colab-df-convert');\n",
              "        buttonEl.style.display =\n",
              "          google.colab.kernel.accessAllowed ? 'block' : 'none';\n",
              "\n",
              "        async function convertToInteractive(key) {\n",
              "          const element = document.querySelector('#df-a53ae67a-aff7-461a-aa79-b709a720500b');\n",
              "          const dataTable =\n",
              "            await google.colab.kernel.invokeFunction('convertToInteractive',\n",
              "                                                     [key], {});\n",
              "          if (!dataTable) return;\n",
              "\n",
              "          const docLinkHtml = 'Like what you see? Visit the ' +\n",
              "            '<a target=\"_blank\" href=https://colab.research.google.com/notebooks/data_table.ipynb>data table notebook</a>'\n",
              "            + ' to learn more about interactive tables.';\n",
              "          element.innerHTML = '';\n",
              "          dataTable['output_type'] = 'display_data';\n",
              "          await google.colab.output.renderOutput(dataTable, element);\n",
              "          const docLink = document.createElement('div');\n",
              "          docLink.innerHTML = docLinkHtml;\n",
              "          element.appendChild(docLink);\n",
              "        }\n",
              "      </script>\n",
              "    </div>\n",
              "  </div>\n",
              "  "
            ]
          },
          "metadata": {},
          "execution_count": 75
        }
      ]
    },
    {
      "cell_type": "code",
      "metadata": {
        "id": "e9AzGcZFrIIr",
        "colab": {
          "base_uri": "https://localhost:8080/",
          "height": 288
        },
        "outputId": "75765537-4364-4bcd-d1d2-5e412d9f4176"
      },
      "source": [
        "# Previewing the bottom of our dataset\n",
        "# \n",
        "df.tail()"
      ],
      "execution_count": null,
      "outputs": [
        {
          "output_type": "execute_result",
          "data": {
            "text/plain": [
              "       Postal code       date  n_daily_data_points  dayOfWeek day_type  \\\n",
              "16080        95880  6/15/2018                 1440          4  weekday   \n",
              "16081        95880  6/16/2018                 1440          5  weekend   \n",
              "16082        95880  6/17/2018                 1440          6  weekend   \n",
              "16083        95880  6/18/2018                 1440          0  weekday   \n",
              "16084        95880  6/19/2018                 1370          1  weekday   \n",
              "\n",
              "       BlueCars_taken_sum  BlueCars_returned_sum  Utilib_taken_sum  \\\n",
              "16080                  15                     10                 0   \n",
              "16081                  19                     19                 0   \n",
              "16082                  33                     35                 1   \n",
              "16083                  11                     14                 3   \n",
              "16084                   2                      2                 2   \n",
              "\n",
              "       Utilib_returned_sum  Utilib_14_taken_sum  Utilib_14_returned_sum  \\\n",
              "16080                    0                    2                       3   \n",
              "16081                    0                    2                       1   \n",
              "16082                    1                    0                       0   \n",
              "16083                    5                    2                       2   \n",
              "16084                    1                    0                       0   \n",
              "\n",
              "       Slots_freed_sum  Slots_taken_sum  \n",
              "16080                0                0  \n",
              "16081                0                0  \n",
              "16082                0                0  \n",
              "16083                0                0  \n",
              "16084                0                0  "
            ],
            "text/html": [
              "\n",
              "  <div id=\"df-7d5a829b-cd45-4a3e-9f1b-49bd08b9c4bb\">\n",
              "    <div class=\"colab-df-container\">\n",
              "      <div>\n",
              "<style scoped>\n",
              "    .dataframe tbody tr th:only-of-type {\n",
              "        vertical-align: middle;\n",
              "    }\n",
              "\n",
              "    .dataframe tbody tr th {\n",
              "        vertical-align: top;\n",
              "    }\n",
              "\n",
              "    .dataframe thead th {\n",
              "        text-align: right;\n",
              "    }\n",
              "</style>\n",
              "<table border=\"1\" class=\"dataframe\">\n",
              "  <thead>\n",
              "    <tr style=\"text-align: right;\">\n",
              "      <th></th>\n",
              "      <th>Postal code</th>\n",
              "      <th>date</th>\n",
              "      <th>n_daily_data_points</th>\n",
              "      <th>dayOfWeek</th>\n",
              "      <th>day_type</th>\n",
              "      <th>BlueCars_taken_sum</th>\n",
              "      <th>BlueCars_returned_sum</th>\n",
              "      <th>Utilib_taken_sum</th>\n",
              "      <th>Utilib_returned_sum</th>\n",
              "      <th>Utilib_14_taken_sum</th>\n",
              "      <th>Utilib_14_returned_sum</th>\n",
              "      <th>Slots_freed_sum</th>\n",
              "      <th>Slots_taken_sum</th>\n",
              "    </tr>\n",
              "  </thead>\n",
              "  <tbody>\n",
              "    <tr>\n",
              "      <th>16080</th>\n",
              "      <td>95880</td>\n",
              "      <td>6/15/2018</td>\n",
              "      <td>1440</td>\n",
              "      <td>4</td>\n",
              "      <td>weekday</td>\n",
              "      <td>15</td>\n",
              "      <td>10</td>\n",
              "      <td>0</td>\n",
              "      <td>0</td>\n",
              "      <td>2</td>\n",
              "      <td>3</td>\n",
              "      <td>0</td>\n",
              "      <td>0</td>\n",
              "    </tr>\n",
              "    <tr>\n",
              "      <th>16081</th>\n",
              "      <td>95880</td>\n",
              "      <td>6/16/2018</td>\n",
              "      <td>1440</td>\n",
              "      <td>5</td>\n",
              "      <td>weekend</td>\n",
              "      <td>19</td>\n",
              "      <td>19</td>\n",
              "      <td>0</td>\n",
              "      <td>0</td>\n",
              "      <td>2</td>\n",
              "      <td>1</td>\n",
              "      <td>0</td>\n",
              "      <td>0</td>\n",
              "    </tr>\n",
              "    <tr>\n",
              "      <th>16082</th>\n",
              "      <td>95880</td>\n",
              "      <td>6/17/2018</td>\n",
              "      <td>1440</td>\n",
              "      <td>6</td>\n",
              "      <td>weekend</td>\n",
              "      <td>33</td>\n",
              "      <td>35</td>\n",
              "      <td>1</td>\n",
              "      <td>1</td>\n",
              "      <td>0</td>\n",
              "      <td>0</td>\n",
              "      <td>0</td>\n",
              "      <td>0</td>\n",
              "    </tr>\n",
              "    <tr>\n",
              "      <th>16083</th>\n",
              "      <td>95880</td>\n",
              "      <td>6/18/2018</td>\n",
              "      <td>1440</td>\n",
              "      <td>0</td>\n",
              "      <td>weekday</td>\n",
              "      <td>11</td>\n",
              "      <td>14</td>\n",
              "      <td>3</td>\n",
              "      <td>5</td>\n",
              "      <td>2</td>\n",
              "      <td>2</td>\n",
              "      <td>0</td>\n",
              "      <td>0</td>\n",
              "    </tr>\n",
              "    <tr>\n",
              "      <th>16084</th>\n",
              "      <td>95880</td>\n",
              "      <td>6/19/2018</td>\n",
              "      <td>1370</td>\n",
              "      <td>1</td>\n",
              "      <td>weekday</td>\n",
              "      <td>2</td>\n",
              "      <td>2</td>\n",
              "      <td>2</td>\n",
              "      <td>1</td>\n",
              "      <td>0</td>\n",
              "      <td>0</td>\n",
              "      <td>0</td>\n",
              "      <td>0</td>\n",
              "    </tr>\n",
              "  </tbody>\n",
              "</table>\n",
              "</div>\n",
              "      <button class=\"colab-df-convert\" onclick=\"convertToInteractive('df-7d5a829b-cd45-4a3e-9f1b-49bd08b9c4bb')\"\n",
              "              title=\"Convert this dataframe to an interactive table.\"\n",
              "              style=\"display:none;\">\n",
              "        \n",
              "  <svg xmlns=\"http://www.w3.org/2000/svg\" height=\"24px\"viewBox=\"0 0 24 24\"\n",
              "       width=\"24px\">\n",
              "    <path d=\"M0 0h24v24H0V0z\" fill=\"none\"/>\n",
              "    <path d=\"M18.56 5.44l.94 2.06.94-2.06 2.06-.94-2.06-.94-.94-2.06-.94 2.06-2.06.94zm-11 1L8.5 8.5l.94-2.06 2.06-.94-2.06-.94L8.5 2.5l-.94 2.06-2.06.94zm10 10l.94 2.06.94-2.06 2.06-.94-2.06-.94-.94-2.06-.94 2.06-2.06.94z\"/><path d=\"M17.41 7.96l-1.37-1.37c-.4-.4-.92-.59-1.43-.59-.52 0-1.04.2-1.43.59L10.3 9.45l-7.72 7.72c-.78.78-.78 2.05 0 2.83L4 21.41c.39.39.9.59 1.41.59.51 0 1.02-.2 1.41-.59l7.78-7.78 2.81-2.81c.8-.78.8-2.07 0-2.86zM5.41 20L4 18.59l7.72-7.72 1.47 1.35L5.41 20z\"/>\n",
              "  </svg>\n",
              "      </button>\n",
              "      \n",
              "  <style>\n",
              "    .colab-df-container {\n",
              "      display:flex;\n",
              "      flex-wrap:wrap;\n",
              "      gap: 12px;\n",
              "    }\n",
              "\n",
              "    .colab-df-convert {\n",
              "      background-color: #E8F0FE;\n",
              "      border: none;\n",
              "      border-radius: 50%;\n",
              "      cursor: pointer;\n",
              "      display: none;\n",
              "      fill: #1967D2;\n",
              "      height: 32px;\n",
              "      padding: 0 0 0 0;\n",
              "      width: 32px;\n",
              "    }\n",
              "\n",
              "    .colab-df-convert:hover {\n",
              "      background-color: #E2EBFA;\n",
              "      box-shadow: 0px 1px 2px rgba(60, 64, 67, 0.3), 0px 1px 3px 1px rgba(60, 64, 67, 0.15);\n",
              "      fill: #174EA6;\n",
              "    }\n",
              "\n",
              "    [theme=dark] .colab-df-convert {\n",
              "      background-color: #3B4455;\n",
              "      fill: #D2E3FC;\n",
              "    }\n",
              "\n",
              "    [theme=dark] .colab-df-convert:hover {\n",
              "      background-color: #434B5C;\n",
              "      box-shadow: 0px 1px 3px 1px rgba(0, 0, 0, 0.15);\n",
              "      filter: drop-shadow(0px 1px 2px rgba(0, 0, 0, 0.3));\n",
              "      fill: #FFFFFF;\n",
              "    }\n",
              "  </style>\n",
              "\n",
              "      <script>\n",
              "        const buttonEl =\n",
              "          document.querySelector('#df-7d5a829b-cd45-4a3e-9f1b-49bd08b9c4bb button.colab-df-convert');\n",
              "        buttonEl.style.display =\n",
              "          google.colab.kernel.accessAllowed ? 'block' : 'none';\n",
              "\n",
              "        async function convertToInteractive(key) {\n",
              "          const element = document.querySelector('#df-7d5a829b-cd45-4a3e-9f1b-49bd08b9c4bb');\n",
              "          const dataTable =\n",
              "            await google.colab.kernel.invokeFunction('convertToInteractive',\n",
              "                                                     [key], {});\n",
              "          if (!dataTable) return;\n",
              "\n",
              "          const docLinkHtml = 'Like what you see? Visit the ' +\n",
              "            '<a target=\"_blank\" href=https://colab.research.google.com/notebooks/data_table.ipynb>data table notebook</a>'\n",
              "            + ' to learn more about interactive tables.';\n",
              "          element.innerHTML = '';\n",
              "          dataTable['output_type'] = 'display_data';\n",
              "          await google.colab.output.renderOutput(dataTable, element);\n",
              "          const docLink = document.createElement('div');\n",
              "          docLink.innerHTML = docLinkHtml;\n",
              "          element.appendChild(docLink);\n",
              "        }\n",
              "      </script>\n",
              "    </div>\n",
              "  </div>\n",
              "  "
            ]
          },
          "metadata": {},
          "execution_count": 76
        }
      ]
    },
    {
      "cell_type": "code",
      "metadata": {
        "id": "n8-dW4sQWzbc",
        "colab": {
          "base_uri": "https://localhost:8080/"
        },
        "outputId": "6d3ac70d-4f27-4ab0-bb0f-71c49b242645"
      },
      "source": [
        "# Checking whether each column has an appropriate datatype\n",
        "#\n",
        "df.info()"
      ],
      "execution_count": null,
      "outputs": [
        {
          "output_type": "stream",
          "name": "stdout",
          "text": [
            "<class 'pandas.core.frame.DataFrame'>\n",
            "RangeIndex: 16085 entries, 0 to 16084\n",
            "Data columns (total 13 columns):\n",
            " #   Column                  Non-Null Count  Dtype \n",
            "---  ------                  --------------  ----- \n",
            " 0   Postal code             16085 non-null  int64 \n",
            " 1   date                    16085 non-null  object\n",
            " 2   n_daily_data_points     16085 non-null  int64 \n",
            " 3   dayOfWeek               16085 non-null  int64 \n",
            " 4   day_type                16085 non-null  object\n",
            " 5   BlueCars_taken_sum      16085 non-null  int64 \n",
            " 6   BlueCars_returned_sum   16085 non-null  int64 \n",
            " 7   Utilib_taken_sum        16085 non-null  int64 \n",
            " 8   Utilib_returned_sum     16085 non-null  int64 \n",
            " 9   Utilib_14_taken_sum     16085 non-null  int64 \n",
            " 10  Utilib_14_returned_sum  16085 non-null  int64 \n",
            " 11  Slots_freed_sum         16085 non-null  int64 \n",
            " 12  Slots_taken_sum         16085 non-null  int64 \n",
            "dtypes: int64(11), object(2)\n",
            "memory usage: 1.6+ MB\n"
          ]
        }
      ]
    },
    {
      "cell_type": "code",
      "source": [
        "df[['BlueCars_taken_sum',\t'BlueCars_returned_sum',\t'Utilib_taken_sum',\t'Utilib_returned_sum',\t'Utilib_14_taken_sum',\t'Utilib_14_returned_sum',\t'Slots_freed_sum',\t'Slots_taken_sum']].describe()"
      ],
      "metadata": {
        "colab": {
          "base_uri": "https://localhost:8080/",
          "height": 364
        },
        "id": "B1bDJ2PoJ-on",
        "outputId": "0f51e3c3-ec0b-494f-a65d-086ed8160e56"
      },
      "execution_count": null,
      "outputs": [
        {
          "output_type": "execute_result",
          "data": {
            "text/plain": [
              "       BlueCars_taken_sum  BlueCars_returned_sum  Utilib_taken_sum  \\\n",
              "count        16085.000000           16085.000000      16085.000000   \n",
              "mean           125.926951             125.912714          3.698290   \n",
              "std            185.426579             185.501535          5.815058   \n",
              "min              0.000000               0.000000          0.000000   \n",
              "25%             20.000000              20.000000          0.000000   \n",
              "50%             46.000000              46.000000          1.000000   \n",
              "75%            135.000000             135.000000          4.000000   \n",
              "max           1352.000000            1332.000000         54.000000   \n",
              "\n",
              "       Utilib_returned_sum  Utilib_14_taken_sum  Utilib_14_returned_sum  \\\n",
              "count         16085.000000         16085.000000            16085.000000   \n",
              "mean              3.699099             8.600560                8.599192   \n",
              "std               5.824634            12.870098               12.868993   \n",
              "min               0.000000             0.000000                0.000000   \n",
              "25%               0.000000             1.000000                1.000000   \n",
              "50%               1.000000             3.000000                3.000000   \n",
              "75%               4.000000            10.000000               10.000000   \n",
              "max              58.000000           100.000000              101.000000   \n",
              "\n",
              "       Slots_freed_sum  Slots_taken_sum  \n",
              "count     16085.000000     16085.000000  \n",
              "mean         22.629033        22.629282  \n",
              "std          52.120263        52.146030  \n",
              "min           0.000000         0.000000  \n",
              "25%           0.000000         0.000000  \n",
              "50%           0.000000         0.000000  \n",
              "75%           5.000000         5.000000  \n",
              "max         360.000000       359.000000  "
            ],
            "text/html": [
              "\n",
              "  <div id=\"df-a1394e56-8c68-4d03-9ee4-5058a8d0015f\">\n",
              "    <div class=\"colab-df-container\">\n",
              "      <div>\n",
              "<style scoped>\n",
              "    .dataframe tbody tr th:only-of-type {\n",
              "        vertical-align: middle;\n",
              "    }\n",
              "\n",
              "    .dataframe tbody tr th {\n",
              "        vertical-align: top;\n",
              "    }\n",
              "\n",
              "    .dataframe thead th {\n",
              "        text-align: right;\n",
              "    }\n",
              "</style>\n",
              "<table border=\"1\" class=\"dataframe\">\n",
              "  <thead>\n",
              "    <tr style=\"text-align: right;\">\n",
              "      <th></th>\n",
              "      <th>BlueCars_taken_sum</th>\n",
              "      <th>BlueCars_returned_sum</th>\n",
              "      <th>Utilib_taken_sum</th>\n",
              "      <th>Utilib_returned_sum</th>\n",
              "      <th>Utilib_14_taken_sum</th>\n",
              "      <th>Utilib_14_returned_sum</th>\n",
              "      <th>Slots_freed_sum</th>\n",
              "      <th>Slots_taken_sum</th>\n",
              "    </tr>\n",
              "  </thead>\n",
              "  <tbody>\n",
              "    <tr>\n",
              "      <th>count</th>\n",
              "      <td>16085.000000</td>\n",
              "      <td>16085.000000</td>\n",
              "      <td>16085.000000</td>\n",
              "      <td>16085.000000</td>\n",
              "      <td>16085.000000</td>\n",
              "      <td>16085.000000</td>\n",
              "      <td>16085.000000</td>\n",
              "      <td>16085.000000</td>\n",
              "    </tr>\n",
              "    <tr>\n",
              "      <th>mean</th>\n",
              "      <td>125.926951</td>\n",
              "      <td>125.912714</td>\n",
              "      <td>3.698290</td>\n",
              "      <td>3.699099</td>\n",
              "      <td>8.600560</td>\n",
              "      <td>8.599192</td>\n",
              "      <td>22.629033</td>\n",
              "      <td>22.629282</td>\n",
              "    </tr>\n",
              "    <tr>\n",
              "      <th>std</th>\n",
              "      <td>185.426579</td>\n",
              "      <td>185.501535</td>\n",
              "      <td>5.815058</td>\n",
              "      <td>5.824634</td>\n",
              "      <td>12.870098</td>\n",
              "      <td>12.868993</td>\n",
              "      <td>52.120263</td>\n",
              "      <td>52.146030</td>\n",
              "    </tr>\n",
              "    <tr>\n",
              "      <th>min</th>\n",
              "      <td>0.000000</td>\n",
              "      <td>0.000000</td>\n",
              "      <td>0.000000</td>\n",
              "      <td>0.000000</td>\n",
              "      <td>0.000000</td>\n",
              "      <td>0.000000</td>\n",
              "      <td>0.000000</td>\n",
              "      <td>0.000000</td>\n",
              "    </tr>\n",
              "    <tr>\n",
              "      <th>25%</th>\n",
              "      <td>20.000000</td>\n",
              "      <td>20.000000</td>\n",
              "      <td>0.000000</td>\n",
              "      <td>0.000000</td>\n",
              "      <td>1.000000</td>\n",
              "      <td>1.000000</td>\n",
              "      <td>0.000000</td>\n",
              "      <td>0.000000</td>\n",
              "    </tr>\n",
              "    <tr>\n",
              "      <th>50%</th>\n",
              "      <td>46.000000</td>\n",
              "      <td>46.000000</td>\n",
              "      <td>1.000000</td>\n",
              "      <td>1.000000</td>\n",
              "      <td>3.000000</td>\n",
              "      <td>3.000000</td>\n",
              "      <td>0.000000</td>\n",
              "      <td>0.000000</td>\n",
              "    </tr>\n",
              "    <tr>\n",
              "      <th>75%</th>\n",
              "      <td>135.000000</td>\n",
              "      <td>135.000000</td>\n",
              "      <td>4.000000</td>\n",
              "      <td>4.000000</td>\n",
              "      <td>10.000000</td>\n",
              "      <td>10.000000</td>\n",
              "      <td>5.000000</td>\n",
              "      <td>5.000000</td>\n",
              "    </tr>\n",
              "    <tr>\n",
              "      <th>max</th>\n",
              "      <td>1352.000000</td>\n",
              "      <td>1332.000000</td>\n",
              "      <td>54.000000</td>\n",
              "      <td>58.000000</td>\n",
              "      <td>100.000000</td>\n",
              "      <td>101.000000</td>\n",
              "      <td>360.000000</td>\n",
              "      <td>359.000000</td>\n",
              "    </tr>\n",
              "  </tbody>\n",
              "</table>\n",
              "</div>\n",
              "      <button class=\"colab-df-convert\" onclick=\"convertToInteractive('df-a1394e56-8c68-4d03-9ee4-5058a8d0015f')\"\n",
              "              title=\"Convert this dataframe to an interactive table.\"\n",
              "              style=\"display:none;\">\n",
              "        \n",
              "  <svg xmlns=\"http://www.w3.org/2000/svg\" height=\"24px\"viewBox=\"0 0 24 24\"\n",
              "       width=\"24px\">\n",
              "    <path d=\"M0 0h24v24H0V0z\" fill=\"none\"/>\n",
              "    <path d=\"M18.56 5.44l.94 2.06.94-2.06 2.06-.94-2.06-.94-.94-2.06-.94 2.06-2.06.94zm-11 1L8.5 8.5l.94-2.06 2.06-.94-2.06-.94L8.5 2.5l-.94 2.06-2.06.94zm10 10l.94 2.06.94-2.06 2.06-.94-2.06-.94-.94-2.06-.94 2.06-2.06.94z\"/><path d=\"M17.41 7.96l-1.37-1.37c-.4-.4-.92-.59-1.43-.59-.52 0-1.04.2-1.43.59L10.3 9.45l-7.72 7.72c-.78.78-.78 2.05 0 2.83L4 21.41c.39.39.9.59 1.41.59.51 0 1.02-.2 1.41-.59l7.78-7.78 2.81-2.81c.8-.78.8-2.07 0-2.86zM5.41 20L4 18.59l7.72-7.72 1.47 1.35L5.41 20z\"/>\n",
              "  </svg>\n",
              "      </button>\n",
              "      \n",
              "  <style>\n",
              "    .colab-df-container {\n",
              "      display:flex;\n",
              "      flex-wrap:wrap;\n",
              "      gap: 12px;\n",
              "    }\n",
              "\n",
              "    .colab-df-convert {\n",
              "      background-color: #E8F0FE;\n",
              "      border: none;\n",
              "      border-radius: 50%;\n",
              "      cursor: pointer;\n",
              "      display: none;\n",
              "      fill: #1967D2;\n",
              "      height: 32px;\n",
              "      padding: 0 0 0 0;\n",
              "      width: 32px;\n",
              "    }\n",
              "\n",
              "    .colab-df-convert:hover {\n",
              "      background-color: #E2EBFA;\n",
              "      box-shadow: 0px 1px 2px rgba(60, 64, 67, 0.3), 0px 1px 3px 1px rgba(60, 64, 67, 0.15);\n",
              "      fill: #174EA6;\n",
              "    }\n",
              "\n",
              "    [theme=dark] .colab-df-convert {\n",
              "      background-color: #3B4455;\n",
              "      fill: #D2E3FC;\n",
              "    }\n",
              "\n",
              "    [theme=dark] .colab-df-convert:hover {\n",
              "      background-color: #434B5C;\n",
              "      box-shadow: 0px 1px 3px 1px rgba(0, 0, 0, 0.15);\n",
              "      filter: drop-shadow(0px 1px 2px rgba(0, 0, 0, 0.3));\n",
              "      fill: #FFFFFF;\n",
              "    }\n",
              "  </style>\n",
              "\n",
              "      <script>\n",
              "        const buttonEl =\n",
              "          document.querySelector('#df-a1394e56-8c68-4d03-9ee4-5058a8d0015f button.colab-df-convert');\n",
              "        buttonEl.style.display =\n",
              "          google.colab.kernel.accessAllowed ? 'block' : 'none';\n",
              "\n",
              "        async function convertToInteractive(key) {\n",
              "          const element = document.querySelector('#df-a1394e56-8c68-4d03-9ee4-5058a8d0015f');\n",
              "          const dataTable =\n",
              "            await google.colab.kernel.invokeFunction('convertToInteractive',\n",
              "                                                     [key], {});\n",
              "          if (!dataTable) return;\n",
              "\n",
              "          const docLinkHtml = 'Like what you see? Visit the ' +\n",
              "            '<a target=\"_blank\" href=https://colab.research.google.com/notebooks/data_table.ipynb>data table notebook</a>'\n",
              "            + ' to learn more about interactive tables.';\n",
              "          element.innerHTML = '';\n",
              "          dataTable['output_type'] = 'display_data';\n",
              "          await google.colab.output.renderOutput(dataTable, element);\n",
              "          const docLink = document.createElement('div');\n",
              "          docLink.innerHTML = docLinkHtml;\n",
              "          element.appendChild(docLink);\n",
              "        }\n",
              "      </script>\n",
              "    </div>\n",
              "  </div>\n",
              "  "
            ]
          },
          "metadata": {},
          "execution_count": 183
        }
      ]
    },
    {
      "cell_type": "markdown",
      "metadata": {
        "id": "FlBMxEDBUc9B"
      },
      "source": [
        "## 4. Tidying the Dataset"
      ]
    },
    {
      "cell_type": "code",
      "source": [
        "df.columns"
      ],
      "metadata": {
        "colab": {
          "base_uri": "https://localhost:8080/"
        },
        "id": "d8ly_Fa3_6Vj",
        "outputId": "4b2934df-4359-4a92-97ba-4963053e4dfb"
      },
      "execution_count": null,
      "outputs": [
        {
          "output_type": "execute_result",
          "data": {
            "text/plain": [
              "Index(['Postal code', 'date', 'n_daily_data_points', 'dayOfWeek', 'day_type',\n",
              "       'BlueCars_taken_sum', 'BlueCars_returned_sum', 'Utilib_taken_sum',\n",
              "       'Utilib_returned_sum', 'Utilib_14_taken_sum', 'Utilib_14_returned_sum',\n",
              "       'Slots_freed_sum', 'Slots_taken_sum'],\n",
              "      dtype='object')"
            ]
          },
          "metadata": {},
          "execution_count": 78
        }
      ]
    },
    {
      "cell_type": "code",
      "source": [
        "# #dropping unnecessary columns\n",
        "\n",
        "# df.drop(columns=['year', 'uniqueid'], inplace=True)\n"
      ],
      "metadata": {
        "id": "x8QTLxumJVdU"
      },
      "execution_count": null,
      "outputs": []
    },
    {
      "cell_type": "code",
      "metadata": {
        "id": "PvCYb6dgW4yh",
        "colab": {
          "base_uri": "https://localhost:8080/"
        },
        "outputId": "da08fdda-4735-4d51-e488-df1a757fa6e9"
      },
      "source": [
        "# Identifying missing data\n",
        "#\n",
        "df.isnull().sum()\n",
        "#There were no columns with missing values"
      ],
      "execution_count": null,
      "outputs": [
        {
          "output_type": "execute_result",
          "data": {
            "text/plain": [
              "Postal code               0\n",
              "date                      0\n",
              "n_daily_data_points       0\n",
              "dayOfWeek                 0\n",
              "day_type                  0\n",
              "BlueCars_taken_sum        0\n",
              "BlueCars_returned_sum     0\n",
              "Utilib_taken_sum          0\n",
              "Utilib_returned_sum       0\n",
              "Utilib_14_taken_sum       0\n",
              "Utilib_14_returned_sum    0\n",
              "Slots_freed_sum           0\n",
              "Slots_taken_sum           0\n",
              "dtype: int64"
            ]
          },
          "metadata": {},
          "execution_count": 80
        }
      ]
    },
    {
      "cell_type": "code",
      "source": [
        "#Checking for duplicates\n",
        "df.duplicated().sum()\n",
        "#there were no duplicates found in the dataset"
      ],
      "metadata": {
        "colab": {
          "base_uri": "https://localhost:8080/"
        },
        "id": "mksiQO99M1Ao",
        "outputId": "2803bf1a-f446-4d53-b8df-687ae95c83da"
      },
      "execution_count": null,
      "outputs": [
        {
          "output_type": "execute_result",
          "data": {
            "text/plain": [
              "0"
            ]
          },
          "metadata": {},
          "execution_count": 81
        }
      ]
    },
    {
      "cell_type": "code",
      "source": [
        "df.head(1)"
      ],
      "metadata": {
        "colab": {
          "base_uri": "https://localhost:8080/",
          "height": 162
        },
        "id": "euf_CxoMYx2q",
        "outputId": "a3cb3dfd-e7f1-4f63-9c3b-74e6567612ac"
      },
      "execution_count": null,
      "outputs": [
        {
          "output_type": "execute_result",
          "data": {
            "text/plain": [
              "   Postal code      date  n_daily_data_points  dayOfWeek day_type  \\\n",
              "0        75001  1/1/2018                 1440          0  weekday   \n",
              "\n",
              "   BlueCars_taken_sum  BlueCars_returned_sum  Utilib_taken_sum  \\\n",
              "0                 110                    103                 3   \n",
              "\n",
              "   Utilib_returned_sum  Utilib_14_taken_sum  Utilib_14_returned_sum  \\\n",
              "0                    2                   10                       9   \n",
              "\n",
              "   Slots_freed_sum  Slots_taken_sum  \n",
              "0               22               20  "
            ],
            "text/html": [
              "\n",
              "  <div id=\"df-352de58b-79d2-451e-b386-d2d76a9aeede\">\n",
              "    <div class=\"colab-df-container\">\n",
              "      <div>\n",
              "<style scoped>\n",
              "    .dataframe tbody tr th:only-of-type {\n",
              "        vertical-align: middle;\n",
              "    }\n",
              "\n",
              "    .dataframe tbody tr th {\n",
              "        vertical-align: top;\n",
              "    }\n",
              "\n",
              "    .dataframe thead th {\n",
              "        text-align: right;\n",
              "    }\n",
              "</style>\n",
              "<table border=\"1\" class=\"dataframe\">\n",
              "  <thead>\n",
              "    <tr style=\"text-align: right;\">\n",
              "      <th></th>\n",
              "      <th>Postal code</th>\n",
              "      <th>date</th>\n",
              "      <th>n_daily_data_points</th>\n",
              "      <th>dayOfWeek</th>\n",
              "      <th>day_type</th>\n",
              "      <th>BlueCars_taken_sum</th>\n",
              "      <th>BlueCars_returned_sum</th>\n",
              "      <th>Utilib_taken_sum</th>\n",
              "      <th>Utilib_returned_sum</th>\n",
              "      <th>Utilib_14_taken_sum</th>\n",
              "      <th>Utilib_14_returned_sum</th>\n",
              "      <th>Slots_freed_sum</th>\n",
              "      <th>Slots_taken_sum</th>\n",
              "    </tr>\n",
              "  </thead>\n",
              "  <tbody>\n",
              "    <tr>\n",
              "      <th>0</th>\n",
              "      <td>75001</td>\n",
              "      <td>1/1/2018</td>\n",
              "      <td>1440</td>\n",
              "      <td>0</td>\n",
              "      <td>weekday</td>\n",
              "      <td>110</td>\n",
              "      <td>103</td>\n",
              "      <td>3</td>\n",
              "      <td>2</td>\n",
              "      <td>10</td>\n",
              "      <td>9</td>\n",
              "      <td>22</td>\n",
              "      <td>20</td>\n",
              "    </tr>\n",
              "  </tbody>\n",
              "</table>\n",
              "</div>\n",
              "      <button class=\"colab-df-convert\" onclick=\"convertToInteractive('df-352de58b-79d2-451e-b386-d2d76a9aeede')\"\n",
              "              title=\"Convert this dataframe to an interactive table.\"\n",
              "              style=\"display:none;\">\n",
              "        \n",
              "  <svg xmlns=\"http://www.w3.org/2000/svg\" height=\"24px\"viewBox=\"0 0 24 24\"\n",
              "       width=\"24px\">\n",
              "    <path d=\"M0 0h24v24H0V0z\" fill=\"none\"/>\n",
              "    <path d=\"M18.56 5.44l.94 2.06.94-2.06 2.06-.94-2.06-.94-.94-2.06-.94 2.06-2.06.94zm-11 1L8.5 8.5l.94-2.06 2.06-.94-2.06-.94L8.5 2.5l-.94 2.06-2.06.94zm10 10l.94 2.06.94-2.06 2.06-.94-2.06-.94-.94-2.06-.94 2.06-2.06.94z\"/><path d=\"M17.41 7.96l-1.37-1.37c-.4-.4-.92-.59-1.43-.59-.52 0-1.04.2-1.43.59L10.3 9.45l-7.72 7.72c-.78.78-.78 2.05 0 2.83L4 21.41c.39.39.9.59 1.41.59.51 0 1.02-.2 1.41-.59l7.78-7.78 2.81-2.81c.8-.78.8-2.07 0-2.86zM5.41 20L4 18.59l7.72-7.72 1.47 1.35L5.41 20z\"/>\n",
              "  </svg>\n",
              "      </button>\n",
              "      \n",
              "  <style>\n",
              "    .colab-df-container {\n",
              "      display:flex;\n",
              "      flex-wrap:wrap;\n",
              "      gap: 12px;\n",
              "    }\n",
              "\n",
              "    .colab-df-convert {\n",
              "      background-color: #E8F0FE;\n",
              "      border: none;\n",
              "      border-radius: 50%;\n",
              "      cursor: pointer;\n",
              "      display: none;\n",
              "      fill: #1967D2;\n",
              "      height: 32px;\n",
              "      padding: 0 0 0 0;\n",
              "      width: 32px;\n",
              "    }\n",
              "\n",
              "    .colab-df-convert:hover {\n",
              "      background-color: #E2EBFA;\n",
              "      box-shadow: 0px 1px 2px rgba(60, 64, 67, 0.3), 0px 1px 3px 1px rgba(60, 64, 67, 0.15);\n",
              "      fill: #174EA6;\n",
              "    }\n",
              "\n",
              "    [theme=dark] .colab-df-convert {\n",
              "      background-color: #3B4455;\n",
              "      fill: #D2E3FC;\n",
              "    }\n",
              "\n",
              "    [theme=dark] .colab-df-convert:hover {\n",
              "      background-color: #434B5C;\n",
              "      box-shadow: 0px 1px 3px 1px rgba(0, 0, 0, 0.15);\n",
              "      filter: drop-shadow(0px 1px 2px rgba(0, 0, 0, 0.3));\n",
              "      fill: #FFFFFF;\n",
              "    }\n",
              "  </style>\n",
              "\n",
              "      <script>\n",
              "        const buttonEl =\n",
              "          document.querySelector('#df-352de58b-79d2-451e-b386-d2d76a9aeede button.colab-df-convert');\n",
              "        buttonEl.style.display =\n",
              "          google.colab.kernel.accessAllowed ? 'block' : 'none';\n",
              "\n",
              "        async function convertToInteractive(key) {\n",
              "          const element = document.querySelector('#df-352de58b-79d2-451e-b386-d2d76a9aeede');\n",
              "          const dataTable =\n",
              "            await google.colab.kernel.invokeFunction('convertToInteractive',\n",
              "                                                     [key], {});\n",
              "          if (!dataTable) return;\n",
              "\n",
              "          const docLinkHtml = 'Like what you see? Visit the ' +\n",
              "            '<a target=\"_blank\" href=https://colab.research.google.com/notebooks/data_table.ipynb>data table notebook</a>'\n",
              "            + ' to learn more about interactive tables.';\n",
              "          element.innerHTML = '';\n",
              "          dataTable['output_type'] = 'display_data';\n",
              "          await google.colab.output.renderOutput(dataTable, element);\n",
              "          const docLink = document.createElement('div');\n",
              "          docLink.innerHTML = docLinkHtml;\n",
              "          element.appendChild(docLink);\n",
              "        }\n",
              "      </script>\n",
              "    </div>\n",
              "  </div>\n",
              "  "
            ]
          },
          "metadata": {},
          "execution_count": 82
        }
      ]
    },
    {
      "cell_type": "code",
      "source": [
        "# standardizing column names\n",
        "df.columns = df.columns.str.lower().str.replace(' ', '_')"
      ],
      "metadata": {
        "id": "JGJf4mdapAYs"
      },
      "execution_count": null,
      "outputs": []
    },
    {
      "cell_type": "code",
      "source": [
        "df.head(1)"
      ],
      "metadata": {
        "colab": {
          "base_uri": "https://localhost:8080/",
          "height": 145
        },
        "id": "XVB1TcZRphzh",
        "outputId": "97d46354-34b3-405a-dba7-db8c36ac5289"
      },
      "execution_count": null,
      "outputs": [
        {
          "output_type": "execute_result",
          "data": {
            "text/plain": [
              "   postal_code      date  n_daily_data_points  dayofweek day_type  \\\n",
              "0        75001  1/1/2018                 1440          0  weekday   \n",
              "\n",
              "   bluecars_taken_sum  bluecars_returned_sum  utilib_taken_sum  \\\n",
              "0                 110                    103                 3   \n",
              "\n",
              "   utilib_returned_sum  utilib_14_taken_sum  utilib_14_returned_sum  \\\n",
              "0                    2                   10                       9   \n",
              "\n",
              "   slots_freed_sum  slots_taken_sum  \n",
              "0               22               20  "
            ],
            "text/html": [
              "\n",
              "  <div id=\"df-59b99ae2-4b2f-40cc-b9a4-7a03f3b7f6de\">\n",
              "    <div class=\"colab-df-container\">\n",
              "      <div>\n",
              "<style scoped>\n",
              "    .dataframe tbody tr th:only-of-type {\n",
              "        vertical-align: middle;\n",
              "    }\n",
              "\n",
              "    .dataframe tbody tr th {\n",
              "        vertical-align: top;\n",
              "    }\n",
              "\n",
              "    .dataframe thead th {\n",
              "        text-align: right;\n",
              "    }\n",
              "</style>\n",
              "<table border=\"1\" class=\"dataframe\">\n",
              "  <thead>\n",
              "    <tr style=\"text-align: right;\">\n",
              "      <th></th>\n",
              "      <th>postal_code</th>\n",
              "      <th>date</th>\n",
              "      <th>n_daily_data_points</th>\n",
              "      <th>dayofweek</th>\n",
              "      <th>day_type</th>\n",
              "      <th>bluecars_taken_sum</th>\n",
              "      <th>bluecars_returned_sum</th>\n",
              "      <th>utilib_taken_sum</th>\n",
              "      <th>utilib_returned_sum</th>\n",
              "      <th>utilib_14_taken_sum</th>\n",
              "      <th>utilib_14_returned_sum</th>\n",
              "      <th>slots_freed_sum</th>\n",
              "      <th>slots_taken_sum</th>\n",
              "    </tr>\n",
              "  </thead>\n",
              "  <tbody>\n",
              "    <tr>\n",
              "      <th>0</th>\n",
              "      <td>75001</td>\n",
              "      <td>1/1/2018</td>\n",
              "      <td>1440</td>\n",
              "      <td>0</td>\n",
              "      <td>weekday</td>\n",
              "      <td>110</td>\n",
              "      <td>103</td>\n",
              "      <td>3</td>\n",
              "      <td>2</td>\n",
              "      <td>10</td>\n",
              "      <td>9</td>\n",
              "      <td>22</td>\n",
              "      <td>20</td>\n",
              "    </tr>\n",
              "  </tbody>\n",
              "</table>\n",
              "</div>\n",
              "      <button class=\"colab-df-convert\" onclick=\"convertToInteractive('df-59b99ae2-4b2f-40cc-b9a4-7a03f3b7f6de')\"\n",
              "              title=\"Convert this dataframe to an interactive table.\"\n",
              "              style=\"display:none;\">\n",
              "        \n",
              "  <svg xmlns=\"http://www.w3.org/2000/svg\" height=\"24px\"viewBox=\"0 0 24 24\"\n",
              "       width=\"24px\">\n",
              "    <path d=\"M0 0h24v24H0V0z\" fill=\"none\"/>\n",
              "    <path d=\"M18.56 5.44l.94 2.06.94-2.06 2.06-.94-2.06-.94-.94-2.06-.94 2.06-2.06.94zm-11 1L8.5 8.5l.94-2.06 2.06-.94-2.06-.94L8.5 2.5l-.94 2.06-2.06.94zm10 10l.94 2.06.94-2.06 2.06-.94-2.06-.94-.94-2.06-.94 2.06-2.06.94z\"/><path d=\"M17.41 7.96l-1.37-1.37c-.4-.4-.92-.59-1.43-.59-.52 0-1.04.2-1.43.59L10.3 9.45l-7.72 7.72c-.78.78-.78 2.05 0 2.83L4 21.41c.39.39.9.59 1.41.59.51 0 1.02-.2 1.41-.59l7.78-7.78 2.81-2.81c.8-.78.8-2.07 0-2.86zM5.41 20L4 18.59l7.72-7.72 1.47 1.35L5.41 20z\"/>\n",
              "  </svg>\n",
              "      </button>\n",
              "      \n",
              "  <style>\n",
              "    .colab-df-container {\n",
              "      display:flex;\n",
              "      flex-wrap:wrap;\n",
              "      gap: 12px;\n",
              "    }\n",
              "\n",
              "    .colab-df-convert {\n",
              "      background-color: #E8F0FE;\n",
              "      border: none;\n",
              "      border-radius: 50%;\n",
              "      cursor: pointer;\n",
              "      display: none;\n",
              "      fill: #1967D2;\n",
              "      height: 32px;\n",
              "      padding: 0 0 0 0;\n",
              "      width: 32px;\n",
              "    }\n",
              "\n",
              "    .colab-df-convert:hover {\n",
              "      background-color: #E2EBFA;\n",
              "      box-shadow: 0px 1px 2px rgba(60, 64, 67, 0.3), 0px 1px 3px 1px rgba(60, 64, 67, 0.15);\n",
              "      fill: #174EA6;\n",
              "    }\n",
              "\n",
              "    [theme=dark] .colab-df-convert {\n",
              "      background-color: #3B4455;\n",
              "      fill: #D2E3FC;\n",
              "    }\n",
              "\n",
              "    [theme=dark] .colab-df-convert:hover {\n",
              "      background-color: #434B5C;\n",
              "      box-shadow: 0px 1px 3px 1px rgba(0, 0, 0, 0.15);\n",
              "      filter: drop-shadow(0px 1px 2px rgba(0, 0, 0, 0.3));\n",
              "      fill: #FFFFFF;\n",
              "    }\n",
              "  </style>\n",
              "\n",
              "      <script>\n",
              "        const buttonEl =\n",
              "          document.querySelector('#df-59b99ae2-4b2f-40cc-b9a4-7a03f3b7f6de button.colab-df-convert');\n",
              "        buttonEl.style.display =\n",
              "          google.colab.kernel.accessAllowed ? 'block' : 'none';\n",
              "\n",
              "        async function convertToInteractive(key) {\n",
              "          const element = document.querySelector('#df-59b99ae2-4b2f-40cc-b9a4-7a03f3b7f6de');\n",
              "          const dataTable =\n",
              "            await google.colab.kernel.invokeFunction('convertToInteractive',\n",
              "                                                     [key], {});\n",
              "          if (!dataTable) return;\n",
              "\n",
              "          const docLinkHtml = 'Like what you see? Visit the ' +\n",
              "            '<a target=\"_blank\" href=https://colab.research.google.com/notebooks/data_table.ipynb>data table notebook</a>'\n",
              "            + ' to learn more about interactive tables.';\n",
              "          element.innerHTML = '';\n",
              "          dataTable['output_type'] = 'display_data';\n",
              "          await google.colab.output.renderOutput(dataTable, element);\n",
              "          const docLink = document.createElement('div');\n",
              "          docLink.innerHTML = docLinkHtml;\n",
              "          element.appendChild(docLink);\n",
              "        }\n",
              "      </script>\n",
              "    </div>\n",
              "  </div>\n",
              "  "
            ]
          },
          "metadata": {},
          "execution_count": 84
        }
      ]
    },
    {
      "cell_type": "code",
      "source": [
        "df.columns"
      ],
      "metadata": {
        "colab": {
          "base_uri": "https://localhost:8080/"
        },
        "id": "rar4-MB9ZMCD",
        "outputId": "66ae2fbe-e8a3-4dc5-8db7-07e3cf79d4f3"
      },
      "execution_count": null,
      "outputs": [
        {
          "output_type": "execute_result",
          "data": {
            "text/plain": [
              "Index(['postal_code', 'date', 'n_daily_data_points', 'dayofweek', 'day_type',\n",
              "       'bluecars_taken_sum', 'bluecars_returned_sum', 'utilib_taken_sum',\n",
              "       'utilib_returned_sum', 'utilib_14_taken_sum', 'utilib_14_returned_sum',\n",
              "       'slots_freed_sum', 'slots_taken_sum'],\n",
              "      dtype='object')"
            ]
          },
          "metadata": {},
          "execution_count": 85
        }
      ]
    },
    {
      "cell_type": "code",
      "metadata": {
        "id": "5o_bQcT5W3Wz",
        "colab": {
          "base_uri": "https://localhost:8080/",
          "height": 1000
        },
        "outputId": "45af7de8-2217-4f05-c6e9-6dbf9a1f5053"
      },
      "source": [
        "# Checking for Outliers in originally numerical columns\n",
        "#\n",
        "cols = ['bluecars_taken_sum', 'bluecars_returned_sum', 'utilib_taken_sum',\n",
        "       'utilib_returned_sum', 'utilib_14_taken_sum', 'utilib_14_returned_sum',\n",
        "       'slots_freed_sum', 'slots_taken_sum', 'n_daily_data_points']\n",
        "\n",
        "for col in cols:\n",
        "  df.boxplot(col, grid=False)\n",
        "  plt.title(col.replace('_', ' '))\n",
        "  plt.gcf().set_size_inches(6,6)\n",
        "  plt.show()\n",
        "  print('****************************************************')\n",
        "  \n"
      ],
      "execution_count": null,
      "outputs": [
        {
          "output_type": "display_data",
          "data": {
            "text/plain": [
              "<Figure size 432x432 with 1 Axes>"
            ],
            "image/png": "[encoded data removed]"
          },
          "metadata": {
            "needs_background": "light"
          }
        },
        {
          "output_type": "stream",
          "name": "stdout",
          "text": [
            "****************************************************\n"
          ]
        },
        {
          "output_type": "display_data",
          "data": {
            "text/plain": [
              "<Figure size 432x432 with 1 Axes>"
            ],
            "image/png": "[encoded data removed]"
          },
          "metadata": {
            "needs_background": "light"
          }
        },
        {
          "output_type": "stream",
          "name": "stdout",
          "text": [
            "****************************************************\n"
          ]
        },
        {
          "output_type": "display_data",
          "data": {
            "text/plain": [
              "<Figure size 432x432 with 1 Axes>"
            ],
            "image/png": "[encoded data removed]"
          },
          "metadata": {
            "needs_background": "light"
          }
        },
        {
          "output_type": "stream",
          "name": "stdout",
          "text": [
            "****************************************************\n"
          ]
        },
        {
          "output_type": "display_data",
          "data": {
            "text/plain": [
              "<Figure size 432x432 with 1 Axes>"
            ],
            "image/png": "[encoded data removed]"
          },
          "metadata": {
            "needs_background": "light"
          }
        },
        {
          "output_type": "stream",
          "name": "stdout",
          "text": [
            "****************************************************\n"
          ]
        },
        {
          "output_type": "display_data",
          "data": {
            "text/plain": [
              "<Figure size 432x432 with 1 Axes>"
            ],
            "image/png": "[encoded data removed]"
          },
          "metadata": {
            "needs_background": "light"
          }
        },
        {
          "output_type": "stream",
          "name": "stdout",
          "text": [
            "****************************************************\n"
          ]
        },
        {
          "output_type": "display_data",
          "data": {
            "text/plain": [
              "<Figure size 432x432 with 1 Axes>"
            ],
            "image/png": "[encoded data removed]"
          },
          "metadata": {
            "needs_background": "light"
          }
        },
        {
          "output_type": "stream",
          "name": "stdout",
          "text": [
            "****************************************************\n"
          ]
        },
        {
          "output_type": "display_data",
          "data": {
            "text/plain": [
              "<Figure size 432x432 with 1 Axes>"
            ],
            "image/png": "[encoded data removed]"
          },
          "metadata": {
            "needs_background": "light"
          }
        },
        {
          "output_type": "stream",
          "name": "stdout",
          "text": [
            "****************************************************\n"
          ]
        },
        {
          "output_type": "display_data",
          "data": {
            "text/plain": [
              "<Figure size 432x432 with 1 Axes>"
            ],
            "image/png": "[encoded data removed]"
          },
          "metadata": {
            "needs_background": "light"
          }
        },
        {
          "output_type": "stream",
          "name": "stdout",
          "text": [
            "****************************************************\n"
          ]
        },
        {
          "output_type": "display_data",
          "data": {
            "text/plain": [
              "<Figure size 432x432 with 1 Axes>"
            ],
            "image/png": "[encoded data removed]"
          },
          "metadata": {
            "needs_background": "light"
          }
        },
        {
          "output_type": "stream",
          "name": "stdout",
          "text": [
            "****************************************************\n"
          ]
        }
      ]
    },
    {
      "cell_type": "markdown",
      "source": [
        "There are outliers in all the following columns: n_daily_data_points, bluecars_taken_sum, bluecars_returned_sum, utilib_taken_sum, utilib_returned_sum, utilib_14_taken_sum, utilib_14_returned_sum, slots_freed_sum, and slots_taken_sum.\n",
        "\n",
        "The outliers will not be dropped because these columns relate to usage of the electric car service and due to factors like day of the week, date, season, events, among others, it is expected that on various days more cars than usual are being hired."
      ],
      "metadata": {
        "id": "PRrVWcdLlTeI"
      }
    },
    {
      "cell_type": "code",
      "metadata": {
        "id": "PWlukLKUvFQN"
      },
      "source": [
        "# Checking for Anomalies"
      ],
      "execution_count": null,
      "outputs": []
    },
    {
      "cell_type": "code",
      "source": [
        "# checking if any French postal code has a length greater than 5 digits\n",
        "\n",
        "unusual_postal = []\n",
        "for index, code in enumerate(list(df['postal_code'])):\n",
        "  if len(str(code)) != 5:\n",
        "    unusual_postal.append((True, code))\n",
        "print(unusual_postal)\n",
        "# there was no postal code with an unusual number of digits  "
      ],
      "metadata": {
        "colab": {
          "base_uri": "https://localhost:8080/"
        },
        "id": "hcDbf1sfrh5k",
        "outputId": "c95eaf29-f916-4785-cfc2-dca4006dad8e"
      },
      "execution_count": null,
      "outputs": [
        {
          "output_type": "stream",
          "name": "stdout",
          "text": [
            "[]\n"
          ]
        }
      ]
    },
    {
      "cell_type": "code",
      "source": [
        "#checking if any day of the week value is greater than 6  or less than 0\n",
        "df['dayofweek'].unique()"
      ],
      "metadata": {
        "colab": {
          "base_uri": "https://localhost:8080/"
        },
        "id": "eDCivoMLgcaV",
        "outputId": "404fcb12-da11-4bbb-a72e-b29b24e11a34"
      },
      "execution_count": null,
      "outputs": [
        {
          "output_type": "execute_result",
          "data": {
            "text/plain": [
              "array([0, 1, 2, 3, 4, 5, 6])"
            ]
          },
          "metadata": {},
          "execution_count": 89
        }
      ]
    },
    {
      "cell_type": "code",
      "source": [
        "#checking if any day type is different from weekday or weekend\n",
        "df['day_type'].unique()"
      ],
      "metadata": {
        "colab": {
          "base_uri": "https://localhost:8080/"
        },
        "id": "-h-VgCmMg-RT",
        "outputId": "300462c5-37fe-4b4c-f247-c6ae7a7ef5ee"
      },
      "execution_count": null,
      "outputs": [
        {
          "output_type": "execute_result",
          "data": {
            "text/plain": [
              "array(['weekday', 'weekend'], dtype=object)"
            ]
          },
          "metadata": {},
          "execution_count": 90
        }
      ]
    },
    {
      "cell_type": "code",
      "source": [
        "df.info()"
      ],
      "metadata": {
        "colab": {
          "base_uri": "https://localhost:8080/"
        },
        "id": "HIOtGVY1hXcu",
        "outputId": "78b43430-1769-437a-c330-fe35221e6ea5"
      },
      "execution_count": null,
      "outputs": [
        {
          "output_type": "stream",
          "name": "stdout",
          "text": [
            "<class 'pandas.core.frame.DataFrame'>\n",
            "RangeIndex: 16085 entries, 0 to 16084\n",
            "Data columns (total 13 columns):\n",
            " #   Column                  Non-Null Count  Dtype \n",
            "---  ------                  --------------  ----- \n",
            " 0   postal_code             16085 non-null  int64 \n",
            " 1   date                    16085 non-null  object\n",
            " 2   n_daily_data_points     16085 non-null  int64 \n",
            " 3   dayofweek               16085 non-null  int64 \n",
            " 4   day_type                16085 non-null  object\n",
            " 5   bluecars_taken_sum      16085 non-null  int64 \n",
            " 6   bluecars_returned_sum   16085 non-null  int64 \n",
            " 7   utilib_taken_sum        16085 non-null  int64 \n",
            " 8   utilib_returned_sum     16085 non-null  int64 \n",
            " 9   utilib_14_taken_sum     16085 non-null  int64 \n",
            " 10  utilib_14_returned_sum  16085 non-null  int64 \n",
            " 11  slots_freed_sum         16085 non-null  int64 \n",
            " 12  slots_taken_sum         16085 non-null  int64 \n",
            "dtypes: int64(11), object(2)\n",
            "memory usage: 1.6+ MB\n"
          ]
        }
      ]
    },
    {
      "cell_type": "code",
      "source": [
        "df['date'].unique()"
      ],
      "metadata": {
        "colab": {
          "base_uri": "https://localhost:8080/"
        },
        "id": "7JV8WwT8hmjt",
        "outputId": "0759d472-5951-4cc4-81d4-2acfc9f2fadb"
      },
      "execution_count": null,
      "outputs": [
        {
          "output_type": "execute_result",
          "data": {
            "text/plain": [
              "array(['1/1/2018', '1/2/2018', '1/3/2018', '1/4/2018', '1/5/2018',\n",
              "       '1/6/2018', '1/7/2018', '1/8/2018', '1/9/2018', '1/10/2018',\n",
              "       '1/11/2018', '1/12/2018', '1/13/2018', '1/14/2018', '1/15/2018',\n",
              "       '1/16/2018', '1/17/2018', '1/18/2018', '1/19/2018', '1/20/2018',\n",
              "       '1/21/2018', '1/22/2018', '1/23/2018', '1/24/2018', '1/25/2018',\n",
              "       '1/26/2018', '1/27/2018', '1/28/2018', '1/29/2018', '1/30/2018',\n",
              "       '1/31/2018', '2/1/2018', '2/2/2018', '2/3/2018', '2/4/2018',\n",
              "       '2/5/2018', '2/6/2018', '2/7/2018', '2/8/2018', '2/9/2018',\n",
              "       '2/10/2018', '2/11/2018', '2/12/2018', '2/13/2018', '2/14/2018',\n",
              "       '2/15/2018', '2/16/2018', '2/17/2018', '2/18/2018', '2/19/2018',\n",
              "       '2/20/2018', '2/21/2018', '2/22/2018', '2/23/2018', '2/24/2018',\n",
              "       '2/28/2018', '3/1/2018', '3/2/2018', '3/3/2018', '3/4/2018',\n",
              "       '3/5/2018', '3/6/2018', '3/7/2018', '3/8/2018', '3/9/2018',\n",
              "       '3/10/2018', '3/11/2018', '3/12/2018', '3/13/2018', '3/14/2018',\n",
              "       '3/15/2018', '3/16/2018', '3/17/2018', '3/18/2018', '3/19/2018',\n",
              "       '3/20/2018', '3/21/2018', '3/22/2018', '3/23/2018', '3/24/2018',\n",
              "       '3/25/2018', '3/26/2018', '3/27/2018', '3/28/2018', '3/29/2018',\n",
              "       '3/30/2018', '3/31/2018', '4/1/2018', '4/2/2018', '4/3/2018',\n",
              "       '4/4/2018', '4/5/2018', '4/6/2018', '4/7/2018', '4/8/2018',\n",
              "       '4/9/2018', '4/10/2018', '4/11/2018', '4/12/2018', '4/13/2018',\n",
              "       '4/14/2018', '4/15/2018', '4/16/2018', '4/17/2018', '4/18/2018',\n",
              "       '4/19/2018', '4/20/2018', '4/21/2018', '4/22/2018', '4/23/2018',\n",
              "       '4/24/2018', '4/25/2018', '4/26/2018', '4/27/2018', '4/28/2018',\n",
              "       '4/29/2018', '4/30/2018', '5/1/2018', '5/2/2018', '5/3/2018',\n",
              "       '5/4/2018', '5/5/2018', '5/6/2018', '5/7/2018', '5/8/2018',\n",
              "       '5/20/2018', '5/21/2018', '5/22/2018', '5/23/2018', '5/24/2018',\n",
              "       '5/25/2018', '5/26/2018', '5/27/2018', '5/28/2018', '5/29/2018',\n",
              "       '5/30/2018', '5/31/2018', '6/1/2018', '6/2/2018', '6/3/2018',\n",
              "       '6/4/2018', '6/5/2018', '6/6/2018', '6/7/2018', '6/8/2018',\n",
              "       '6/9/2018', '6/10/2018', '6/11/2018', '6/12/2018', '6/13/2018',\n",
              "       '6/14/2018', '6/15/2018', '6/16/2018', '6/17/2018', '6/18/2018',\n",
              "       '6/19/2018'], dtype=object)"
            ]
          },
          "metadata": {},
          "execution_count": 92
        }
      ]
    },
    {
      "cell_type": "code",
      "source": [
        "#converting date column to datetime object\n",
        "\n",
        "df['date'] = pd.to_datetime(df['date'])"
      ],
      "metadata": {
        "id": "SCHdO9mlhT9-"
      },
      "execution_count": null,
      "outputs": []
    },
    {
      "cell_type": "code",
      "source": [
        "df['date'].unique()"
      ],
      "metadata": {
        "colab": {
          "base_uri": "https://localhost:8080/"
        },
        "id": "idKcaXUkiQKP",
        "outputId": "f4bb6916-e924-4224-c948-45c46653332d"
      },
      "execution_count": null,
      "outputs": [
        {
          "output_type": "execute_result",
          "data": {
            "text/plain": [
              "array(['2018-01-01T00:00:00.000000000', '2018-01-02T00:00:00.000000000',\n",
              "       '2018-01-03T00:00:00.000000000', '2018-01-04T00:00:00.000000000',\n",
              "       '2018-01-05T00:00:00.000000000', '2018-01-06T00:00:00.000000000',\n",
              "       '2018-01-07T00:00:00.000000000', '2018-01-08T00:00:00.000000000',\n",
              "       '2018-01-09T00:00:00.000000000', '2018-01-10T00:00:00.000000000',\n",
              "       '2018-01-11T00:00:00.000000000', '2018-01-12T00:00:00.000000000',\n",
              "       '2018-01-13T00:00:00.000000000', '2018-01-14T00:00:00.000000000',\n",
              "       '2018-01-15T00:00:00.000000000', '2018-01-16T00:00:00.000000000',\n",
              "       '2018-01-17T00:00:00.000000000', '2018-01-18T00:00:00.000000000',\n",
              "       '2018-01-19T00:00:00.000000000', '2018-01-20T00:00:00.000000000',\n",
              "       '2018-01-21T00:00:00.000000000', '2018-01-22T00:00:00.000000000',\n",
              "       '2018-01-23T00:00:00.000000000', '2018-01-24T00:00:00.000000000',\n",
              "       '2018-01-25T00:00:00.000000000', '2018-01-26T00:00:00.000000000',\n",
              "       '2018-01-27T00:00:00.000000000', '2018-01-28T00:00:00.000000000',\n",
              "       '2018-01-29T00:00:00.000000000', '2018-01-30T00:00:00.000000000',\n",
              "       '2018-01-31T00:00:00.000000000', '2018-02-01T00:00:00.000000000',\n",
              "       '2018-02-02T00:00:00.000000000', '2018-02-03T00:00:00.000000000',\n",
              "       '2018-02-04T00:00:00.000000000', '2018-02-05T00:00:00.000000000',\n",
              "       '2018-02-06T00:00:00.000000000', '2018-02-07T00:00:00.000000000',\n",
              "       '2018-02-08T00:00:00.000000000', '2018-02-09T00:00:00.000000000',\n",
              "       '2018-02-10T00:00:00.000000000', '2018-02-11T00:00:00.000000000',\n",
              "       '2018-02-12T00:00:00.000000000', '2018-02-13T00:00:00.000000000',\n",
              "       '2018-02-14T00:00:00.000000000', '2018-02-15T00:00:00.000000000',\n",
              "       '2018-02-16T00:00:00.000000000', '2018-02-17T00:00:00.000000000',\n",
              "       '2018-02-18T00:00:00.000000000', '2018-02-19T00:00:00.000000000',\n",
              "       '2018-02-20T00:00:00.000000000', '2018-02-21T00:00:00.000000000',\n",
              "       '2018-02-22T00:00:00.000000000', '2018-02-23T00:00:00.000000000',\n",
              "       '2018-02-24T00:00:00.000000000', '2018-02-28T00:00:00.000000000',\n",
              "       '2018-03-01T00:00:00.000000000', '2018-03-02T00:00:00.000000000',\n",
              "       '2018-03-03T00:00:00.000000000', '2018-03-04T00:00:00.000000000',\n",
              "       '2018-03-05T00:00:00.000000000', '2018-03-06T00:00:00.000000000',\n",
              "       '2018-03-07T00:00:00.000000000', '2018-03-08T00:00:00.000000000',\n",
              "       '2018-03-09T00:00:00.000000000', '2018-03-10T00:00:00.000000000',\n",
              "       '2018-03-11T00:00:00.000000000', '2018-03-12T00:00:00.000000000',\n",
              "       '2018-03-13T00:00:00.000000000', '2018-03-14T00:00:00.000000000',\n",
              "       '2018-03-15T00:00:00.000000000', '2018-03-16T00:00:00.000000000',\n",
              "       '2018-03-17T00:00:00.000000000', '2018-03-18T00:00:00.000000000',\n",
              "       '2018-03-19T00:00:00.000000000', '2018-03-20T00:00:00.000000000',\n",
              "       '2018-03-21T00:00:00.000000000', '2018-03-22T00:00:00.000000000',\n",
              "       '2018-03-23T00:00:00.000000000', '2018-03-24T00:00:00.000000000',\n",
              "       '2018-03-25T00:00:00.000000000', '2018-03-26T00:00:00.000000000',\n",
              "       '2018-03-27T00:00:00.000000000', '2018-03-28T00:00:00.000000000',\n",
              "       '2018-03-29T00:00:00.000000000', '2018-03-30T00:00:00.000000000',\n",
              "       '2018-03-31T00:00:00.000000000', '2018-04-01T00:00:00.000000000',\n",
              "       '2018-04-02T00:00:00.000000000', '2018-04-03T00:00:00.000000000',\n",
              "       '2018-04-04T00:00:00.000000000', '2018-04-05T00:00:00.000000000',\n",
              "       '2018-04-06T00:00:00.000000000', '2018-04-07T00:00:00.000000000',\n",
              "       '2018-04-08T00:00:00.000000000', '2018-04-09T00:00:00.000000000',\n",
              "       '2018-04-10T00:00:00.000000000', '2018-04-11T00:00:00.000000000',\n",
              "       '2018-04-12T00:00:00.000000000', '2018-04-13T00:00:00.000000000',\n",
              "       '2018-04-14T00:00:00.000000000', '2018-04-15T00:00:00.000000000',\n",
              "       '2018-04-16T00:00:00.000000000', '2018-04-17T00:00:00.000000000',\n",
              "       '2018-04-18T00:00:00.000000000', '2018-04-19T00:00:00.000000000',\n",
              "       '2018-04-20T00:00:00.000000000', '2018-04-21T00:00:00.000000000',\n",
              "       '2018-04-22T00:00:00.000000000', '2018-04-23T00:00:00.000000000',\n",
              "       '2018-04-24T00:00:00.000000000', '2018-04-25T00:00:00.000000000',\n",
              "       '2018-04-26T00:00:00.000000000', '2018-04-27T00:00:00.000000000',\n",
              "       '2018-04-28T00:00:00.000000000', '2018-04-29T00:00:00.000000000',\n",
              "       '2018-04-30T00:00:00.000000000', '2018-05-01T00:00:00.000000000',\n",
              "       '2018-05-02T00:00:00.000000000', '2018-05-03T00:00:00.000000000',\n",
              "       '2018-05-04T00:00:00.000000000', '2018-05-05T00:00:00.000000000',\n",
              "       '2018-05-06T00:00:00.000000000', '2018-05-07T00:00:00.000000000',\n",
              "       '2018-05-08T00:00:00.000000000', '2018-05-20T00:00:00.000000000',\n",
              "       '2018-05-21T00:00:00.000000000', '2018-05-22T00:00:00.000000000',\n",
              "       '2018-05-23T00:00:00.000000000', '2018-05-24T00:00:00.000000000',\n",
              "       '2018-05-25T00:00:00.000000000', '2018-05-26T00:00:00.000000000',\n",
              "       '2018-05-27T00:00:00.000000000', '2018-05-28T00:00:00.000000000',\n",
              "       '2018-05-29T00:00:00.000000000', '2018-05-30T00:00:00.000000000',\n",
              "       '2018-05-31T00:00:00.000000000', '2018-06-01T00:00:00.000000000',\n",
              "       '2018-06-02T00:00:00.000000000', '2018-06-03T00:00:00.000000000',\n",
              "       '2018-06-04T00:00:00.000000000', '2018-06-05T00:00:00.000000000',\n",
              "       '2018-06-06T00:00:00.000000000', '2018-06-07T00:00:00.000000000',\n",
              "       '2018-06-08T00:00:00.000000000', '2018-06-09T00:00:00.000000000',\n",
              "       '2018-06-10T00:00:00.000000000', '2018-06-11T00:00:00.000000000',\n",
              "       '2018-06-12T00:00:00.000000000', '2018-06-13T00:00:00.000000000',\n",
              "       '2018-06-14T00:00:00.000000000', '2018-06-15T00:00:00.000000000',\n",
              "       '2018-06-16T00:00:00.000000000', '2018-06-17T00:00:00.000000000',\n",
              "       '2018-06-18T00:00:00.000000000', '2018-06-19T00:00:00.000000000'],\n",
              "      dtype='datetime64[ns]')"
            ]
          },
          "metadata": {},
          "execution_count": 94
        }
      ]
    },
    {
      "cell_type": "markdown",
      "metadata": {
        "id": "rF2ABPsHUtbZ"
      },
      "source": [
        "## 5. Exploratory Analysis"
      ]
    },
    {
      "cell_type": "markdown",
      "source": [
        "###Univariate Analysis"
      ],
      "metadata": {
        "id": "0XBvWVnUr8cN"
      }
    },
    {
      "cell_type": "markdown",
      "source": [
        "#### Bluecars taken"
      ],
      "metadata": {
        "id": "vx3qj6Q3oEl_"
      }
    },
    {
      "cell_type": "code",
      "source": [
        "\n",
        "df['bluecars_taken_sum'].describe()"
      ],
      "metadata": {
        "colab": {
          "base_uri": "https://localhost:8080/"
        },
        "outputId": "773aa611-79e6-4b0b-dec7-2706b911f044",
        "id": "XqIWN7fZ6Cyh"
      },
      "execution_count": null,
      "outputs": [
        {
          "output_type": "execute_result",
          "data": {
            "text/plain": [
              "count    16085.000000\n",
              "mean       125.926951\n",
              "std        185.426579\n",
              "min          0.000000\n",
              "25%         20.000000\n",
              "50%         46.000000\n",
              "75%        135.000000\n",
              "max       1352.000000\n",
              "Name: bluecars_taken_sum, dtype: float64"
            ]
          },
          "metadata": {},
          "execution_count": 95
        }
      ]
    },
    {
      "cell_type": "markdown",
      "source": [
        "* The mean number of blue cars taken per day according to the entire dataset is approximately 125.\n",
        "* The standard deviation is approximately 185\n",
        "* The minimum cars taken per day - 0.\n",
        "* The first quartile is 20 cars\n",
        "* The median is 46 cars\n",
        "* The third quartile is 135 cars\n",
        "* The maximum number of cars taken in a day is 1352"
      ],
      "metadata": {
        "id": "LmA3s-J-nDPE"
      }
    },
    {
      "cell_type": "code",
      "source": [
        "#range of bluecars taken per day\n",
        "df['bluecars_taken_sum'].max() - df['bluecars_taken_sum'].min()"
      ],
      "metadata": {
        "colab": {
          "base_uri": "https://localhost:8080/"
        },
        "outputId": "24789f37-75ec-479c-a9da-f6c8eeb73d0a",
        "id": "6Gb_Z7JJ6Cyk"
      },
      "execution_count": null,
      "outputs": [
        {
          "output_type": "execute_result",
          "data": {
            "text/plain": [
              "1352"
            ]
          },
          "metadata": {},
          "execution_count": 96
        }
      ]
    },
    {
      "cell_type": "code",
      "source": [
        "\n",
        "df['bluecars_taken_sum'].kurt()\n",
        "# the kurtosis is greater than 3 (leptokurtic), indicates heavy tails-many outliers"
      ],
      "metadata": {
        "colab": {
          "base_uri": "https://localhost:8080/"
        },
        "outputId": "80e08dac-3277-4f5e-a6dd-488f2893f557",
        "id": "BvL0rmc86Cyl"
      },
      "execution_count": null,
      "outputs": [
        {
          "output_type": "execute_result",
          "data": {
            "text/plain": [
              "6.172692305510042"
            ]
          },
          "metadata": {},
          "execution_count": 97
        }
      ]
    },
    {
      "cell_type": "code",
      "source": [
        "df['bluecars_taken_sum'].skew()\n",
        "# the data is positively skewed (to the right)"
      ],
      "metadata": {
        "colab": {
          "base_uri": "https://localhost:8080/"
        },
        "outputId": "aa1c6744-f25d-475f-e4d7-9508d001ce47",
        "id": "yMnWZm226Cym"
      },
      "execution_count": null,
      "outputs": [
        {
          "output_type": "execute_result",
          "data": {
            "text/plain": [
              "2.4063548974959086"
            ]
          },
          "metadata": {},
          "execution_count": 98
        }
      ]
    },
    {
      "cell_type": "code",
      "source": [
        "df['bluecars_taken_sum'].hist(grid=False, bins= 5, rwidth=0.9)\n",
        "\n",
        "plt.title('Histogram of sum of Bluecars taken per day.')\n",
        "plt.xlabel('sum of bluecars taken')\n",
        "plt.ylabel('Frequency')"
      ],
      "metadata": {
        "colab": {
          "base_uri": "https://localhost:8080/",
          "height": 312
        },
        "id": "wW8dC6BQ6erQ",
        "outputId": "ce3c46ca-fee1-4677-bb0d-f6f4f33348ee"
      },
      "execution_count": null,
      "outputs": [
        {
          "output_type": "execute_result",
          "data": {
            "text/plain": [
              "Text(0, 0.5, 'Frequency')"
            ]
          },
          "metadata": {},
          "execution_count": 99
        },
        {
          "output_type": "display_data",
          "data": {
            "text/plain": [
              "<Figure size 432x288 with 1 Axes>"
            ],
            "image/png": "[encoded data removed]"
          },
          "metadata": {
            "needs_background": "light"
          }
        }
      ]
    },
    {
      "cell_type": "code",
      "source": [
        "bin_width = (df['bluecars_taken_sum'].max() - df['bluecars_taken_sum'].min())/5\n",
        "lower_lim = int(df['bluecars_taken_sum'].min())\n",
        "upper_lim = int(df['bluecars_taken_sum'].min() +bin_width*1)\n",
        "print(f'On most days the sum of bluecars taken was between {lower_lim} to {upper_lim}')"
      ],
      "metadata": {
        "colab": {
          "base_uri": "https://localhost:8080/"
        },
        "id": "gSlZUsLS6sEg",
        "outputId": "87f8ce07-4dfe-4983-aab7-03c0a98057b3"
      },
      "execution_count": null,
      "outputs": [
        {
          "output_type": "stream",
          "name": "stdout",
          "text": [
            "On most days the sum of bluecars taken was between 0 to 270\n"
          ]
        }
      ]
    },
    {
      "cell_type": "code",
      "source": [
        ""
      ],
      "metadata": {
        "id": "UpBBXoH4m0KO"
      },
      "execution_count": null,
      "outputs": []
    },
    {
      "cell_type": "code",
      "source": [
        ""
      ],
      "metadata": {
        "id": "D7ZgwAFHm0xf"
      },
      "execution_count": null,
      "outputs": []
    },
    {
      "cell_type": "markdown",
      "source": [
        "#### Bluecars returned"
      ],
      "metadata": {
        "id": "21wCLHqMoNOv"
      }
    },
    {
      "cell_type": "code",
      "source": [
        "\n",
        "df['bluecars_returned_sum'].describe()"
      ],
      "metadata": {
        "colab": {
          "base_uri": "https://localhost:8080/"
        },
        "outputId": "74873394-7cf4-485e-a9da-e4dfb43af64e",
        "id": "b28f4oYCm1Vp"
      },
      "execution_count": null,
      "outputs": [
        {
          "output_type": "execute_result",
          "data": {
            "text/plain": [
              "count    16085.000000\n",
              "mean       125.912714\n",
              "std        185.501535\n",
              "min          0.000000\n",
              "25%         20.000000\n",
              "50%         46.000000\n",
              "75%        135.000000\n",
              "max       1332.000000\n",
              "Name: bluecars_returned_sum, dtype: float64"
            ]
          },
          "metadata": {},
          "execution_count": 101
        }
      ]
    },
    {
      "cell_type": "markdown",
      "source": [
        "* The mean number of blue cars returned per day according to the entire dataset is approximately 125.\n",
        "* The standard deviation is approximately 185\n",
        "* The minimum cars returned per day - 0.\n",
        "* The first quartile is 20 cars\n",
        "* The median is 46 cars\n",
        "* The third quartile is 135 cars\n",
        "* The maximum number of cars taken in a day is 1332"
      ],
      "metadata": {
        "id": "cuWSInrYm1Vv"
      }
    },
    {
      "cell_type": "code",
      "source": [
        "#range of bluecars returned (per day)\n",
        "df['bluecars_returned_sum'].max() - df['bluecars_returned_sum'].min()"
      ],
      "metadata": {
        "colab": {
          "base_uri": "https://localhost:8080/"
        },
        "outputId": "f7553e0f-c39c-4492-e222-aca1e7348f17",
        "id": "A0FG7Y5tm1Vw"
      },
      "execution_count": null,
      "outputs": [
        {
          "output_type": "execute_result",
          "data": {
            "text/plain": [
              "1332"
            ]
          },
          "metadata": {},
          "execution_count": 102
        }
      ]
    },
    {
      "cell_type": "code",
      "source": [
        "\n",
        "df['bluecars_returned_sum'].kurt()\n",
        "# the kurtosis is greater than 3 (leptokurtic), indicates heavy tails-many outliers"
      ],
      "metadata": {
        "colab": {
          "base_uri": "https://localhost:8080/"
        },
        "outputId": "a8b5097c-56b7-4ec8-da16-2526e67c6152",
        "id": "KZtMAc5xm1Vx"
      },
      "execution_count": null,
      "outputs": [
        {
          "output_type": "execute_result",
          "data": {
            "text/plain": [
              "6.1862880957582345"
            ]
          },
          "metadata": {},
          "execution_count": 103
        }
      ]
    },
    {
      "cell_type": "code",
      "source": [
        "df['bluecars_returned_sum'].skew()\n",
        "# the data is positively skewed (to the right)"
      ],
      "metadata": {
        "colab": {
          "base_uri": "https://localhost:8080/"
        },
        "outputId": "413101c1-f023-4220-935c-52d0239d3647",
        "id": "kKuLbH9Vm1Vy"
      },
      "execution_count": null,
      "outputs": [
        {
          "output_type": "execute_result",
          "data": {
            "text/plain": [
              "2.412084978838923"
            ]
          },
          "metadata": {},
          "execution_count": 104
        }
      ]
    },
    {
      "cell_type": "code",
      "source": [
        "df['bluecars_returned_sum'].hist(grid=False, bins= 5, rwidth=0.9)\n",
        "\n",
        "plt.title('Histogram of sum of Bluecars returned per day.')\n",
        "plt.xlabel('sum of bluecars returned')\n",
        "plt.ylabel('Frequency')"
      ],
      "metadata": {
        "colab": {
          "base_uri": "https://localhost:8080/",
          "height": 312
        },
        "outputId": "f3469296-cf65-47f6-cc6b-5d34940843ec",
        "id": "B-7uBjh4m1Vy"
      },
      "execution_count": null,
      "outputs": [
        {
          "output_type": "execute_result",
          "data": {
            "text/plain": [
              "Text(0, 0.5, 'Frequency')"
            ]
          },
          "metadata": {},
          "execution_count": 105
        },
        {
          "output_type": "display_data",
          "data": {
            "text/plain": [
              "<Figure size 432x288 with 1 Axes>"
            ],
            "image/png": "[encoded data removed]"
          },
          "metadata": {
            "needs_background": "light"
          }
        }
      ]
    },
    {
      "cell_type": "code",
      "source": [
        "bin_width = (df['bluecars_returned_sum'].max() - df['bluecars_returned_sum'].min())/5\n",
        "lower_lim = int(df['bluecars_returned_sum'].min())\n",
        "upper_lim = int(df['bluecars_returned_sum'].min() +bin_width*1)\n",
        "print(f'On most days the sum of bluecars returned was between {lower_lim} to {upper_lim}')"
      ],
      "metadata": {
        "colab": {
          "base_uri": "https://localhost:8080/"
        },
        "outputId": "406bfcb9-7ec1-45e8-ba28-1fcd36e377d7",
        "id": "DS_buzWEm1Vz"
      },
      "execution_count": null,
      "outputs": [
        {
          "output_type": "stream",
          "name": "stdout",
          "text": [
            "On most days the sum of bluecars returned was between 0 to 266\n"
          ]
        }
      ]
    },
    {
      "cell_type": "markdown",
      "source": [
        "#### Utilibs taken"
      ],
      "metadata": {
        "id": "Bo9V81pkoVMC"
      }
    },
    {
      "cell_type": "code",
      "source": [
        ""
      ],
      "metadata": {
        "id": "iH05692Eot8x"
      },
      "execution_count": null,
      "outputs": []
    },
    {
      "cell_type": "code",
      "source": [
        "\n",
        "df['utilib_taken_sum'].describe()"
      ],
      "metadata": {
        "colab": {
          "base_uri": "https://localhost:8080/"
        },
        "outputId": "7aa377db-66ab-4284-812f-81d86fbcb3e7",
        "id": "aaXHOiVgousk"
      },
      "execution_count": null,
      "outputs": [
        {
          "output_type": "execute_result",
          "data": {
            "text/plain": [
              "count    16085.000000\n",
              "mean         3.698290\n",
              "std          5.815058\n",
              "min          0.000000\n",
              "25%          0.000000\n",
              "50%          1.000000\n",
              "75%          4.000000\n",
              "max         54.000000\n",
              "Name: utilib_taken_sum, dtype: float64"
            ]
          },
          "metadata": {},
          "execution_count": 107
        }
      ]
    },
    {
      "cell_type": "markdown",
      "source": [
        "* The mean number of utilib taken per day according to the entire dataset is approximately 3.\n",
        "* The standard deviation is approximately 5\n",
        "* The minimum utilibs taken per day - 0.\n",
        "* The first quartile is 0 utilibs\n",
        "* The median is 1 utilib\n",
        "* The third quartile is 4 utilibs\n",
        "* The maximum number of utilibs taken in a day is 54"
      ],
      "metadata": {
        "id": "BeptHr0Uousm"
      }
    },
    {
      "cell_type": "code",
      "source": [
        "#range of utilibs taken(per day)\n",
        "df['utilib_taken_sum'].max() - df['utilib_taken_sum'].min()"
      ],
      "metadata": {
        "colab": {
          "base_uri": "https://localhost:8080/"
        },
        "outputId": "7395e65a-f57e-420c-aea6-671bdef7dbfe",
        "id": "mwmJg6Kyousn"
      },
      "execution_count": null,
      "outputs": [
        {
          "output_type": "execute_result",
          "data": {
            "text/plain": [
              "54"
            ]
          },
          "metadata": {},
          "execution_count": 108
        }
      ]
    },
    {
      "cell_type": "code",
      "source": [
        "\n",
        "df['utilib_taken_sum'].kurt()\n",
        "# the kurtosis is greater than 3 (leptokurtic), indicates heavy tails-many outliers"
      ],
      "metadata": {
        "colab": {
          "base_uri": "https://localhost:8080/"
        },
        "outputId": "cca16a8e-ebe0-4daa-b68a-d0b22d9d75a8",
        "id": "HSmnzXBZouso"
      },
      "execution_count": null,
      "outputs": [
        {
          "output_type": "execute_result",
          "data": {
            "text/plain": [
              "7.702361895243428"
            ]
          },
          "metadata": {},
          "execution_count": 109
        }
      ]
    },
    {
      "cell_type": "code",
      "source": [
        "df['utilib_taken_sum'].skew()\n",
        "# the data is positively skewed (to the right)"
      ],
      "metadata": {
        "colab": {
          "base_uri": "https://localhost:8080/"
        },
        "outputId": "764ad303-2610-43f1-a4e4-1a507faab02d",
        "id": "DjJddcG8ousp"
      },
      "execution_count": null,
      "outputs": [
        {
          "output_type": "execute_result",
          "data": {
            "text/plain": [
              "2.5568719194754777"
            ]
          },
          "metadata": {},
          "execution_count": 110
        }
      ]
    },
    {
      "cell_type": "code",
      "source": [
        "df['utilib_taken_sum'].hist(grid=False, bins= 5, rwidth=0.9)\n",
        "\n",
        "plt.title('Histogram of sum of Utilibs taken per day.')\n",
        "plt.xlabel('sum of utilibs taken')\n",
        "plt.ylabel('Frequency')"
      ],
      "metadata": {
        "colab": {
          "base_uri": "https://localhost:8080/",
          "height": 312
        },
        "outputId": "52dd5289-96d0-48f5-e09e-10039695d121",
        "id": "w6sFhnMBousq"
      },
      "execution_count": null,
      "outputs": [
        {
          "output_type": "execute_result",
          "data": {
            "text/plain": [
              "Text(0, 0.5, 'Frequency')"
            ]
          },
          "metadata": {},
          "execution_count": 111
        },
        {
          "output_type": "display_data",
          "data": {
            "text/plain": [
              "<Figure size 432x288 with 1 Axes>"
            ],
            "image/png": "[encoded data removed]"
          },
          "metadata": {
            "needs_background": "light"
          }
        }
      ]
    },
    {
      "cell_type": "code",
      "source": [
        "bin_width = (df['utilib_taken_sum'].max() - df['utilib_taken_sum'].min())/5\n",
        "lower_lim = int(df['utilib_taken_sum'].min())\n",
        "upper_lim = int(df['utilib_taken_sum'].min() +bin_width*1)\n",
        "print(f'On most days the number of utilibs taken was between {lower_lim} to {upper_lim}')"
      ],
      "metadata": {
        "colab": {
          "base_uri": "https://localhost:8080/"
        },
        "outputId": "7934385e-bb9b-4851-91f2-67690e088b1f",
        "id": "4Gf7bNC7ousr"
      },
      "execution_count": null,
      "outputs": [
        {
          "output_type": "stream",
          "name": "stdout",
          "text": [
            "On most days the number of utilibs taken was between 0 to 10\n"
          ]
        }
      ]
    },
    {
      "cell_type": "markdown",
      "source": [
        "#### Utilib 14 taken"
      ],
      "metadata": {
        "id": "8M0L01Kcp4yf"
      }
    },
    {
      "cell_type": "code",
      "source": [
        ""
      ],
      "metadata": {
        "id": "lIUF6mevp8cd"
      },
      "execution_count": null,
      "outputs": []
    },
    {
      "cell_type": "code",
      "source": [
        "\n",
        "df['utilib_14_taken_sum'].describe()"
      ],
      "metadata": {
        "colab": {
          "base_uri": "https://localhost:8080/"
        },
        "outputId": "3e5809e9-7f61-4c54-f0ba-bb790d5ff58a",
        "id": "N_XSLmd4qKxG"
      },
      "execution_count": null,
      "outputs": [
        {
          "output_type": "execute_result",
          "data": {
            "text/plain": [
              "count    16085.000000\n",
              "mean         8.600560\n",
              "std         12.870098\n",
              "min          0.000000\n",
              "25%          1.000000\n",
              "50%          3.000000\n",
              "75%         10.000000\n",
              "max        100.000000\n",
              "Name: utilib_14_taken_sum, dtype: float64"
            ]
          },
          "metadata": {},
          "execution_count": 113
        }
      ]
    },
    {
      "cell_type": "markdown",
      "source": [
        "* The mean number of utilib 14 taken per day according to the entire dataset is approximately 8.\n",
        "* The standard deviation is approximately 12\n",
        "* The minimum utilibs taken per day - 0.\n",
        "* The first quartile is 1 utilib\n",
        "* The median is 3 utilibs\n",
        "* The third quartile is 10 utilibs\n",
        "* The maximum number of utilibs taken in a day is 100"
      ],
      "metadata": {
        "id": "-jLojWYRqKxI"
      }
    },
    {
      "cell_type": "code",
      "source": [
        "#range of utilib 14 taken(per day)\n",
        "df['utilib_14_taken_sum'].max() - df['utilib_taken_sum'].min()"
      ],
      "metadata": {
        "colab": {
          "base_uri": "https://localhost:8080/"
        },
        "outputId": "7819c794-785f-4e4d-85c9-b284f4b4fa30",
        "id": "ySjuexfuqKxJ"
      },
      "execution_count": null,
      "outputs": [
        {
          "output_type": "execute_result",
          "data": {
            "text/plain": [
              "100"
            ]
          },
          "metadata": {},
          "execution_count": 114
        }
      ]
    },
    {
      "cell_type": "code",
      "source": [
        "\n",
        "df['utilib_14_taken_sum'].kurt()\n",
        "# the kurtosis is greater than 3 (leptokurtic), indicates heavy tails-many outliers"
      ],
      "metadata": {
        "colab": {
          "base_uri": "https://localhost:8080/"
        },
        "outputId": "a6a609e2-9c4d-4166-930f-43c8524938f0",
        "id": "Oe0YBiyuqKxK"
      },
      "execution_count": null,
      "outputs": [
        {
          "output_type": "execute_result",
          "data": {
            "text/plain": [
              "7.18681525579947"
            ]
          },
          "metadata": {},
          "execution_count": 115
        }
      ]
    },
    {
      "cell_type": "code",
      "source": [
        "df['utilib_14_taken_sum'].skew()\n",
        "# the data is positively skewed (to the right)"
      ],
      "metadata": {
        "colab": {
          "base_uri": "https://localhost:8080/"
        },
        "outputId": "4552faea-d47c-405f-f549-ff0aa94d9b71",
        "id": "vo6mh8DVqKxL"
      },
      "execution_count": null,
      "outputs": [
        {
          "output_type": "execute_result",
          "data": {
            "text/plain": [
              "2.5109244534822923"
            ]
          },
          "metadata": {},
          "execution_count": 116
        }
      ]
    },
    {
      "cell_type": "code",
      "source": [
        "df['utilib_14_taken_sum'].hist(grid=False, bins= 5, rwidth=0.9)\n",
        "\n",
        "plt.title('Histogram of sum of Utilib 14 taken per day.')\n",
        "plt.xlabel('sum of utilib 14 taken')\n",
        "plt.ylabel('Frequency')"
      ],
      "metadata": {
        "colab": {
          "base_uri": "https://localhost:8080/",
          "height": 312
        },
        "outputId": "7d19b6f3-6b0f-4eb4-ee3d-633fac908393",
        "id": "NmFopzeSqKxM"
      },
      "execution_count": null,
      "outputs": [
        {
          "output_type": "execute_result",
          "data": {
            "text/plain": [
              "Text(0, 0.5, 'Frequency')"
            ]
          },
          "metadata": {},
          "execution_count": 117
        },
        {
          "output_type": "display_data",
          "data": {
            "text/plain": [
              "<Figure size 432x288 with 1 Axes>"
            ],
            "image/png": "[encoded data removed]"
          },
          "metadata": {
            "needs_background": "light"
          }
        }
      ]
    },
    {
      "cell_type": "code",
      "source": [
        "bin_width = (df['utilib_14_taken_sum'].max() - df['utilib_14_taken_sum'].min())/5\n",
        "lower_lim = int(df['utilib_14_taken_sum'].min())\n",
        "upper_lim = int(df['utilib_14_taken_sum'].min() +bin_width*1)\n",
        "print(f'On most days the number of utilib 14 taken was between {lower_lim} to {upper_lim}')"
      ],
      "metadata": {
        "colab": {
          "base_uri": "https://localhost:8080/"
        },
        "outputId": "8441a2e0-92e1-476b-ccd8-a342c475da1e",
        "id": "97nXMuKJqKxN"
      },
      "execution_count": null,
      "outputs": [
        {
          "output_type": "stream",
          "name": "stdout",
          "text": [
            "On most days the number of utilib 14 taken was between 0 to 20\n"
          ]
        }
      ]
    },
    {
      "cell_type": "markdown",
      "source": [
        "#### Day of week"
      ],
      "metadata": {
        "id": "iSI51mUsrpRX"
      }
    },
    {
      "cell_type": "code",
      "source": [
        "#0-Monday, 1-Tuesday, 2-Wednesday,3 - Thursday, 4-Friday, 5-Saturday, 6-Sunday"
      ],
      "metadata": {
        "id": "-FsM2fujsMhr"
      },
      "execution_count": null,
      "outputs": []
    },
    {
      "cell_type": "code",
      "source": [
        "df_wkday_name = df.copy()\n",
        "df_wkday_name['dayofweek'] = df['dayofweek'].replace({0: 'Monday', 1: 'Tuesday', 2:'Wednesday', 3:'Thursday', 4:'Friday', 5:'Saturday', 6:'Sunday'})\n",
        "\n",
        "df_wkday_name['dayofweek'].value_counts().plot.bar()\n",
        "plt.title('Days of week represented in dataset')\n",
        "# plt.xticks(ticks=[0, 1], labels=['rural', 'urban'])\n",
        "plt.ylabel('Count')\n",
        "plt.show()"
      ],
      "metadata": {
        "colab": {
          "base_uri": "https://localhost:8080/",
          "height": 329
        },
        "id": "fM-5U67Nrtyn",
        "outputId": "0d0970a0-68cc-4c24-c159-a00b8cd0eb8d"
      },
      "execution_count": null,
      "outputs": [
        {
          "output_type": "display_data",
          "data": {
            "text/plain": [
              "<Figure size 432x288 with 1 Axes>"
            ],
            "image/png": "[encoded data removed]"
          },
          "metadata": {
            "needs_background": "light"
          }
        }
      ]
    },
    {
      "cell_type": "markdown",
      "source": [
        "The different days of the week are almost equally represented in the dataset."
      ],
      "metadata": {
        "id": "69GCgE6ZuYVY"
      }
    },
    {
      "cell_type": "markdown",
      "source": [
        "### Bivariate analysis"
      ],
      "metadata": {
        "id": "BAh-04P29Lp9"
      }
    },
    {
      "cell_type": "markdown",
      "source": [
        "Main column of interest:\n",
        "* Sum(Number) of bluecars taken per date"
      ],
      "metadata": {
        "id": "Da2Nl3DlvMYo"
      }
    },
    {
      "cell_type": "markdown",
      "source": [
        "#### Number of bluecars per month"
      ],
      "metadata": {
        "id": "O51OrLE_7TPA"
      }
    },
    {
      "cell_type": "code",
      "source": [
        "#compare by month"
      ],
      "metadata": {
        "id": "E0fy9lPu6BN0"
      },
      "execution_count": null,
      "outputs": []
    },
    {
      "cell_type": "code",
      "source": [
        "df['month'] = df['date'].dt.month\n",
        "df.head()"
      ],
      "metadata": {
        "colab": {
          "base_uri": "https://localhost:8080/",
          "height": 357
        },
        "id": "CSIoRIdj4po2",
        "outputId": "6c99d098-71a2-498d-eb21-1e60cfb4637f"
      },
      "execution_count": null,
      "outputs": [
        {
          "output_type": "execute_result",
          "data": {
            "text/plain": [
              "   postal_code       date  n_daily_data_points  dayofweek day_type  \\\n",
              "0        75001 2018-01-01                 1440          0  weekday   \n",
              "1        75001 2018-01-02                 1438          1  weekday   \n",
              "2        75001 2018-01-03                 1439          2  weekday   \n",
              "3        75001 2018-01-04                 1320          3  weekday   \n",
              "4        75001 2018-01-05                 1440          4  weekday   \n",
              "\n",
              "   bluecars_taken_sum  bluecars_returned_sum  utilib_taken_sum  \\\n",
              "0                 110                    103                 3   \n",
              "1                  98                     94                 1   \n",
              "2                 138                    139                 0   \n",
              "3                 104                    104                 2   \n",
              "4                 114                    117                 3   \n",
              "\n",
              "   utilib_returned_sum  utilib_14_taken_sum  utilib_14_returned_sum  \\\n",
              "0                    2                   10                       9   \n",
              "1                    1                    8                       8   \n",
              "2                    0                    2                       2   \n",
              "3                    2                    9                       8   \n",
              "4                    3                    6                       6   \n",
              "\n",
              "   slots_freed_sum  slots_taken_sum  month  \n",
              "0               22               20      1  \n",
              "1               23               22      1  \n",
              "2               27               27      1  \n",
              "3               25               21      1  \n",
              "4               18               20      1  "
            ],
            "text/html": [
              "\n",
              "  <div id=\"df-9874a8fa-c595-4e4d-99e3-26677a2182d1\">\n",
              "    <div class=\"colab-df-container\">\n",
              "      <div>\n",
              "<style scoped>\n",
              "    .dataframe tbody tr th:only-of-type {\n",
              "        vertical-align: middle;\n",
              "    }\n",
              "\n",
              "    .dataframe tbody tr th {\n",
              "        vertical-align: top;\n",
              "    }\n",
              "\n",
              "    .dataframe thead th {\n",
              "        text-align: right;\n",
              "    }\n",
              "</style>\n",
              "<table border=\"1\" class=\"dataframe\">\n",
              "  <thead>\n",
              "    <tr style=\"text-align: right;\">\n",
              "      <th></th>\n",
              "      <th>postal_code</th>\n",
              "      <th>date</th>\n",
              "      <th>n_daily_data_points</th>\n",
              "      <th>dayofweek</th>\n",
              "      <th>day_type</th>\n",
              "      <th>bluecars_taken_sum</th>\n",
              "      <th>bluecars_returned_sum</th>\n",
              "      <th>utilib_taken_sum</th>\n",
              "      <th>utilib_returned_sum</th>\n",
              "      <th>utilib_14_taken_sum</th>\n",
              "      <th>utilib_14_returned_sum</th>\n",
              "      <th>slots_freed_sum</th>\n",
              "      <th>slots_taken_sum</th>\n",
              "      <th>month</th>\n",
              "    </tr>\n",
              "  </thead>\n",
              "  <tbody>\n",
              "    <tr>\n",
              "      <th>0</th>\n",
              "      <td>75001</td>\n",
              "      <td>2018-01-01</td>\n",
              "      <td>1440</td>\n",
              "      <td>0</td>\n",
              "      <td>weekday</td>\n",
              "      <td>110</td>\n",
              "      <td>103</td>\n",
              "      <td>3</td>\n",
              "      <td>2</td>\n",
              "      <td>10</td>\n",
              "      <td>9</td>\n",
              "      <td>22</td>\n",
              "      <td>20</td>\n",
              "      <td>1</td>\n",
              "    </tr>\n",
              "    <tr>\n",
              "      <th>1</th>\n",
              "      <td>75001</td>\n",
              "      <td>2018-01-02</td>\n",
              "      <td>1438</td>\n",
              "      <td>1</td>\n",
              "      <td>weekday</td>\n",
              "      <td>98</td>\n",
              "      <td>94</td>\n",
              "      <td>1</td>\n",
              "      <td>1</td>\n",
              "      <td>8</td>\n",
              "      <td>8</td>\n",
              "      <td>23</td>\n",
              "      <td>22</td>\n",
              "      <td>1</td>\n",
              "    </tr>\n",
              "    <tr>\n",
              "      <th>2</th>\n",
              "      <td>75001</td>\n",
              "      <td>2018-01-03</td>\n",
              "      <td>1439</td>\n",
              "      <td>2</td>\n",
              "      <td>weekday</td>\n",
              "      <td>138</td>\n",
              "      <td>139</td>\n",
              "      <td>0</td>\n",
              "      <td>0</td>\n",
              "      <td>2</td>\n",
              "      <td>2</td>\n",
              "      <td>27</td>\n",
              "      <td>27</td>\n",
              "      <td>1</td>\n",
              "    </tr>\n",
              "    <tr>\n",
              "      <th>3</th>\n",
              "      <td>75001</td>\n",
              "      <td>2018-01-04</td>\n",
              "      <td>1320</td>\n",
              "      <td>3</td>\n",
              "      <td>weekday</td>\n",
              "      <td>104</td>\n",
              "      <td>104</td>\n",
              "      <td>2</td>\n",
              "      <td>2</td>\n",
              "      <td>9</td>\n",
              "      <td>8</td>\n",
              "      <td>25</td>\n",
              "      <td>21</td>\n",
              "      <td>1</td>\n",
              "    </tr>\n",
              "    <tr>\n",
              "      <th>4</th>\n",
              "      <td>75001</td>\n",
              "      <td>2018-01-05</td>\n",
              "      <td>1440</td>\n",
              "      <td>4</td>\n",
              "      <td>weekday</td>\n",
              "      <td>114</td>\n",
              "      <td>117</td>\n",
              "      <td>3</td>\n",
              "      <td>3</td>\n",
              "      <td>6</td>\n",
              "      <td>6</td>\n",
              "      <td>18</td>\n",
              "      <td>20</td>\n",
              "      <td>1</td>\n",
              "    </tr>\n",
              "  </tbody>\n",
              "</table>\n",
              "</div>\n",
              "      <button class=\"colab-df-convert\" onclick=\"convertToInteractive('df-9874a8fa-c595-4e4d-99e3-26677a2182d1')\"\n",
              "              title=\"Convert this dataframe to an interactive table.\"\n",
              "              style=\"display:none;\">\n",
              "        \n",
              "  <svg xmlns=\"http://www.w3.org/2000/svg\" height=\"24px\"viewBox=\"0 0 24 24\"\n",
              "       width=\"24px\">\n",
              "    <path d=\"M0 0h24v24H0V0z\" fill=\"none\"/>\n",
              "    <path d=\"M18.56 5.44l.94 2.06.94-2.06 2.06-.94-2.06-.94-.94-2.06-.94 2.06-2.06.94zm-11 1L8.5 8.5l.94-2.06 2.06-.94-2.06-.94L8.5 2.5l-.94 2.06-2.06.94zm10 10l.94 2.06.94-2.06 2.06-.94-2.06-.94-.94-2.06-.94 2.06-2.06.94z\"/><path d=\"M17.41 7.96l-1.37-1.37c-.4-.4-.92-.59-1.43-.59-.52 0-1.04.2-1.43.59L10.3 9.45l-7.72 7.72c-.78.78-.78 2.05 0 2.83L4 21.41c.39.39.9.59 1.41.59.51 0 1.02-.2 1.41-.59l7.78-7.78 2.81-2.81c.8-.78.8-2.07 0-2.86zM5.41 20L4 18.59l7.72-7.72 1.47 1.35L5.41 20z\"/>\n",
              "  </svg>\n",
              "      </button>\n",
              "      \n",
              "  <style>\n",
              "    .colab-df-container {\n",
              "      display:flex;\n",
              "      flex-wrap:wrap;\n",
              "      gap: 12px;\n",
              "    }\n",
              "\n",
              "    .colab-df-convert {\n",
              "      background-color: #E8F0FE;\n",
              "      border: none;\n",
              "      border-radius: 50%;\n",
              "      cursor: pointer;\n",
              "      display: none;\n",
              "      fill: #1967D2;\n",
              "      height: 32px;\n",
              "      padding: 0 0 0 0;\n",
              "      width: 32px;\n",
              "    }\n",
              "\n",
              "    .colab-df-convert:hover {\n",
              "      background-color: #E2EBFA;\n",
              "      box-shadow: 0px 1px 2px rgba(60, 64, 67, 0.3), 0px 1px 3px 1px rgba(60, 64, 67, 0.15);\n",
              "      fill: #174EA6;\n",
              "    }\n",
              "\n",
              "    [theme=dark] .colab-df-convert {\n",
              "      background-color: #3B4455;\n",
              "      fill: #D2E3FC;\n",
              "    }\n",
              "\n",
              "    [theme=dark] .colab-df-convert:hover {\n",
              "      background-color: #434B5C;\n",
              "      box-shadow: 0px 1px 3px 1px rgba(0, 0, 0, 0.15);\n",
              "      filter: drop-shadow(0px 1px 2px rgba(0, 0, 0, 0.3));\n",
              "      fill: #FFFFFF;\n",
              "    }\n",
              "  </style>\n",
              "\n",
              "      <script>\n",
              "        const buttonEl =\n",
              "          document.querySelector('#df-9874a8fa-c595-4e4d-99e3-26677a2182d1 button.colab-df-convert');\n",
              "        buttonEl.style.display =\n",
              "          google.colab.kernel.accessAllowed ? 'block' : 'none';\n",
              "\n",
              "        async function convertToInteractive(key) {\n",
              "          const element = document.querySelector('#df-9874a8fa-c595-4e4d-99e3-26677a2182d1');\n",
              "          const dataTable =\n",
              "            await google.colab.kernel.invokeFunction('convertToInteractive',\n",
              "                                                     [key], {});\n",
              "          if (!dataTable) return;\n",
              "\n",
              "          const docLinkHtml = 'Like what you see? Visit the ' +\n",
              "            '<a target=\"_blank\" href=https://colab.research.google.com/notebooks/data_table.ipynb>data table notebook</a>'\n",
              "            + ' to learn more about interactive tables.';\n",
              "          element.innerHTML = '';\n",
              "          dataTable['output_type'] = 'display_data';\n",
              "          await google.colab.output.renderOutput(dataTable, element);\n",
              "          const docLink = document.createElement('div');\n",
              "          docLink.innerHTML = docLinkHtml;\n",
              "          element.appendChild(docLink);\n",
              "        }\n",
              "      </script>\n",
              "    </div>\n",
              "  </div>\n",
              "  "
            ]
          },
          "metadata": {},
          "execution_count": 122
        }
      ]
    },
    {
      "cell_type": "code",
      "source": [
        "df['month'].unique()"
      ],
      "metadata": {
        "colab": {
          "base_uri": "https://localhost:8080/"
        },
        "id": "0yuSaJy_5X82",
        "outputId": "fdef3c9a-bd7f-4aea-dcac-652beff7fbf1"
      },
      "execution_count": null,
      "outputs": [
        {
          "output_type": "execute_result",
          "data": {
            "text/plain": [
              "array([1, 2, 3, 4, 5, 6])"
            ]
          },
          "metadata": {},
          "execution_count": 123
        }
      ]
    },
    {
      "cell_type": "code",
      "source": [
        "# df['month'] = df['month'].replace({1: 'Jan', 2: 'Feb', 3:'Mar', 4:'Apr', 5:'May', 6:'Jun'})\n"
      ],
      "metadata": {
        "id": "C8LlRWSP5LbX"
      },
      "execution_count": null,
      "outputs": []
    },
    {
      "cell_type": "code",
      "source": [
        "df_month= df.groupby('month')['bluecars_taken_sum'].sum().reset_index()"
      ],
      "metadata": {
        "id": "5H0UbqZG6n50"
      },
      "execution_count": null,
      "outputs": []
    },
    {
      "cell_type": "code",
      "source": [
        "df_month"
      ],
      "metadata": {
        "colab": {
          "base_uri": "https://localhost:8080/",
          "height": 238
        },
        "id": "54XJrgSMCnQ8",
        "outputId": "815723b3-b34f-4f85-bb27-91a28094cf49"
      },
      "execution_count": null,
      "outputs": [
        {
          "output_type": "execute_result",
          "data": {
            "text/plain": [
              "   month  bluecars_taken_sum\n",
              "0      1              403174\n",
              "1      2              309708\n",
              "2      3              405231\n",
              "3      4              385103\n",
              "4      5              264814\n",
              "5      6              257505"
            ],
            "text/html": [
              "\n",
              "  <div id=\"df-092a2b92-dc57-4fc5-b11e-cce3c575650f\">\n",
              "    <div class=\"colab-df-container\">\n",
              "      <div>\n",
              "<style scoped>\n",
              "    .dataframe tbody tr th:only-of-type {\n",
              "        vertical-align: middle;\n",
              "    }\n",
              "\n",
              "    .dataframe tbody tr th {\n",
              "        vertical-align: top;\n",
              "    }\n",
              "\n",
              "    .dataframe thead th {\n",
              "        text-align: right;\n",
              "    }\n",
              "</style>\n",
              "<table border=\"1\" class=\"dataframe\">\n",
              "  <thead>\n",
              "    <tr style=\"text-align: right;\">\n",
              "      <th></th>\n",
              "      <th>month</th>\n",
              "      <th>bluecars_taken_sum</th>\n",
              "    </tr>\n",
              "  </thead>\n",
              "  <tbody>\n",
              "    <tr>\n",
              "      <th>0</th>\n",
              "      <td>1</td>\n",
              "      <td>403174</td>\n",
              "    </tr>\n",
              "    <tr>\n",
              "      <th>1</th>\n",
              "      <td>2</td>\n",
              "      <td>309708</td>\n",
              "    </tr>\n",
              "    <tr>\n",
              "      <th>2</th>\n",
              "      <td>3</td>\n",
              "      <td>405231</td>\n",
              "    </tr>\n",
              "    <tr>\n",
              "      <th>3</th>\n",
              "      <td>4</td>\n",
              "      <td>385103</td>\n",
              "    </tr>\n",
              "    <tr>\n",
              "      <th>4</th>\n",
              "      <td>5</td>\n",
              "      <td>264814</td>\n",
              "    </tr>\n",
              "    <tr>\n",
              "      <th>5</th>\n",
              "      <td>6</td>\n",
              "      <td>257505</td>\n",
              "    </tr>\n",
              "  </tbody>\n",
              "</table>\n",
              "</div>\n",
              "      <button class=\"colab-df-convert\" onclick=\"convertToInteractive('df-092a2b92-dc57-4fc5-b11e-cce3c575650f')\"\n",
              "              title=\"Convert this dataframe to an interactive table.\"\n",
              "              style=\"display:none;\">\n",
              "        \n",
              "  <svg xmlns=\"http://www.w3.org/2000/svg\" height=\"24px\"viewBox=\"0 0 24 24\"\n",
              "       width=\"24px\">\n",
              "    <path d=\"M0 0h24v24H0V0z\" fill=\"none\"/>\n",
              "    <path d=\"M18.56 5.44l.94 2.06.94-2.06 2.06-.94-2.06-.94-.94-2.06-.94 2.06-2.06.94zm-11 1L8.5 8.5l.94-2.06 2.06-.94-2.06-.94L8.5 2.5l-.94 2.06-2.06.94zm10 10l.94 2.06.94-2.06 2.06-.94-2.06-.94-.94-2.06-.94 2.06-2.06.94z\"/><path d=\"M17.41 7.96l-1.37-1.37c-.4-.4-.92-.59-1.43-.59-.52 0-1.04.2-1.43.59L10.3 9.45l-7.72 7.72c-.78.78-.78 2.05 0 2.83L4 21.41c.39.39.9.59 1.41.59.51 0 1.02-.2 1.41-.59l7.78-7.78 2.81-2.81c.8-.78.8-2.07 0-2.86zM5.41 20L4 18.59l7.72-7.72 1.47 1.35L5.41 20z\"/>\n",
              "  </svg>\n",
              "      </button>\n",
              "      \n",
              "  <style>\n",
              "    .colab-df-container {\n",
              "      display:flex;\n",
              "      flex-wrap:wrap;\n",
              "      gap: 12px;\n",
              "    }\n",
              "\n",
              "    .colab-df-convert {\n",
              "      background-color: #E8F0FE;\n",
              "      border: none;\n",
              "      border-radius: 50%;\n",
              "      cursor: pointer;\n",
              "      display: none;\n",
              "      fill: #1967D2;\n",
              "      height: 32px;\n",
              "      padding: 0 0 0 0;\n",
              "      width: 32px;\n",
              "    }\n",
              "\n",
              "    .colab-df-convert:hover {\n",
              "      background-color: #E2EBFA;\n",
              "      box-shadow: 0px 1px 2px rgba(60, 64, 67, 0.3), 0px 1px 3px 1px rgba(60, 64, 67, 0.15);\n",
              "      fill: #174EA6;\n",
              "    }\n",
              "\n",
              "    [theme=dark] .colab-df-convert {\n",
              "      background-color: #3B4455;\n",
              "      fill: #D2E3FC;\n",
              "    }\n",
              "\n",
              "    [theme=dark] .colab-df-convert:hover {\n",
              "      background-color: #434B5C;\n",
              "      box-shadow: 0px 1px 3px 1px rgba(0, 0, 0, 0.15);\n",
              "      filter: drop-shadow(0px 1px 2px rgba(0, 0, 0, 0.3));\n",
              "      fill: #FFFFFF;\n",
              "    }\n",
              "  </style>\n",
              "\n",
              "      <script>\n",
              "        const buttonEl =\n",
              "          document.querySelector('#df-092a2b92-dc57-4fc5-b11e-cce3c575650f button.colab-df-convert');\n",
              "        buttonEl.style.display =\n",
              "          google.colab.kernel.accessAllowed ? 'block' : 'none';\n",
              "\n",
              "        async function convertToInteractive(key) {\n",
              "          const element = document.querySelector('#df-092a2b92-dc57-4fc5-b11e-cce3c575650f');\n",
              "          const dataTable =\n",
              "            await google.colab.kernel.invokeFunction('convertToInteractive',\n",
              "                                                     [key], {});\n",
              "          if (!dataTable) return;\n",
              "\n",
              "          const docLinkHtml = 'Like what you see? Visit the ' +\n",
              "            '<a target=\"_blank\" href=https://colab.research.google.com/notebooks/data_table.ipynb>data table notebook</a>'\n",
              "            + ' to learn more about interactive tables.';\n",
              "          element.innerHTML = '';\n",
              "          dataTable['output_type'] = 'display_data';\n",
              "          await google.colab.output.renderOutput(dataTable, element);\n",
              "          const docLink = document.createElement('div');\n",
              "          docLink.innerHTML = docLinkHtml;\n",
              "          element.appendChild(docLink);\n",
              "        }\n",
              "      </script>\n",
              "    </div>\n",
              "  </div>\n",
              "  "
            ]
          },
          "metadata": {},
          "execution_count": 126
        }
      ]
    },
    {
      "cell_type": "code",
      "source": [
        "types = ['bar', 'line']\n",
        "for typ in types:\n",
        "  df_month.plot(x='month', y='bluecars_taken_sum', kind=typ)\n",
        "\n",
        "  plt.xlabel('month')\n",
        "  plt.ylabel('no. of bluecars taken')\n",
        "  if typ == 'bar':\n",
        "    plt.xticks(ticks=[0, 1, 2, 3, 4, 5], labels=['Jan', 'Feb', 'Mar','Apr', 'May', 'Jun'])\n",
        "  else:\n",
        "    plt.xticks(ticks=[1, 2, 3, 4, 5, 6], labels=['Jan', 'Feb', 'Mar','Apr', 'May', 'Jun'])\n",
        "  plt.title('Number of bluecars taken by month')\n",
        "  plt.show()\n"
      ],
      "metadata": {
        "colab": {
          "base_uri": "https://localhost:8080/",
          "height": 584
        },
        "id": "fNb0ed-14wKP",
        "outputId": "4548abc8-e7e4-46f0-af9f-36b8550cb757"
      },
      "execution_count": null,
      "outputs": [
        {
          "output_type": "display_data",
          "data": {
            "text/plain": [
              "<Figure size 432x288 with 1 Axes>"
            ],
            "image/png": "[encoded data removed]"
          },
          "metadata": {
            "needs_background": "light"
          }
        },
        {
          "output_type": "display_data",
          "data": {
            "text/plain": [
              "<Figure size 432x288 with 1 Axes>"
            ],
            "image/png": "[encoded data removed]"
          },
          "metadata": {
            "needs_background": "light"
          }
        }
      ]
    },
    {
      "cell_type": "markdown",
      "source": [
        "January and March are the months with the highest numbers of bluecars taken. June had the lowest numbers."
      ],
      "metadata": {
        "id": "k9SlIaE77B2d"
      }
    },
    {
      "cell_type": "markdown",
      "source": [
        "#### Num of bluecars by day of week"
      ],
      "metadata": {
        "id": "1a3Ah16K7aAB"
      }
    },
    {
      "cell_type": "code",
      "source": [
        "df_week= df.groupby('dayofweek')['bluecars_taken_sum'].sum().reset_index()"
      ],
      "metadata": {
        "id": "3LTTs6gCBBJ4"
      },
      "execution_count": null,
      "outputs": []
    },
    {
      "cell_type": "code",
      "source": [
        "types = ['bar', 'line']\n",
        "for typ in types:\n",
        "  df_week.plot(x='dayofweek', y='bluecars_taken_sum', kind=typ)\n",
        "\n",
        "  plt.xlabel('month')\n",
        "  plt.ylabel('no. of bluecars taken')\n",
        "  if typ == 'bar':\n",
        "    plt.xticks(ticks=[0, 1, 2, 3, 4, 5,6], labels=['Mon', 'Tue', 'Wed','Thur', 'Fri', 'Sat', 'Sun'])\n",
        "  else:\n",
        "    plt.xticks(ticks=[0,1, 2, 3, 4, 5, 6], labels=['Mon', 'Tue', 'Wed','Thur', 'Fri', 'Sat', 'Sun'])\n",
        "  plt.title('Number of bluecars taken per day of week')\n",
        "  plt.show()\n",
        "\n"
      ],
      "metadata": {
        "colab": {
          "base_uri": "https://localhost:8080/",
          "height": 586
        },
        "id": "6gsdzNcM3GMv",
        "outputId": "7a9d7481-d845-4e37-fa33-a418c4a5898e"
      },
      "execution_count": null,
      "outputs": [
        {
          "output_type": "display_data",
          "data": {
            "text/plain": [
              "<Figure size 432x288 with 1 Axes>"
            ],
            "image/png": "[encoded data removed]"
          },
          "metadata": {
            "needs_background": "light"
          }
        },
        {
          "output_type": "display_data",
          "data": {
            "text/plain": [
              "<Figure size 432x288 with 1 Axes>"
            ],
            "image/png": "[encoded data removed]"
          },
          "metadata": {
            "needs_background": "light"
          }
        }
      ]
    },
    {
      "cell_type": "markdown",
      "source": [
        "Saturdays have the highest number of blue cars taken "
      ],
      "metadata": {
        "id": "PxFd5KrqBOjM"
      }
    },
    {
      "cell_type": "code",
      "source": [
        ""
      ],
      "metadata": {
        "id": "A3EYl1zyGlsw"
      },
      "execution_count": null,
      "outputs": []
    },
    {
      "cell_type": "markdown",
      "source": [
        "#### correlation"
      ],
      "metadata": {
        "id": "l9BD2t95cRIC"
      }
    },
    {
      "cell_type": "code",
      "source": [
        "df.dtypes"
      ],
      "metadata": {
        "colab": {
          "base_uri": "https://localhost:8080/"
        },
        "id": "hjd530yAc1jG",
        "outputId": "f3f62d14-2620-46e9-b656-b866e2db6d81"
      },
      "execution_count": null,
      "outputs": [
        {
          "output_type": "execute_result",
          "data": {
            "text/plain": [
              "postal_code                        int64\n",
              "date                      datetime64[ns]\n",
              "n_daily_data_points                int64\n",
              "dayofweek                          int64\n",
              "day_type                          object\n",
              "bluecars_taken_sum                 int64\n",
              "bluecars_returned_sum              int64\n",
              "utilib_taken_sum                   int64\n",
              "utilib_returned_sum                int64\n",
              "utilib_14_taken_sum                int64\n",
              "utilib_14_returned_sum             int64\n",
              "slots_freed_sum                    int64\n",
              "slots_taken_sum                    int64\n",
              "month                              int64\n",
              "dtype: object"
            ]
          },
          "metadata": {},
          "execution_count": 130
        }
      ]
    },
    {
      "cell_type": "code",
      "source": [
        "df.columns"
      ],
      "metadata": {
        "colab": {
          "base_uri": "https://localhost:8080/"
        },
        "id": "OWvnhzZ5jbuP",
        "outputId": "14340e2b-8af0-4b6b-c925-987f07c9197f"
      },
      "execution_count": null,
      "outputs": [
        {
          "output_type": "execute_result",
          "data": {
            "text/plain": [
              "Index(['postal_code', 'date', 'n_daily_data_points', 'dayofweek', 'day_type',\n",
              "       'bluecars_taken_sum', 'bluecars_returned_sum', 'utilib_taken_sum',\n",
              "       'utilib_returned_sum', 'utilib_14_taken_sum', 'utilib_14_returned_sum',\n",
              "       'slots_freed_sum', 'slots_taken_sum', 'month'],\n",
              "      dtype='object')"
            ]
          },
          "metadata": {},
          "execution_count": 131
        }
      ]
    },
    {
      "cell_type": "code",
      "source": [
        "cols = ['date', 'day_type']\n",
        "df_2 = df.copy()\n",
        "from sklearn.preprocessing import LabelEncoder\n",
        "enc = LabelEncoder()\n",
        "\n",
        "for col in cols:\n",
        "  df_2[col] = enc.fit_transform(df_2[col])\n",
        "df_2.head()"
      ],
      "metadata": {
        "colab": {
          "base_uri": "https://localhost:8080/",
          "height": 270
        },
        "id": "vG3L0YHjfCib",
        "outputId": "f4ee5fdd-03ab-471f-897b-c319c5e6ae9e"
      },
      "execution_count": null,
      "outputs": [
        {
          "output_type": "execute_result",
          "data": {
            "text/plain": [
              "   postal_code  date  n_daily_data_points  dayofweek  day_type  \\\n",
              "0        75001     0                 1440          0         0   \n",
              "1        75001     1                 1438          1         0   \n",
              "2        75001     2                 1439          2         0   \n",
              "3        75001     3                 1320          3         0   \n",
              "4        75001     4                 1440          4         0   \n",
              "\n",
              "   bluecars_taken_sum  bluecars_returned_sum  utilib_taken_sum  \\\n",
              "0                 110                    103                 3   \n",
              "1                  98                     94                 1   \n",
              "2                 138                    139                 0   \n",
              "3                 104                    104                 2   \n",
              "4                 114                    117                 3   \n",
              "\n",
              "   utilib_returned_sum  utilib_14_taken_sum  utilib_14_returned_sum  \\\n",
              "0                    2                   10                       9   \n",
              "1                    1                    8                       8   \n",
              "2                    0                    2                       2   \n",
              "3                    2                    9                       8   \n",
              "4                    3                    6                       6   \n",
              "\n",
              "   slots_freed_sum  slots_taken_sum  month  \n",
              "0               22               20      1  \n",
              "1               23               22      1  \n",
              "2               27               27      1  \n",
              "3               25               21      1  \n",
              "4               18               20      1  "
            ],
            "text/html": [
              "\n",
              "  <div id=\"df-5cd814dd-4760-42d4-94f7-3c8657450d9c\">\n",
              "    <div class=\"colab-df-container\">\n",
              "      <div>\n",
              "<style scoped>\n",
              "    .dataframe tbody tr th:only-of-type {\n",
              "        vertical-align: middle;\n",
              "    }\n",
              "\n",
              "    .dataframe tbody tr th {\n",
              "        vertical-align: top;\n",
              "    }\n",
              "\n",
              "    .dataframe thead th {\n",
              "        text-align: right;\n",
              "    }\n",
              "</style>\n",
              "<table border=\"1\" class=\"dataframe\">\n",
              "  <thead>\n",
              "    <tr style=\"text-align: right;\">\n",
              "      <th></th>\n",
              "      <th>postal_code</th>\n",
              "      <th>date</th>\n",
              "      <th>n_daily_data_points</th>\n",
              "      <th>dayofweek</th>\n",
              "      <th>day_type</th>\n",
              "      <th>bluecars_taken_sum</th>\n",
              "      <th>bluecars_returned_sum</th>\n",
              "      <th>utilib_taken_sum</th>\n",
              "      <th>utilib_returned_sum</th>\n",
              "      <th>utilib_14_taken_sum</th>\n",
              "      <th>utilib_14_returned_sum</th>\n",
              "      <th>slots_freed_sum</th>\n",
              "      <th>slots_taken_sum</th>\n",
              "      <th>month</th>\n",
              "    </tr>\n",
              "  </thead>\n",
              "  <tbody>\n",
              "    <tr>\n",
              "      <th>0</th>\n",
              "      <td>75001</td>\n",
              "      <td>0</td>\n",
              "      <td>1440</td>\n",
              "      <td>0</td>\n",
              "      <td>0</td>\n",
              "      <td>110</td>\n",
              "      <td>103</td>\n",
              "      <td>3</td>\n",
              "      <td>2</td>\n",
              "      <td>10</td>\n",
              "      <td>9</td>\n",
              "      <td>22</td>\n",
              "      <td>20</td>\n",
              "      <td>1</td>\n",
              "    </tr>\n",
              "    <tr>\n",
              "      <th>1</th>\n",
              "      <td>75001</td>\n",
              "      <td>1</td>\n",
              "      <td>1438</td>\n",
              "      <td>1</td>\n",
              "      <td>0</td>\n",
              "      <td>98</td>\n",
              "      <td>94</td>\n",
              "      <td>1</td>\n",
              "      <td>1</td>\n",
              "      <td>8</td>\n",
              "      <td>8</td>\n",
              "      <td>23</td>\n",
              "      <td>22</td>\n",
              "      <td>1</td>\n",
              "    </tr>\n",
              "    <tr>\n",
              "      <th>2</th>\n",
              "      <td>75001</td>\n",
              "      <td>2</td>\n",
              "      <td>1439</td>\n",
              "      <td>2</td>\n",
              "      <td>0</td>\n",
              "      <td>138</td>\n",
              "      <td>139</td>\n",
              "      <td>0</td>\n",
              "      <td>0</td>\n",
              "      <td>2</td>\n",
              "      <td>2</td>\n",
              "      <td>27</td>\n",
              "      <td>27</td>\n",
              "      <td>1</td>\n",
              "    </tr>\n",
              "    <tr>\n",
              "      <th>3</th>\n",
              "      <td>75001</td>\n",
              "      <td>3</td>\n",
              "      <td>1320</td>\n",
              "      <td>3</td>\n",
              "      <td>0</td>\n",
              "      <td>104</td>\n",
              "      <td>104</td>\n",
              "      <td>2</td>\n",
              "      <td>2</td>\n",
              "      <td>9</td>\n",
              "      <td>8</td>\n",
              "      <td>25</td>\n",
              "      <td>21</td>\n",
              "      <td>1</td>\n",
              "    </tr>\n",
              "    <tr>\n",
              "      <th>4</th>\n",
              "      <td>75001</td>\n",
              "      <td>4</td>\n",
              "      <td>1440</td>\n",
              "      <td>4</td>\n",
              "      <td>0</td>\n",
              "      <td>114</td>\n",
              "      <td>117</td>\n",
              "      <td>3</td>\n",
              "      <td>3</td>\n",
              "      <td>6</td>\n",
              "      <td>6</td>\n",
              "      <td>18</td>\n",
              "      <td>20</td>\n",
              "      <td>1</td>\n",
              "    </tr>\n",
              "  </tbody>\n",
              "</table>\n",
              "</div>\n",
              "      <button class=\"colab-df-convert\" onclick=\"convertToInteractive('df-5cd814dd-4760-42d4-94f7-3c8657450d9c')\"\n",
              "              title=\"Convert this dataframe to an interactive table.\"\n",
              "              style=\"display:none;\">\n",
              "        \n",
              "  <svg xmlns=\"http://www.w3.org/2000/svg\" height=\"24px\"viewBox=\"0 0 24 24\"\n",
              "       width=\"24px\">\n",
              "    <path d=\"M0 0h24v24H0V0z\" fill=\"none\"/>\n",
              "    <path d=\"M18.56 5.44l.94 2.06.94-2.06 2.06-.94-2.06-.94-.94-2.06-.94 2.06-2.06.94zm-11 1L8.5 8.5l.94-2.06 2.06-.94-2.06-.94L8.5 2.5l-.94 2.06-2.06.94zm10 10l.94 2.06.94-2.06 2.06-.94-2.06-.94-.94-2.06-.94 2.06-2.06.94z\"/><path d=\"M17.41 7.96l-1.37-1.37c-.4-.4-.92-.59-1.43-.59-.52 0-1.04.2-1.43.59L10.3 9.45l-7.72 7.72c-.78.78-.78 2.05 0 2.83L4 21.41c.39.39.9.59 1.41.59.51 0 1.02-.2 1.41-.59l7.78-7.78 2.81-2.81c.8-.78.8-2.07 0-2.86zM5.41 20L4 18.59l7.72-7.72 1.47 1.35L5.41 20z\"/>\n",
              "  </svg>\n",
              "      </button>\n",
              "      \n",
              "  <style>\n",
              "    .colab-df-container {\n",
              "      display:flex;\n",
              "      flex-wrap:wrap;\n",
              "      gap: 12px;\n",
              "    }\n",
              "\n",
              "    .colab-df-convert {\n",
              "      background-color: #E8F0FE;\n",
              "      border: none;\n",
              "      border-radius: 50%;\n",
              "      cursor: pointer;\n",
              "      display: none;\n",
              "      fill: #1967D2;\n",
              "      height: 32px;\n",
              "      padding: 0 0 0 0;\n",
              "      width: 32px;\n",
              "    }\n",
              "\n",
              "    .colab-df-convert:hover {\n",
              "      background-color: #E2EBFA;\n",
              "      box-shadow: 0px 1px 2px rgba(60, 64, 67, 0.3), 0px 1px 3px 1px rgba(60, 64, 67, 0.15);\n",
              "      fill: #174EA6;\n",
              "    }\n",
              "\n",
              "    [theme=dark] .colab-df-convert {\n",
              "      background-color: #3B4455;\n",
              "      fill: #D2E3FC;\n",
              "    }\n",
              "\n",
              "    [theme=dark] .colab-df-convert:hover {\n",
              "      background-color: #434B5C;\n",
              "      box-shadow: 0px 1px 3px 1px rgba(0, 0, 0, 0.15);\n",
              "      filter: drop-shadow(0px 1px 2px rgba(0, 0, 0, 0.3));\n",
              "      fill: #FFFFFF;\n",
              "    }\n",
              "  </style>\n",
              "\n",
              "      <script>\n",
              "        const buttonEl =\n",
              "          document.querySelector('#df-5cd814dd-4760-42d4-94f7-3c8657450d9c button.colab-df-convert');\n",
              "        buttonEl.style.display =\n",
              "          google.colab.kernel.accessAllowed ? 'block' : 'none';\n",
              "\n",
              "        async function convertToInteractive(key) {\n",
              "          const element = document.querySelector('#df-5cd814dd-4760-42d4-94f7-3c8657450d9c');\n",
              "          const dataTable =\n",
              "            await google.colab.kernel.invokeFunction('convertToInteractive',\n",
              "                                                     [key], {});\n",
              "          if (!dataTable) return;\n",
              "\n",
              "          const docLinkHtml = 'Like what you see? Visit the ' +\n",
              "            '<a target=\"_blank\" href=https://colab.research.google.com/notebooks/data_table.ipynb>data table notebook</a>'\n",
              "            + ' to learn more about interactive tables.';\n",
              "          element.innerHTML = '';\n",
              "          dataTable['output_type'] = 'display_data';\n",
              "          await google.colab.output.renderOutput(dataTable, element);\n",
              "          const docLink = document.createElement('div');\n",
              "          docLink.innerHTML = docLinkHtml;\n",
              "          element.appendChild(docLink);\n",
              "        }\n",
              "      </script>\n",
              "    </div>\n",
              "  </div>\n",
              "  "
            ]
          },
          "metadata": {},
          "execution_count": 132
        }
      ]
    },
    {
      "cell_type": "code",
      "source": [
        "sns.heatmap(df_2.corr(),annot=True)\n",
        "plt.gcf().set_size_inches(12,6)\n",
        "plt.show()"
      ],
      "metadata": {
        "colab": {
          "base_uri": "https://localhost:8080/",
          "height": 485
        },
        "id": "FeLHtyQsfMss",
        "outputId": "294f83fe-fee0-4429-eb51-1321abbaf266"
      },
      "execution_count": null,
      "outputs": [
        {
          "output_type": "display_data",
          "data": {
            "text/plain": [
              "<Figure size 864x432 with 2 Axes>"
            ],
            "image/png": "[encoded data removed]"
          },
          "metadata": {
            "needs_background": "light"
          }
        }
      ]
    },
    {
      "cell_type": "markdown",
      "source": [
        "The number of blue cars taken is our main column of interest. It is highly positively correlated with blue cars returned, followed by slots freed and taken, then utilibs taken and returned. \n",
        "\n",
        "It has a strong negative correlation with the postal code (which each represent a particular area)"
      ],
      "metadata": {
        "id": "cLpPHQ7GgNnV"
      }
    },
    {
      "cell_type": "markdown",
      "metadata": {
        "id": "vTbdjSrhVIiT"
      },
      "source": [
        "##  6. Implementing the Solution  (Hypothesis testing)"
      ]
    },
    {
      "cell_type": "markdown",
      "source": [
        "Claim: The average number of blue cars taken during weekends in the 9th-20th arrondissements of Paris is greater than the average number taken in the 1st-8th arrondissements during weekends."
      ],
      "metadata": {
        "id": "0P6teDxafJ6J"
      }
    },
    {
      "cell_type": "markdown",
      "source": [
        "#### Sampling"
      ],
      "metadata": {
        "id": "ac0M0GL3Al_2"
      }
    },
    {
      "cell_type": "markdown",
      "source": [
        "We will select our samples of interest from Autolib dataset (has various dates from January to June 2018) using purposive sampling. This is because our research questions specifically entail investigating arrondissements in Paris during the weekends, so our samples will have those specific features. "
      ],
      "metadata": {
        "id": "12WXb4r4bkwT"
      }
    },
    {
      "cell_type": "code",
      "source": [
        "#seeing the unique postal codes\n",
        "df.postal_code.unique()"
      ],
      "metadata": {
        "colab": {
          "base_uri": "https://localhost:8080/"
        },
        "id": "xHty7XfW1FfT",
        "outputId": "7e7e127d-0808-4b19-d6b2-ec896c6fdae5"
      },
      "execution_count": null,
      "outputs": [
        {
          "output_type": "execute_result",
          "data": {
            "text/plain": [
              "array([75001, 75002, 75003, 75004, 75005, 75006, 75007, 75008, 75009,\n",
              "       75010, 75011, 75012, 75013, 75014, 75015, 75016, 75017, 75018,\n",
              "       75019, 75020, 75112, 75116, 78000, 78140, 78150, 91330, 91370,\n",
              "       91400, 92000, 92100, 92110, 92120, 92130, 92140, 92150, 92160,\n",
              "       92170, 92190, 92200, 92210, 92220, 92230, 92240, 92250, 92260,\n",
              "       92270, 92290, 92300, 92310, 92320, 92330, 92340, 92350, 92360,\n",
              "       92370, 92380, 92390, 92400, 92410, 92420, 92500, 92600, 92700,\n",
              "       92800, 93100, 93110, 93130, 93150, 93170, 93200, 93230, 93260,\n",
              "       93300, 93310, 93350, 93360, 93370, 93390, 93400, 93440, 93500,\n",
              "       93600, 93700, 93800, 94000, 94100, 94110, 94120, 94130, 94140,\n",
              "       94150, 94160, 94220, 94230, 94300, 94340, 94410, 94450, 94500,\n",
              "       94700, 94800, 95100, 95870, 95880])"
            ]
          },
          "metadata": {},
          "execution_count": 134
        }
      ]
    },
    {
      "cell_type": "markdown",
      "source": [
        "Postal codes in France - 5 digits. For Paris, the first 2 digits are 75 , followed by 3 digits that specify the arrondissement ( [postcode prefixes](https://www.parcelforce.com/sites/default/files/FR%20Postcodes%20Jan20%20v1%20020120_0.pdf), [arrondissements](https://www.worldpostalcodes.org/en/france/arrondissement/map-of-postal-codes-in-paris))."
      ],
      "metadata": {
        "id": "kTp4al-l2BtL"
      }
    },
    {
      "cell_type": "code",
      "source": [
        "#isolating indexes of postal codes that fit the above description\n",
        "indexes=[]\n",
        "for index, x in enumerate(list(df.postal_code)):\n",
        "  if x in range(75000, 76000):\n",
        "    indexes.append(index)"
      ],
      "metadata": {
        "id": "6etgSOay_qrb"
      },
      "execution_count": null,
      "outputs": []
    },
    {
      "cell_type": "code",
      "source": [
        "#the paris sample\n",
        "df_par = df.loc[indexes, :]\n",
        "df_par"
      ],
      "metadata": {
        "colab": {
          "base_uri": "https://localhost:8080/",
          "height": 661
        },
        "id": "ShrMnKwCAacU",
        "outputId": "5bfb1493-3060-412b-b717-c57ce4fe6dcd"
      },
      "execution_count": null,
      "outputs": [
        {
          "output_type": "execute_result",
          "data": {
            "text/plain": [
              "      postal_code       date  n_daily_data_points  dayofweek day_type  \\\n",
              "0           75001 2018-01-01                 1440          0  weekday   \n",
              "1           75001 2018-01-02                 1438          1  weekday   \n",
              "2           75001 2018-01-03                 1439          2  weekday   \n",
              "3           75001 2018-01-04                 1320          3  weekday   \n",
              "4           75001 2018-01-05                 1440          4  weekday   \n",
              "...           ...        ...                  ...        ...      ...   \n",
              "3426        75116 2018-06-14                 1439          3  weekday   \n",
              "3427        75116 2018-06-15                 1440          4  weekday   \n",
              "3428        75116 2018-06-16                 1440          5  weekend   \n",
              "3429        75116 2018-06-17                 1440          6  weekend   \n",
              "3430        75116 2018-06-18                 1440          0  weekday   \n",
              "\n",
              "      bluecars_taken_sum  bluecars_returned_sum  utilib_taken_sum  \\\n",
              "0                    110                    103                 3   \n",
              "1                     98                     94                 1   \n",
              "2                    138                    139                 0   \n",
              "3                    104                    104                 2   \n",
              "4                    114                    117                 3   \n",
              "...                  ...                    ...               ...   \n",
              "3426                   8                      7                 0   \n",
              "3427                  17                     14                 0   \n",
              "3428                  14                     18                 0   \n",
              "3429                  11                      9                 0   \n",
              "3430                   5                      6                 0   \n",
              "\n",
              "      utilib_returned_sum  utilib_14_taken_sum  utilib_14_returned_sum  \\\n",
              "0                       2                   10                       9   \n",
              "1                       1                    8                       8   \n",
              "2                       0                    2                       2   \n",
              "3                       2                    9                       8   \n",
              "4                       3                    6                       6   \n",
              "...                   ...                  ...                     ...   \n",
              "3426                    0                    0                       0   \n",
              "3427                    0                    0                       0   \n",
              "3428                    0                    0                       0   \n",
              "3429                    0                    1                       1   \n",
              "3430                    0                    1                       1   \n",
              "\n",
              "      slots_freed_sum  slots_taken_sum  month  \n",
              "0                  22               20      1  \n",
              "1                  23               22      1  \n",
              "2                  27               27      1  \n",
              "3                  25               21      1  \n",
              "4                  18               20      1  \n",
              "...               ...              ...    ...  \n",
              "3426                4                3      6  \n",
              "3427                8                8      6  \n",
              "3428                4                5      6  \n",
              "3429                4                3      6  \n",
              "3430                1                2      6  \n",
              "\n",
              "[3431 rows x 14 columns]"
            ],
            "text/html": [
              "\n",
              "  <div id=\"df-f855f535-8bfd-4068-99ab-e27790a172cc\">\n",
              "    <div class=\"colab-df-container\">\n",
              "      <div>\n",
              "<style scoped>\n",
              "    .dataframe tbody tr th:only-of-type {\n",
              "        vertical-align: middle;\n",
              "    }\n",
              "\n",
              "    .dataframe tbody tr th {\n",
              "        vertical-align: top;\n",
              "    }\n",
              "\n",
              "    .dataframe thead th {\n",
              "        text-align: right;\n",
              "    }\n",
              "</style>\n",
              "<table border=\"1\" class=\"dataframe\">\n",
              "  <thead>\n",
              "    <tr style=\"text-align: right;\">\n",
              "      <th></th>\n",
              "      <th>postal_code</th>\n",
              "      <th>date</th>\n",
              "      <th>n_daily_data_points</th>\n",
              "      <th>dayofweek</th>\n",
              "      <th>day_type</th>\n",
              "      <th>bluecars_taken_sum</th>\n",
              "      <th>bluecars_returned_sum</th>\n",
              "      <th>utilib_taken_sum</th>\n",
              "      <th>utilib_returned_sum</th>\n",
              "      <th>utilib_14_taken_sum</th>\n",
              "      <th>utilib_14_returned_sum</th>\n",
              "      <th>slots_freed_sum</th>\n",
              "      <th>slots_taken_sum</th>\n",
              "      <th>month</th>\n",
              "    </tr>\n",
              "  </thead>\n",
              "  <tbody>\n",
              "    <tr>\n",
              "      <th>0</th>\n",
              "      <td>75001</td>\n",
              "      <td>2018-01-01</td>\n",
              "      <td>1440</td>\n",
              "      <td>0</td>\n",
              "      <td>weekday</td>\n",
              "      <td>110</td>\n",
              "      <td>103</td>\n",
              "      <td>3</td>\n",
              "      <td>2</td>\n",
              "      <td>10</td>\n",
              "      <td>9</td>\n",
              "      <td>22</td>\n",
              "      <td>20</td>\n",
              "      <td>1</td>\n",
              "    </tr>\n",
              "    <tr>\n",
              "      <th>1</th>\n",
              "      <td>75001</td>\n",
              "      <td>2018-01-02</td>\n",
              "      <td>1438</td>\n",
              "      <td>1</td>\n",
              "      <td>weekday</td>\n",
              "      <td>98</td>\n",
              "      <td>94</td>\n",
              "      <td>1</td>\n",
              "      <td>1</td>\n",
              "      <td>8</td>\n",
              "      <td>8</td>\n",
              "      <td>23</td>\n",
              "      <td>22</td>\n",
              "      <td>1</td>\n",
              "    </tr>\n",
              "    <tr>\n",
              "      <th>2</th>\n",
              "      <td>75001</td>\n",
              "      <td>2018-01-03</td>\n",
              "      <td>1439</td>\n",
              "      <td>2</td>\n",
              "      <td>weekday</td>\n",
              "      <td>138</td>\n",
              "      <td>139</td>\n",
              "      <td>0</td>\n",
              "      <td>0</td>\n",
              "      <td>2</td>\n",
              "      <td>2</td>\n",
              "      <td>27</td>\n",
              "      <td>27</td>\n",
              "      <td>1</td>\n",
              "    </tr>\n",
              "    <tr>\n",
              "      <th>3</th>\n",
              "      <td>75001</td>\n",
              "      <td>2018-01-04</td>\n",
              "      <td>1320</td>\n",
              "      <td>3</td>\n",
              "      <td>weekday</td>\n",
              "      <td>104</td>\n",
              "      <td>104</td>\n",
              "      <td>2</td>\n",
              "      <td>2</td>\n",
              "      <td>9</td>\n",
              "      <td>8</td>\n",
              "      <td>25</td>\n",
              "      <td>21</td>\n",
              "      <td>1</td>\n",
              "    </tr>\n",
              "    <tr>\n",
              "      <th>4</th>\n",
              "      <td>75001</td>\n",
              "      <td>2018-01-05</td>\n",
              "      <td>1440</td>\n",
              "      <td>4</td>\n",
              "      <td>weekday</td>\n",
              "      <td>114</td>\n",
              "      <td>117</td>\n",
              "      <td>3</td>\n",
              "      <td>3</td>\n",
              "      <td>6</td>\n",
              "      <td>6</td>\n",
              "      <td>18</td>\n",
              "      <td>20</td>\n",
              "      <td>1</td>\n",
              "    </tr>\n",
              "    <tr>\n",
              "      <th>...</th>\n",
              "      <td>...</td>\n",
              "      <td>...</td>\n",
              "      <td>...</td>\n",
              "      <td>...</td>\n",
              "      <td>...</td>\n",
              "      <td>...</td>\n",
              "      <td>...</td>\n",
              "      <td>...</td>\n",
              "      <td>...</td>\n",
              "      <td>...</td>\n",
              "      <td>...</td>\n",
              "      <td>...</td>\n",
              "      <td>...</td>\n",
              "      <td>...</td>\n",
              "    </tr>\n",
              "    <tr>\n",
              "      <th>3426</th>\n",
              "      <td>75116</td>\n",
              "      <td>2018-06-14</td>\n",
              "      <td>1439</td>\n",
              "      <td>3</td>\n",
              "      <td>weekday</td>\n",
              "      <td>8</td>\n",
              "      <td>7</td>\n",
              "      <td>0</td>\n",
              "      <td>0</td>\n",
              "      <td>0</td>\n",
              "      <td>0</td>\n",
              "      <td>4</td>\n",
              "      <td>3</td>\n",
              "      <td>6</td>\n",
              "    </tr>\n",
              "    <tr>\n",
              "      <th>3427</th>\n",
              "      <td>75116</td>\n",
              "      <td>2018-06-15</td>\n",
              "      <td>1440</td>\n",
              "      <td>4</td>\n",
              "      <td>weekday</td>\n",
              "      <td>17</td>\n",
              "      <td>14</td>\n",
              "      <td>0</td>\n",
              "      <td>0</td>\n",
              "      <td>0</td>\n",
              "      <td>0</td>\n",
              "      <td>8</td>\n",
              "      <td>8</td>\n",
              "      <td>6</td>\n",
              "    </tr>\n",
              "    <tr>\n",
              "      <th>3428</th>\n",
              "      <td>75116</td>\n",
              "      <td>2018-06-16</td>\n",
              "      <td>1440</td>\n",
              "      <td>5</td>\n",
              "      <td>weekend</td>\n",
              "      <td>14</td>\n",
              "      <td>18</td>\n",
              "      <td>0</td>\n",
              "      <td>0</td>\n",
              "      <td>0</td>\n",
              "      <td>0</td>\n",
              "      <td>4</td>\n",
              "      <td>5</td>\n",
              "      <td>6</td>\n",
              "    </tr>\n",
              "    <tr>\n",
              "      <th>3429</th>\n",
              "      <td>75116</td>\n",
              "      <td>2018-06-17</td>\n",
              "      <td>1440</td>\n",
              "      <td>6</td>\n",
              "      <td>weekend</td>\n",
              "      <td>11</td>\n",
              "      <td>9</td>\n",
              "      <td>0</td>\n",
              "      <td>0</td>\n",
              "      <td>1</td>\n",
              "      <td>1</td>\n",
              "      <td>4</td>\n",
              "      <td>3</td>\n",
              "      <td>6</td>\n",
              "    </tr>\n",
              "    <tr>\n",
              "      <th>3430</th>\n",
              "      <td>75116</td>\n",
              "      <td>2018-06-18</td>\n",
              "      <td>1440</td>\n",
              "      <td>0</td>\n",
              "      <td>weekday</td>\n",
              "      <td>5</td>\n",
              "      <td>6</td>\n",
              "      <td>0</td>\n",
              "      <td>0</td>\n",
              "      <td>1</td>\n",
              "      <td>1</td>\n",
              "      <td>1</td>\n",
              "      <td>2</td>\n",
              "      <td>6</td>\n",
              "    </tr>\n",
              "  </tbody>\n",
              "</table>\n",
              "<p>3431 rows × 14 columns</p>\n",
              "</div>\n",
              "      <button class=\"colab-df-convert\" onclick=\"convertToInteractive('df-f855f535-8bfd-4068-99ab-e27790a172cc')\"\n",
              "              title=\"Convert this dataframe to an interactive table.\"\n",
              "              style=\"display:none;\">\n",
              "        \n",
              "  <svg xmlns=\"http://www.w3.org/2000/svg\" height=\"24px\"viewBox=\"0 0 24 24\"\n",
              "       width=\"24px\">\n",
              "    <path d=\"M0 0h24v24H0V0z\" fill=\"none\"/>\n",
              "    <path d=\"M18.56 5.44l.94 2.06.94-2.06 2.06-.94-2.06-.94-.94-2.06-.94 2.06-2.06.94zm-11 1L8.5 8.5l.94-2.06 2.06-.94-2.06-.94L8.5 2.5l-.94 2.06-2.06.94zm10 10l.94 2.06.94-2.06 2.06-.94-2.06-.94-.94-2.06-.94 2.06-2.06.94z\"/><path d=\"M17.41 7.96l-1.37-1.37c-.4-.4-.92-.59-1.43-.59-.52 0-1.04.2-1.43.59L10.3 9.45l-7.72 7.72c-.78.78-.78 2.05 0 2.83L4 21.41c.39.39.9.59 1.41.59.51 0 1.02-.2 1.41-.59l7.78-7.78 2.81-2.81c.8-.78.8-2.07 0-2.86zM5.41 20L4 18.59l7.72-7.72 1.47 1.35L5.41 20z\"/>\n",
              "  </svg>\n",
              "      </button>\n",
              "      \n",
              "  <style>\n",
              "    .colab-df-container {\n",
              "      display:flex;\n",
              "      flex-wrap:wrap;\n",
              "      gap: 12px;\n",
              "    }\n",
              "\n",
              "    .colab-df-convert {\n",
              "      background-color: #E8F0FE;\n",
              "      border: none;\n",
              "      border-radius: 50%;\n",
              "      cursor: pointer;\n",
              "      display: none;\n",
              "      fill: #1967D2;\n",
              "      height: 32px;\n",
              "      padding: 0 0 0 0;\n",
              "      width: 32px;\n",
              "    }\n",
              "\n",
              "    .colab-df-convert:hover {\n",
              "      background-color: #E2EBFA;\n",
              "      box-shadow: 0px 1px 2px rgba(60, 64, 67, 0.3), 0px 1px 3px 1px rgba(60, 64, 67, 0.15);\n",
              "      fill: #174EA6;\n",
              "    }\n",
              "\n",
              "    [theme=dark] .colab-df-convert {\n",
              "      background-color: #3B4455;\n",
              "      fill: #D2E3FC;\n",
              "    }\n",
              "\n",
              "    [theme=dark] .colab-df-convert:hover {\n",
              "      background-color: #434B5C;\n",
              "      box-shadow: 0px 1px 3px 1px rgba(0, 0, 0, 0.15);\n",
              "      filter: drop-shadow(0px 1px 2px rgba(0, 0, 0, 0.3));\n",
              "      fill: #FFFFFF;\n",
              "    }\n",
              "  </style>\n",
              "\n",
              "      <script>\n",
              "        const buttonEl =\n",
              "          document.querySelector('#df-f855f535-8bfd-4068-99ab-e27790a172cc button.colab-df-convert');\n",
              "        buttonEl.style.display =\n",
              "          google.colab.kernel.accessAllowed ? 'block' : 'none';\n",
              "\n",
              "        async function convertToInteractive(key) {\n",
              "          const element = document.querySelector('#df-f855f535-8bfd-4068-99ab-e27790a172cc');\n",
              "          const dataTable =\n",
              "            await google.colab.kernel.invokeFunction('convertToInteractive',\n",
              "                                                     [key], {});\n",
              "          if (!dataTable) return;\n",
              "\n",
              "          const docLinkHtml = 'Like what you see? Visit the ' +\n",
              "            '<a target=\"_blank\" href=https://colab.research.google.com/notebooks/data_table.ipynb>data table notebook</a>'\n",
              "            + ' to learn more about interactive tables.';\n",
              "          element.innerHTML = '';\n",
              "          dataTable['output_type'] = 'display_data';\n",
              "          await google.colab.output.renderOutput(dataTable, element);\n",
              "          const docLink = document.createElement('div');\n",
              "          docLink.innerHTML = docLinkHtml;\n",
              "          element.appendChild(docLink);\n",
              "        }\n",
              "      </script>\n",
              "    </div>\n",
              "  </div>\n",
              "  "
            ]
          },
          "metadata": {},
          "execution_count": 136
        }
      ]
    },
    {
      "cell_type": "code",
      "source": [
        "#checking that only Paris postal codes are in new dataframe\n",
        "df_par.postal_code.unique()"
      ],
      "metadata": {
        "colab": {
          "base_uri": "https://localhost:8080/"
        },
        "id": "drGRyRUhBjUc",
        "outputId": "1c20953d-9967-4ce7-fc4d-6085469e5a46"
      },
      "execution_count": null,
      "outputs": [
        {
          "output_type": "execute_result",
          "data": {
            "text/plain": [
              "array([75001, 75002, 75003, 75004, 75005, 75006, 75007, 75008, 75009,\n",
              "       75010, 75011, 75012, 75013, 75014, 75015, 75016, 75017, 75018,\n",
              "       75019, 75020, 75112, 75116])"
            ]
          },
          "metadata": {},
          "execution_count": 137
        }
      ]
    },
    {
      "cell_type": "code",
      "source": [
        "#isolating the weekends only\n",
        "df_weekend = df_par[df_par['day_type'] == 'weekend']\n",
        "df_weekend"
      ],
      "metadata": {
        "colab": {
          "base_uri": "https://localhost:8080/",
          "height": 661
        },
        "id": "T_Knb12u1H_z",
        "outputId": "bc6745a5-855a-4e26-86b3-47687a6a287f"
      },
      "execution_count": null,
      "outputs": [
        {
          "output_type": "execute_result",
          "data": {
            "text/plain": [
              "      postal_code       date  n_daily_data_points  dayofweek day_type  \\\n",
              "5           75001 2018-01-06                 1437          5  weekend   \n",
              "6           75001 2018-01-07                 1440          6  weekend   \n",
              "12          75001 2018-01-13                 1440          5  weekend   \n",
              "13          75001 2018-01-14                 1440          6  weekend   \n",
              "19          75001 2018-01-20                 1439          5  weekend   \n",
              "...           ...        ...                  ...        ...      ...   \n",
              "3415        75116 2018-06-03                 1440          6  weekend   \n",
              "3421        75116 2018-06-09                 1440          5  weekend   \n",
              "3422        75116 2018-06-10                 1440          6  weekend   \n",
              "3428        75116 2018-06-16                 1440          5  weekend   \n",
              "3429        75116 2018-06-17                 1440          6  weekend   \n",
              "\n",
              "      bluecars_taken_sum  bluecars_returned_sum  utilib_taken_sum  \\\n",
              "5                    187                    185                 6   \n",
              "6                    180                    180                 2   \n",
              "12                   224                    223                 2   \n",
              "13                   193                    193                 2   \n",
              "19                   217                    217                 2   \n",
              "...                  ...                    ...               ...   \n",
              "3415                   7                      8                 0   \n",
              "3421                  11                     11                 2   \n",
              "3422                  13                     14                 2   \n",
              "3428                  14                     18                 0   \n",
              "3429                  11                      9                 0   \n",
              "\n",
              "      utilib_returned_sum  utilib_14_taken_sum  utilib_14_returned_sum  \\\n",
              "5                       6                    7                       8   \n",
              "6                       2                   10                       9   \n",
              "12                      2                   15                      15   \n",
              "13                      2                   12                      12   \n",
              "19                      2                   25                      25   \n",
              "...                   ...                  ...                     ...   \n",
              "3415                    0                    0                       0   \n",
              "3421                    2                    1                       1   \n",
              "3422                    1                    3                       4   \n",
              "3428                    0                    0                       0   \n",
              "3429                    0                    1                       1   \n",
              "\n",
              "      slots_freed_sum  slots_taken_sum  month  \n",
              "5                  38               35      1  \n",
              "6                  34               34      1  \n",
              "12                 38               38      1  \n",
              "13                 22               20      1  \n",
              "19                 41               39      1  \n",
              "...               ...              ...    ...  \n",
              "3415                0                0      6  \n",
              "3421                5                5      6  \n",
              "3422                3                3      6  \n",
              "3428                4                5      6  \n",
              "3429                4                3      6  \n",
              "\n",
              "[968 rows x 14 columns]"
            ],
            "text/html": [
              "\n",
              "  <div id=\"df-24e79f42-44f4-4b86-a134-a91f38def938\">\n",
              "    <div class=\"colab-df-container\">\n",
              "      <div>\n",
              "<style scoped>\n",
              "    .dataframe tbody tr th:only-of-type {\n",
              "        vertical-align: middle;\n",
              "    }\n",
              "\n",
              "    .dataframe tbody tr th {\n",
              "        vertical-align: top;\n",
              "    }\n",
              "\n",
              "    .dataframe thead th {\n",
              "        text-align: right;\n",
              "    }\n",
              "</style>\n",
              "<table border=\"1\" class=\"dataframe\">\n",
              "  <thead>\n",
              "    <tr style=\"text-align: right;\">\n",
              "      <th></th>\n",
              "      <th>postal_code</th>\n",
              "      <th>date</th>\n",
              "      <th>n_daily_data_points</th>\n",
              "      <th>dayofweek</th>\n",
              "      <th>day_type</th>\n",
              "      <th>bluecars_taken_sum</th>\n",
              "      <th>bluecars_returned_sum</th>\n",
              "      <th>utilib_taken_sum</th>\n",
              "      <th>utilib_returned_sum</th>\n",
              "      <th>utilib_14_taken_sum</th>\n",
              "      <th>utilib_14_returned_sum</th>\n",
              "      <th>slots_freed_sum</th>\n",
              "      <th>slots_taken_sum</th>\n",
              "      <th>month</th>\n",
              "    </tr>\n",
              "  </thead>\n",
              "  <tbody>\n",
              "    <tr>\n",
              "      <th>5</th>\n",
              "      <td>75001</td>\n",
              "      <td>2018-01-06</td>\n",
              "      <td>1437</td>\n",
              "      <td>5</td>\n",
              "      <td>weekend</td>\n",
              "      <td>187</td>\n",
              "      <td>185</td>\n",
              "      <td>6</td>\n",
              "      <td>6</td>\n",
              "      <td>7</td>\n",
              "      <td>8</td>\n",
              "      <td>38</td>\n",
              "      <td>35</td>\n",
              "      <td>1</td>\n",
              "    </tr>\n",
              "    <tr>\n",
              "      <th>6</th>\n",
              "      <td>75001</td>\n",
              "      <td>2018-01-07</td>\n",
              "      <td>1440</td>\n",
              "      <td>6</td>\n",
              "      <td>weekend</td>\n",
              "      <td>180</td>\n",
              "      <td>180</td>\n",
              "      <td>2</td>\n",
              "      <td>2</td>\n",
              "      <td>10</td>\n",
              "      <td>9</td>\n",
              "      <td>34</td>\n",
              "      <td>34</td>\n",
              "      <td>1</td>\n",
              "    </tr>\n",
              "    <tr>\n",
              "      <th>12</th>\n",
              "      <td>75001</td>\n",
              "      <td>2018-01-13</td>\n",
              "      <td>1440</td>\n",
              "      <td>5</td>\n",
              "      <td>weekend</td>\n",
              "      <td>224</td>\n",
              "      <td>223</td>\n",
              "      <td>2</td>\n",
              "      <td>2</td>\n",
              "      <td>15</td>\n",
              "      <td>15</td>\n",
              "      <td>38</td>\n",
              "      <td>38</td>\n",
              "      <td>1</td>\n",
              "    </tr>\n",
              "    <tr>\n",
              "      <th>13</th>\n",
              "      <td>75001</td>\n",
              "      <td>2018-01-14</td>\n",
              "      <td>1440</td>\n",
              "      <td>6</td>\n",
              "      <td>weekend</td>\n",
              "      <td>193</td>\n",
              "      <td>193</td>\n",
              "      <td>2</td>\n",
              "      <td>2</td>\n",
              "      <td>12</td>\n",
              "      <td>12</td>\n",
              "      <td>22</td>\n",
              "      <td>20</td>\n",
              "      <td>1</td>\n",
              "    </tr>\n",
              "    <tr>\n",
              "      <th>19</th>\n",
              "      <td>75001</td>\n",
              "      <td>2018-01-20</td>\n",
              "      <td>1439</td>\n",
              "      <td>5</td>\n",
              "      <td>weekend</td>\n",
              "      <td>217</td>\n",
              "      <td>217</td>\n",
              "      <td>2</td>\n",
              "      <td>2</td>\n",
              "      <td>25</td>\n",
              "      <td>25</td>\n",
              "      <td>41</td>\n",
              "      <td>39</td>\n",
              "      <td>1</td>\n",
              "    </tr>\n",
              "    <tr>\n",
              "      <th>...</th>\n",
              "      <td>...</td>\n",
              "      <td>...</td>\n",
              "      <td>...</td>\n",
              "      <td>...</td>\n",
              "      <td>...</td>\n",
              "      <td>...</td>\n",
              "      <td>...</td>\n",
              "      <td>...</td>\n",
              "      <td>...</td>\n",
              "      <td>...</td>\n",
              "      <td>...</td>\n",
              "      <td>...</td>\n",
              "      <td>...</td>\n",
              "      <td>...</td>\n",
              "    </tr>\n",
              "    <tr>\n",
              "      <th>3415</th>\n",
              "      <td>75116</td>\n",
              "      <td>2018-06-03</td>\n",
              "      <td>1440</td>\n",
              "      <td>6</td>\n",
              "      <td>weekend</td>\n",
              "      <td>7</td>\n",
              "      <td>8</td>\n",
              "      <td>0</td>\n",
              "      <td>0</td>\n",
              "      <td>0</td>\n",
              "      <td>0</td>\n",
              "      <td>0</td>\n",
              "      <td>0</td>\n",
              "      <td>6</td>\n",
              "    </tr>\n",
              "    <tr>\n",
              "      <th>3421</th>\n",
              "      <td>75116</td>\n",
              "      <td>2018-06-09</td>\n",
              "      <td>1440</td>\n",
              "      <td>5</td>\n",
              "      <td>weekend</td>\n",
              "      <td>11</td>\n",
              "      <td>11</td>\n",
              "      <td>2</td>\n",
              "      <td>2</td>\n",
              "      <td>1</td>\n",
              "      <td>1</td>\n",
              "      <td>5</td>\n",
              "      <td>5</td>\n",
              "      <td>6</td>\n",
              "    </tr>\n",
              "    <tr>\n",
              "      <th>3422</th>\n",
              "      <td>75116</td>\n",
              "      <td>2018-06-10</td>\n",
              "      <td>1440</td>\n",
              "      <td>6</td>\n",
              "      <td>weekend</td>\n",
              "      <td>13</td>\n",
              "      <td>14</td>\n",
              "      <td>2</td>\n",
              "      <td>1</td>\n",
              "      <td>3</td>\n",
              "      <td>4</td>\n",
              "      <td>3</td>\n",
              "      <td>3</td>\n",
              "      <td>6</td>\n",
              "    </tr>\n",
              "    <tr>\n",
              "      <th>3428</th>\n",
              "      <td>75116</td>\n",
              "      <td>2018-06-16</td>\n",
              "      <td>1440</td>\n",
              "      <td>5</td>\n",
              "      <td>weekend</td>\n",
              "      <td>14</td>\n",
              "      <td>18</td>\n",
              "      <td>0</td>\n",
              "      <td>0</td>\n",
              "      <td>0</td>\n",
              "      <td>0</td>\n",
              "      <td>4</td>\n",
              "      <td>5</td>\n",
              "      <td>6</td>\n",
              "    </tr>\n",
              "    <tr>\n",
              "      <th>3429</th>\n",
              "      <td>75116</td>\n",
              "      <td>2018-06-17</td>\n",
              "      <td>1440</td>\n",
              "      <td>6</td>\n",
              "      <td>weekend</td>\n",
              "      <td>11</td>\n",
              "      <td>9</td>\n",
              "      <td>0</td>\n",
              "      <td>0</td>\n",
              "      <td>1</td>\n",
              "      <td>1</td>\n",
              "      <td>4</td>\n",
              "      <td>3</td>\n",
              "      <td>6</td>\n",
              "    </tr>\n",
              "  </tbody>\n",
              "</table>\n",
              "<p>968 rows × 14 columns</p>\n",
              "</div>\n",
              "      <button class=\"colab-df-convert\" onclick=\"convertToInteractive('df-24e79f42-44f4-4b86-a134-a91f38def938')\"\n",
              "              title=\"Convert this dataframe to an interactive table.\"\n",
              "              style=\"display:none;\">\n",
              "        \n",
              "  <svg xmlns=\"http://www.w3.org/2000/svg\" height=\"24px\"viewBox=\"0 0 24 24\"\n",
              "       width=\"24px\">\n",
              "    <path d=\"M0 0h24v24H0V0z\" fill=\"none\"/>\n",
              "    <path d=\"M18.56 5.44l.94 2.06.94-2.06 2.06-.94-2.06-.94-.94-2.06-.94 2.06-2.06.94zm-11 1L8.5 8.5l.94-2.06 2.06-.94-2.06-.94L8.5 2.5l-.94 2.06-2.06.94zm10 10l.94 2.06.94-2.06 2.06-.94-2.06-.94-.94-2.06-.94 2.06-2.06.94z\"/><path d=\"M17.41 7.96l-1.37-1.37c-.4-.4-.92-.59-1.43-.59-.52 0-1.04.2-1.43.59L10.3 9.45l-7.72 7.72c-.78.78-.78 2.05 0 2.83L4 21.41c.39.39.9.59 1.41.59.51 0 1.02-.2 1.41-.59l7.78-7.78 2.81-2.81c.8-.78.8-2.07 0-2.86zM5.41 20L4 18.59l7.72-7.72 1.47 1.35L5.41 20z\"/>\n",
              "  </svg>\n",
              "      </button>\n",
              "      \n",
              "  <style>\n",
              "    .colab-df-container {\n",
              "      display:flex;\n",
              "      flex-wrap:wrap;\n",
              "      gap: 12px;\n",
              "    }\n",
              "\n",
              "    .colab-df-convert {\n",
              "      background-color: #E8F0FE;\n",
              "      border: none;\n",
              "      border-radius: 50%;\n",
              "      cursor: pointer;\n",
              "      display: none;\n",
              "      fill: #1967D2;\n",
              "      height: 32px;\n",
              "      padding: 0 0 0 0;\n",
              "      width: 32px;\n",
              "    }\n",
              "\n",
              "    .colab-df-convert:hover {\n",
              "      background-color: #E2EBFA;\n",
              "      box-shadow: 0px 1px 2px rgba(60, 64, 67, 0.3), 0px 1px 3px 1px rgba(60, 64, 67, 0.15);\n",
              "      fill: #174EA6;\n",
              "    }\n",
              "\n",
              "    [theme=dark] .colab-df-convert {\n",
              "      background-color: #3B4455;\n",
              "      fill: #D2E3FC;\n",
              "    }\n",
              "\n",
              "    [theme=dark] .colab-df-convert:hover {\n",
              "      background-color: #434B5C;\n",
              "      box-shadow: 0px 1px 3px 1px rgba(0, 0, 0, 0.15);\n",
              "      filter: drop-shadow(0px 1px 2px rgba(0, 0, 0, 0.3));\n",
              "      fill: #FFFFFF;\n",
              "    }\n",
              "  </style>\n",
              "\n",
              "      <script>\n",
              "        const buttonEl =\n",
              "          document.querySelector('#df-24e79f42-44f4-4b86-a134-a91f38def938 button.colab-df-convert');\n",
              "        buttonEl.style.display =\n",
              "          google.colab.kernel.accessAllowed ? 'block' : 'none';\n",
              "\n",
              "        async function convertToInteractive(key) {\n",
              "          const element = document.querySelector('#df-24e79f42-44f4-4b86-a134-a91f38def938');\n",
              "          const dataTable =\n",
              "            await google.colab.kernel.invokeFunction('convertToInteractive',\n",
              "                                                     [key], {});\n",
              "          if (!dataTable) return;\n",
              "\n",
              "          const docLinkHtml = 'Like what you see? Visit the ' +\n",
              "            '<a target=\"_blank\" href=https://colab.research.google.com/notebooks/data_table.ipynb>data table notebook</a>'\n",
              "            + ' to learn more about interactive tables.';\n",
              "          element.innerHTML = '';\n",
              "          dataTable['output_type'] = 'display_data';\n",
              "          await google.colab.output.renderOutput(dataTable, element);\n",
              "          const docLink = document.createElement('div');\n",
              "          docLink.innerHTML = docLinkHtml;\n",
              "          element.appendChild(docLink);\n",
              "        }\n",
              "      </script>\n",
              "    </div>\n",
              "  </div>\n",
              "  "
            ]
          },
          "metadata": {},
          "execution_count": 138
        }
      ]
    },
    {
      "cell_type": "code",
      "source": [
        "#checking that only weekends are included\n",
        "df_weekend['day_type'].unique()"
      ],
      "metadata": {
        "colab": {
          "base_uri": "https://localhost:8080/"
        },
        "id": "pbt9XHXU1pqP",
        "outputId": "35757bea-9c86-4371-e61b-158313b0c6f4"
      },
      "execution_count": null,
      "outputs": [
        {
          "output_type": "execute_result",
          "data": {
            "text/plain": [
              "array(['weekend'], dtype=object)"
            ]
          },
          "metadata": {},
          "execution_count": 139
        }
      ]
    },
    {
      "cell_type": "code",
      "source": [
        "df_weekend = df_weekend.reset_index()\n",
        "df_weekend.head(1)"
      ],
      "metadata": {
        "colab": {
          "base_uri": "https://localhost:8080/",
          "height": 162
        },
        "id": "_xlkBQ2L4Ins",
        "outputId": "4a60ce39-0f80-4418-a4e1-d1309d65466f"
      },
      "execution_count": null,
      "outputs": [
        {
          "output_type": "execute_result",
          "data": {
            "text/plain": [
              "   index  postal_code       date  n_daily_data_points  dayofweek day_type  \\\n",
              "0      5        75001 2018-01-06                 1437          5  weekend   \n",
              "\n",
              "   bluecars_taken_sum  bluecars_returned_sum  utilib_taken_sum  \\\n",
              "0                 187                    185                 6   \n",
              "\n",
              "   utilib_returned_sum  utilib_14_taken_sum  utilib_14_returned_sum  \\\n",
              "0                    6                    7                       8   \n",
              "\n",
              "   slots_freed_sum  slots_taken_sum  month  \n",
              "0               38               35      1  "
            ],
            "text/html": [
              "\n",
              "  <div id=\"df-b8ad2992-3ba5-461f-82d1-7966b9f4b137\">\n",
              "    <div class=\"colab-df-container\">\n",
              "      <div>\n",
              "<style scoped>\n",
              "    .dataframe tbody tr th:only-of-type {\n",
              "        vertical-align: middle;\n",
              "    }\n",
              "\n",
              "    .dataframe tbody tr th {\n",
              "        vertical-align: top;\n",
              "    }\n",
              "\n",
              "    .dataframe thead th {\n",
              "        text-align: right;\n",
              "    }\n",
              "</style>\n",
              "<table border=\"1\" class=\"dataframe\">\n",
              "  <thead>\n",
              "    <tr style=\"text-align: right;\">\n",
              "      <th></th>\n",
              "      <th>index</th>\n",
              "      <th>postal_code</th>\n",
              "      <th>date</th>\n",
              "      <th>n_daily_data_points</th>\n",
              "      <th>dayofweek</th>\n",
              "      <th>day_type</th>\n",
              "      <th>bluecars_taken_sum</th>\n",
              "      <th>bluecars_returned_sum</th>\n",
              "      <th>utilib_taken_sum</th>\n",
              "      <th>utilib_returned_sum</th>\n",
              "      <th>utilib_14_taken_sum</th>\n",
              "      <th>utilib_14_returned_sum</th>\n",
              "      <th>slots_freed_sum</th>\n",
              "      <th>slots_taken_sum</th>\n",
              "      <th>month</th>\n",
              "    </tr>\n",
              "  </thead>\n",
              "  <tbody>\n",
              "    <tr>\n",
              "      <th>0</th>\n",
              "      <td>5</td>\n",
              "      <td>75001</td>\n",
              "      <td>2018-01-06</td>\n",
              "      <td>1437</td>\n",
              "      <td>5</td>\n",
              "      <td>weekend</td>\n",
              "      <td>187</td>\n",
              "      <td>185</td>\n",
              "      <td>6</td>\n",
              "      <td>6</td>\n",
              "      <td>7</td>\n",
              "      <td>8</td>\n",
              "      <td>38</td>\n",
              "      <td>35</td>\n",
              "      <td>1</td>\n",
              "    </tr>\n",
              "  </tbody>\n",
              "</table>\n",
              "</div>\n",
              "      <button class=\"colab-df-convert\" onclick=\"convertToInteractive('df-b8ad2992-3ba5-461f-82d1-7966b9f4b137')\"\n",
              "              title=\"Convert this dataframe to an interactive table.\"\n",
              "              style=\"display:none;\">\n",
              "        \n",
              "  <svg xmlns=\"http://www.w3.org/2000/svg\" height=\"24px\"viewBox=\"0 0 24 24\"\n",
              "       width=\"24px\">\n",
              "    <path d=\"M0 0h24v24H0V0z\" fill=\"none\"/>\n",
              "    <path d=\"M18.56 5.44l.94 2.06.94-2.06 2.06-.94-2.06-.94-.94-2.06-.94 2.06-2.06.94zm-11 1L8.5 8.5l.94-2.06 2.06-.94-2.06-.94L8.5 2.5l-.94 2.06-2.06.94zm10 10l.94 2.06.94-2.06 2.06-.94-2.06-.94-.94-2.06-.94 2.06-2.06.94z\"/><path d=\"M17.41 7.96l-1.37-1.37c-.4-.4-.92-.59-1.43-.59-.52 0-1.04.2-1.43.59L10.3 9.45l-7.72 7.72c-.78.78-.78 2.05 0 2.83L4 21.41c.39.39.9.59 1.41.59.51 0 1.02-.2 1.41-.59l7.78-7.78 2.81-2.81c.8-.78.8-2.07 0-2.86zM5.41 20L4 18.59l7.72-7.72 1.47 1.35L5.41 20z\"/>\n",
              "  </svg>\n",
              "      </button>\n",
              "      \n",
              "  <style>\n",
              "    .colab-df-container {\n",
              "      display:flex;\n",
              "      flex-wrap:wrap;\n",
              "      gap: 12px;\n",
              "    }\n",
              "\n",
              "    .colab-df-convert {\n",
              "      background-color: #E8F0FE;\n",
              "      border: none;\n",
              "      border-radius: 50%;\n",
              "      cursor: pointer;\n",
              "      display: none;\n",
              "      fill: #1967D2;\n",
              "      height: 32px;\n",
              "      padding: 0 0 0 0;\n",
              "      width: 32px;\n",
              "    }\n",
              "\n",
              "    .colab-df-convert:hover {\n",
              "      background-color: #E2EBFA;\n",
              "      box-shadow: 0px 1px 2px rgba(60, 64, 67, 0.3), 0px 1px 3px 1px rgba(60, 64, 67, 0.15);\n",
              "      fill: #174EA6;\n",
              "    }\n",
              "\n",
              "    [theme=dark] .colab-df-convert {\n",
              "      background-color: #3B4455;\n",
              "      fill: #D2E3FC;\n",
              "    }\n",
              "\n",
              "    [theme=dark] .colab-df-convert:hover {\n",
              "      background-color: #434B5C;\n",
              "      box-shadow: 0px 1px 3px 1px rgba(0, 0, 0, 0.15);\n",
              "      filter: drop-shadow(0px 1px 2px rgba(0, 0, 0, 0.3));\n",
              "      fill: #FFFFFF;\n",
              "    }\n",
              "  </style>\n",
              "\n",
              "      <script>\n",
              "        const buttonEl =\n",
              "          document.querySelector('#df-b8ad2992-3ba5-461f-82d1-7966b9f4b137 button.colab-df-convert');\n",
              "        buttonEl.style.display =\n",
              "          google.colab.kernel.accessAllowed ? 'block' : 'none';\n",
              "\n",
              "        async function convertToInteractive(key) {\n",
              "          const element = document.querySelector('#df-b8ad2992-3ba5-461f-82d1-7966b9f4b137');\n",
              "          const dataTable =\n",
              "            await google.colab.kernel.invokeFunction('convertToInteractive',\n",
              "                                                     [key], {});\n",
              "          if (!dataTable) return;\n",
              "\n",
              "          const docLinkHtml = 'Like what you see? Visit the ' +\n",
              "            '<a target=\"_blank\" href=https://colab.research.google.com/notebooks/data_table.ipynb>data table notebook</a>'\n",
              "            + ' to learn more about interactive tables.';\n",
              "          element.innerHTML = '';\n",
              "          dataTable['output_type'] = 'display_data';\n",
              "          await google.colab.output.renderOutput(dataTable, element);\n",
              "          const docLink = document.createElement('div');\n",
              "          docLink.innerHTML = docLinkHtml;\n",
              "          element.appendChild(docLink);\n",
              "        }\n",
              "      </script>\n",
              "    </div>\n",
              "  </div>\n",
              "  "
            ]
          },
          "metadata": {},
          "execution_count": 140
        }
      ]
    },
    {
      "cell_type": "code",
      "source": [
        "df_weekend.drop(columns = ['index'], inplace=True)"
      ],
      "metadata": {
        "id": "_qKnjESk4sYg"
      },
      "execution_count": null,
      "outputs": []
    },
    {
      "cell_type": "code",
      "source": [
        "df_weekend.head(1)"
      ],
      "metadata": {
        "colab": {
          "base_uri": "https://localhost:8080/",
          "height": 162
        },
        "id": "QCEDSDCC4xlO",
        "outputId": "67ace9e3-ba72-4fe3-cb17-dd562d468cc0"
      },
      "execution_count": null,
      "outputs": [
        {
          "output_type": "execute_result",
          "data": {
            "text/plain": [
              "   postal_code       date  n_daily_data_points  dayofweek day_type  \\\n",
              "0        75001 2018-01-06                 1437          5  weekend   \n",
              "\n",
              "   bluecars_taken_sum  bluecars_returned_sum  utilib_taken_sum  \\\n",
              "0                 187                    185                 6   \n",
              "\n",
              "   utilib_returned_sum  utilib_14_taken_sum  utilib_14_returned_sum  \\\n",
              "0                    6                    7                       8   \n",
              "\n",
              "   slots_freed_sum  slots_taken_sum  month  \n",
              "0               38               35      1  "
            ],
            "text/html": [
              "\n",
              "  <div id=\"df-9366f75f-b084-44b0-b299-0d698b0f436a\">\n",
              "    <div class=\"colab-df-container\">\n",
              "      <div>\n",
              "<style scoped>\n",
              "    .dataframe tbody tr th:only-of-type {\n",
              "        vertical-align: middle;\n",
              "    }\n",
              "\n",
              "    .dataframe tbody tr th {\n",
              "        vertical-align: top;\n",
              "    }\n",
              "\n",
              "    .dataframe thead th {\n",
              "        text-align: right;\n",
              "    }\n",
              "</style>\n",
              "<table border=\"1\" class=\"dataframe\">\n",
              "  <thead>\n",
              "    <tr style=\"text-align: right;\">\n",
              "      <th></th>\n",
              "      <th>postal_code</th>\n",
              "      <th>date</th>\n",
              "      <th>n_daily_data_points</th>\n",
              "      <th>dayofweek</th>\n",
              "      <th>day_type</th>\n",
              "      <th>bluecars_taken_sum</th>\n",
              "      <th>bluecars_returned_sum</th>\n",
              "      <th>utilib_taken_sum</th>\n",
              "      <th>utilib_returned_sum</th>\n",
              "      <th>utilib_14_taken_sum</th>\n",
              "      <th>utilib_14_returned_sum</th>\n",
              "      <th>slots_freed_sum</th>\n",
              "      <th>slots_taken_sum</th>\n",
              "      <th>month</th>\n",
              "    </tr>\n",
              "  </thead>\n",
              "  <tbody>\n",
              "    <tr>\n",
              "      <th>0</th>\n",
              "      <td>75001</td>\n",
              "      <td>2018-01-06</td>\n",
              "      <td>1437</td>\n",
              "      <td>5</td>\n",
              "      <td>weekend</td>\n",
              "      <td>187</td>\n",
              "      <td>185</td>\n",
              "      <td>6</td>\n",
              "      <td>6</td>\n",
              "      <td>7</td>\n",
              "      <td>8</td>\n",
              "      <td>38</td>\n",
              "      <td>35</td>\n",
              "      <td>1</td>\n",
              "    </tr>\n",
              "  </tbody>\n",
              "</table>\n",
              "</div>\n",
              "      <button class=\"colab-df-convert\" onclick=\"convertToInteractive('df-9366f75f-b084-44b0-b299-0d698b0f436a')\"\n",
              "              title=\"Convert this dataframe to an interactive table.\"\n",
              "              style=\"display:none;\">\n",
              "        \n",
              "  <svg xmlns=\"http://www.w3.org/2000/svg\" height=\"24px\"viewBox=\"0 0 24 24\"\n",
              "       width=\"24px\">\n",
              "    <path d=\"M0 0h24v24H0V0z\" fill=\"none\"/>\n",
              "    <path d=\"M18.56 5.44l.94 2.06.94-2.06 2.06-.94-2.06-.94-.94-2.06-.94 2.06-2.06.94zm-11 1L8.5 8.5l.94-2.06 2.06-.94-2.06-.94L8.5 2.5l-.94 2.06-2.06.94zm10 10l.94 2.06.94-2.06 2.06-.94-2.06-.94-.94-2.06-.94 2.06-2.06.94z\"/><path d=\"M17.41 7.96l-1.37-1.37c-.4-.4-.92-.59-1.43-.59-.52 0-1.04.2-1.43.59L10.3 9.45l-7.72 7.72c-.78.78-.78 2.05 0 2.83L4 21.41c.39.39.9.59 1.41.59.51 0 1.02-.2 1.41-.59l7.78-7.78 2.81-2.81c.8-.78.8-2.07 0-2.86zM5.41 20L4 18.59l7.72-7.72 1.47 1.35L5.41 20z\"/>\n",
              "  </svg>\n",
              "      </button>\n",
              "      \n",
              "  <style>\n",
              "    .colab-df-container {\n",
              "      display:flex;\n",
              "      flex-wrap:wrap;\n",
              "      gap: 12px;\n",
              "    }\n",
              "\n",
              "    .colab-df-convert {\n",
              "      background-color: #E8F0FE;\n",
              "      border: none;\n",
              "      border-radius: 50%;\n",
              "      cursor: pointer;\n",
              "      display: none;\n",
              "      fill: #1967D2;\n",
              "      height: 32px;\n",
              "      padding: 0 0 0 0;\n",
              "      width: 32px;\n",
              "    }\n",
              "\n",
              "    .colab-df-convert:hover {\n",
              "      background-color: #E2EBFA;\n",
              "      box-shadow: 0px 1px 2px rgba(60, 64, 67, 0.3), 0px 1px 3px 1px rgba(60, 64, 67, 0.15);\n",
              "      fill: #174EA6;\n",
              "    }\n",
              "\n",
              "    [theme=dark] .colab-df-convert {\n",
              "      background-color: #3B4455;\n",
              "      fill: #D2E3FC;\n",
              "    }\n",
              "\n",
              "    [theme=dark] .colab-df-convert:hover {\n",
              "      background-color: #434B5C;\n",
              "      box-shadow: 0px 1px 3px 1px rgba(0, 0, 0, 0.15);\n",
              "      filter: drop-shadow(0px 1px 2px rgba(0, 0, 0, 0.3));\n",
              "      fill: #FFFFFF;\n",
              "    }\n",
              "  </style>\n",
              "\n",
              "      <script>\n",
              "        const buttonEl =\n",
              "          document.querySelector('#df-9366f75f-b084-44b0-b299-0d698b0f436a button.colab-df-convert');\n",
              "        buttonEl.style.display =\n",
              "          google.colab.kernel.accessAllowed ? 'block' : 'none';\n",
              "\n",
              "        async function convertToInteractive(key) {\n",
              "          const element = document.querySelector('#df-9366f75f-b084-44b0-b299-0d698b0f436a');\n",
              "          const dataTable =\n",
              "            await google.colab.kernel.invokeFunction('convertToInteractive',\n",
              "                                                     [key], {});\n",
              "          if (!dataTable) return;\n",
              "\n",
              "          const docLinkHtml = 'Like what you see? Visit the ' +\n",
              "            '<a target=\"_blank\" href=https://colab.research.google.com/notebooks/data_table.ipynb>data table notebook</a>'\n",
              "            + ' to learn more about interactive tables.';\n",
              "          element.innerHTML = '';\n",
              "          dataTable['output_type'] = 'display_data';\n",
              "          await google.colab.output.renderOutput(dataTable, element);\n",
              "          const docLink = document.createElement('div');\n",
              "          docLink.innerHTML = docLinkHtml;\n",
              "          element.appendChild(docLink);\n",
              "        }\n",
              "      </script>\n",
              "    </div>\n",
              "  </div>\n",
              "  "
            ]
          },
          "metadata": {},
          "execution_count": 142
        }
      ]
    },
    {
      "cell_type": "code",
      "source": [
        "df_weekend.shape"
      ],
      "metadata": {
        "colab": {
          "base_uri": "https://localhost:8080/"
        },
        "id": "0LDeDnw6477Q",
        "outputId": "f5856483-e4f5-4c85-f4b1-38e6dc66f57c"
      },
      "execution_count": null,
      "outputs": [
        {
          "output_type": "execute_result",
          "data": {
            "text/plain": [
              "(968, 14)"
            ]
          },
          "metadata": {},
          "execution_count": 143
        }
      ]
    },
    {
      "cell_type": "code",
      "source": [
        "df_weekend.postal_code.unique()"
      ],
      "metadata": {
        "colab": {
          "base_uri": "https://localhost:8080/"
        },
        "id": "CnggeWvQ2bCx",
        "outputId": "f04112b0-6135-4b49-9ad3-643c52a6fd0a"
      },
      "execution_count": null,
      "outputs": [
        {
          "output_type": "execute_result",
          "data": {
            "text/plain": [
              "array([75001, 75002, 75003, 75004, 75005, 75006, 75007, 75008, 75009,\n",
              "       75010, 75011, 75012, 75013, 75014, 75015, 75016, 75017, 75018,\n",
              "       75019, 75020, 75112, 75116])"
            ]
          },
          "metadata": {},
          "execution_count": 144
        }
      ]
    },
    {
      "cell_type": "code",
      "source": [
        "#isolating the indexes for the first to eighth, and ninth to 20th arrondissements to make the samples\n",
        "indexes_samp2 = []\n",
        "indexes_samp1 = []\n",
        "\n",
        "for index, x in enumerate(list(df_weekend.postal_code)):\n",
        "  if x in range(75001, 75009):\n",
        "    indexes_samp2.append(index)\n",
        "  else:\n",
        "    indexes_samp1.append(index)"
      ],
      "metadata": {
        "id": "IUKGpp0vuNCk"
      },
      "execution_count": null,
      "outputs": []
    },
    {
      "cell_type": "code",
      "source": [
        "#creating the samples\n",
        "samp1 = df_weekend.loc[indexes_samp1, :]\n",
        "samp1"
      ],
      "metadata": {
        "colab": {
          "base_uri": "https://localhost:8080/",
          "height": 661
        },
        "id": "amvfuWGW2t0K",
        "outputId": "a7f928f9-3535-4c54-b47c-f735e150a3e6"
      },
      "execution_count": null,
      "outputs": [
        {
          "output_type": "execute_result",
          "data": {
            "text/plain": [
              "     postal_code       date  n_daily_data_points  dayofweek day_type  \\\n",
              "352        75009 2018-01-06                 1437          5  weekend   \n",
              "353        75009 2018-01-07                 1440          6  weekend   \n",
              "354        75009 2018-01-13                 1440          5  weekend   \n",
              "355        75009 2018-01-14                 1440          6  weekend   \n",
              "356        75009 2018-01-20                 1439          5  weekend   \n",
              "..           ...        ...                  ...        ...      ...   \n",
              "963        75116 2018-06-03                 1440          6  weekend   \n",
              "964        75116 2018-06-09                 1440          5  weekend   \n",
              "965        75116 2018-06-10                 1440          6  weekend   \n",
              "966        75116 2018-06-16                 1440          5  weekend   \n",
              "967        75116 2018-06-17                 1440          6  weekend   \n",
              "\n",
              "     bluecars_taken_sum  bluecars_returned_sum  utilib_taken_sum  \\\n",
              "352                 433                    455                14   \n",
              "353                 394                    398                 9   \n",
              "354                 524                    521                10   \n",
              "355                 397                    423                 9   \n",
              "356                 503                    517                 7   \n",
              "..                  ...                    ...               ...   \n",
              "963                   7                      8                 0   \n",
              "964                  11                     11                 2   \n",
              "965                  13                     14                 2   \n",
              "966                  14                     18                 0   \n",
              "967                  11                      9                 0   \n",
              "\n",
              "     utilib_returned_sum  utilib_14_taken_sum  utilib_14_returned_sum  \\\n",
              "352                   15                   34                      35   \n",
              "353                   12                   19                      16   \n",
              "354                   10                   35                      36   \n",
              "355                   10                   31                      33   \n",
              "356                    7                   28                      28   \n",
              "..                   ...                  ...                     ...   \n",
              "963                    0                    0                       0   \n",
              "964                    2                    1                       1   \n",
              "965                    1                    3                       4   \n",
              "966                    0                    0                       0   \n",
              "967                    0                    1                       1   \n",
              "\n",
              "     slots_freed_sum  slots_taken_sum  month  \n",
              "352               92              100      1  \n",
              "353               83               81      1  \n",
              "354              122              127      1  \n",
              "355               97               99      1  \n",
              "356              121              124      1  \n",
              "..               ...              ...    ...  \n",
              "963                0                0      6  \n",
              "964                5                5      6  \n",
              "965                3                3      6  \n",
              "966                4                5      6  \n",
              "967                4                3      6  \n",
              "\n",
              "[616 rows x 14 columns]"
            ],
            "text/html": [
              "\n",
              "  <div id=\"df-196acf40-5e5e-40d6-875c-92d567eb7047\">\n",
              "    <div class=\"colab-df-container\">\n",
              "      <div>\n",
              "<style scoped>\n",
              "    .dataframe tbody tr th:only-of-type {\n",
              "        vertical-align: middle;\n",
              "    }\n",
              "\n",
              "    .dataframe tbody tr th {\n",
              "        vertical-align: top;\n",
              "    }\n",
              "\n",
              "    .dataframe thead th {\n",
              "        text-align: right;\n",
              "    }\n",
              "</style>\n",
              "<table border=\"1\" class=\"dataframe\">\n",
              "  <thead>\n",
              "    <tr style=\"text-align: right;\">\n",
              "      <th></th>\n",
              "      <th>postal_code</th>\n",
              "      <th>date</th>\n",
              "      <th>n_daily_data_points</th>\n",
              "      <th>dayofweek</th>\n",
              "      <th>day_type</th>\n",
              "      <th>bluecars_taken_sum</th>\n",
              "      <th>bluecars_returned_sum</th>\n",
              "      <th>utilib_taken_sum</th>\n",
              "      <th>utilib_returned_sum</th>\n",
              "      <th>utilib_14_taken_sum</th>\n",
              "      <th>utilib_14_returned_sum</th>\n",
              "      <th>slots_freed_sum</th>\n",
              "      <th>slots_taken_sum</th>\n",
              "      <th>month</th>\n",
              "    </tr>\n",
              "  </thead>\n",
              "  <tbody>\n",
              "    <tr>\n",
              "      <th>352</th>\n",
              "      <td>75009</td>\n",
              "      <td>2018-01-06</td>\n",
              "      <td>1437</td>\n",
              "      <td>5</td>\n",
              "      <td>weekend</td>\n",
              "      <td>433</td>\n",
              "      <td>455</td>\n",
              "      <td>14</td>\n",
              "      <td>15</td>\n",
              "      <td>34</td>\n",
              "      <td>35</td>\n",
              "      <td>92</td>\n",
              "      <td>100</td>\n",
              "      <td>1</td>\n",
              "    </tr>\n",
              "    <tr>\n",
              "      <th>353</th>\n",
              "      <td>75009</td>\n",
              "      <td>2018-01-07</td>\n",
              "      <td>1440</td>\n",
              "      <td>6</td>\n",
              "      <td>weekend</td>\n",
              "      <td>394</td>\n",
              "      <td>398</td>\n",
              "      <td>9</td>\n",
              "      <td>12</td>\n",
              "      <td>19</td>\n",
              "      <td>16</td>\n",
              "      <td>83</td>\n",
              "      <td>81</td>\n",
              "      <td>1</td>\n",
              "    </tr>\n",
              "    <tr>\n",
              "      <th>354</th>\n",
              "      <td>75009</td>\n",
              "      <td>2018-01-13</td>\n",
              "      <td>1440</td>\n",
              "      <td>5</td>\n",
              "      <td>weekend</td>\n",
              "      <td>524</td>\n",
              "      <td>521</td>\n",
              "      <td>10</td>\n",
              "      <td>10</td>\n",
              "      <td>35</td>\n",
              "      <td>36</td>\n",
              "      <td>122</td>\n",
              "      <td>127</td>\n",
              "      <td>1</td>\n",
              "    </tr>\n",
              "    <tr>\n",
              "      <th>355</th>\n",
              "      <td>75009</td>\n",
              "      <td>2018-01-14</td>\n",
              "      <td>1440</td>\n",
              "      <td>6</td>\n",
              "      <td>weekend</td>\n",
              "      <td>397</td>\n",
              "      <td>423</td>\n",
              "      <td>9</td>\n",
              "      <td>10</td>\n",
              "      <td>31</td>\n",
              "      <td>33</td>\n",
              "      <td>97</td>\n",
              "      <td>99</td>\n",
              "      <td>1</td>\n",
              "    </tr>\n",
              "    <tr>\n",
              "      <th>356</th>\n",
              "      <td>75009</td>\n",
              "      <td>2018-01-20</td>\n",
              "      <td>1439</td>\n",
              "      <td>5</td>\n",
              "      <td>weekend</td>\n",
              "      <td>503</td>\n",
              "      <td>517</td>\n",
              "      <td>7</td>\n",
              "      <td>7</td>\n",
              "      <td>28</td>\n",
              "      <td>28</td>\n",
              "      <td>121</td>\n",
              "      <td>124</td>\n",
              "      <td>1</td>\n",
              "    </tr>\n",
              "    <tr>\n",
              "      <th>...</th>\n",
              "      <td>...</td>\n",
              "      <td>...</td>\n",
              "      <td>...</td>\n",
              "      <td>...</td>\n",
              "      <td>...</td>\n",
              "      <td>...</td>\n",
              "      <td>...</td>\n",
              "      <td>...</td>\n",
              "      <td>...</td>\n",
              "      <td>...</td>\n",
              "      <td>...</td>\n",
              "      <td>...</td>\n",
              "      <td>...</td>\n",
              "      <td>...</td>\n",
              "    </tr>\n",
              "    <tr>\n",
              "      <th>963</th>\n",
              "      <td>75116</td>\n",
              "      <td>2018-06-03</td>\n",
              "      <td>1440</td>\n",
              "      <td>6</td>\n",
              "      <td>weekend</td>\n",
              "      <td>7</td>\n",
              "      <td>8</td>\n",
              "      <td>0</td>\n",
              "      <td>0</td>\n",
              "      <td>0</td>\n",
              "      <td>0</td>\n",
              "      <td>0</td>\n",
              "      <td>0</td>\n",
              "      <td>6</td>\n",
              "    </tr>\n",
              "    <tr>\n",
              "      <th>964</th>\n",
              "      <td>75116</td>\n",
              "      <td>2018-06-09</td>\n",
              "      <td>1440</td>\n",
              "      <td>5</td>\n",
              "      <td>weekend</td>\n",
              "      <td>11</td>\n",
              "      <td>11</td>\n",
              "      <td>2</td>\n",
              "      <td>2</td>\n",
              "      <td>1</td>\n",
              "      <td>1</td>\n",
              "      <td>5</td>\n",
              "      <td>5</td>\n",
              "      <td>6</td>\n",
              "    </tr>\n",
              "    <tr>\n",
              "      <th>965</th>\n",
              "      <td>75116</td>\n",
              "      <td>2018-06-10</td>\n",
              "      <td>1440</td>\n",
              "      <td>6</td>\n",
              "      <td>weekend</td>\n",
              "      <td>13</td>\n",
              "      <td>14</td>\n",
              "      <td>2</td>\n",
              "      <td>1</td>\n",
              "      <td>3</td>\n",
              "      <td>4</td>\n",
              "      <td>3</td>\n",
              "      <td>3</td>\n",
              "      <td>6</td>\n",
              "    </tr>\n",
              "    <tr>\n",
              "      <th>966</th>\n",
              "      <td>75116</td>\n",
              "      <td>2018-06-16</td>\n",
              "      <td>1440</td>\n",
              "      <td>5</td>\n",
              "      <td>weekend</td>\n",
              "      <td>14</td>\n",
              "      <td>18</td>\n",
              "      <td>0</td>\n",
              "      <td>0</td>\n",
              "      <td>0</td>\n",
              "      <td>0</td>\n",
              "      <td>4</td>\n",
              "      <td>5</td>\n",
              "      <td>6</td>\n",
              "    </tr>\n",
              "    <tr>\n",
              "      <th>967</th>\n",
              "      <td>75116</td>\n",
              "      <td>2018-06-17</td>\n",
              "      <td>1440</td>\n",
              "      <td>6</td>\n",
              "      <td>weekend</td>\n",
              "      <td>11</td>\n",
              "      <td>9</td>\n",
              "      <td>0</td>\n",
              "      <td>0</td>\n",
              "      <td>1</td>\n",
              "      <td>1</td>\n",
              "      <td>4</td>\n",
              "      <td>3</td>\n",
              "      <td>6</td>\n",
              "    </tr>\n",
              "  </tbody>\n",
              "</table>\n",
              "<p>616 rows × 14 columns</p>\n",
              "</div>\n",
              "      <button class=\"colab-df-convert\" onclick=\"convertToInteractive('df-196acf40-5e5e-40d6-875c-92d567eb7047')\"\n",
              "              title=\"Convert this dataframe to an interactive table.\"\n",
              "              style=\"display:none;\">\n",
              "        \n",
              "  <svg xmlns=\"http://www.w3.org/2000/svg\" height=\"24px\"viewBox=\"0 0 24 24\"\n",
              "       width=\"24px\">\n",
              "    <path d=\"M0 0h24v24H0V0z\" fill=\"none\"/>\n",
              "    <path d=\"M18.56 5.44l.94 2.06.94-2.06 2.06-.94-2.06-.94-.94-2.06-.94 2.06-2.06.94zm-11 1L8.5 8.5l.94-2.06 2.06-.94-2.06-.94L8.5 2.5l-.94 2.06-2.06.94zm10 10l.94 2.06.94-2.06 2.06-.94-2.06-.94-.94-2.06-.94 2.06-2.06.94z\"/><path d=\"M17.41 7.96l-1.37-1.37c-.4-.4-.92-.59-1.43-.59-.52 0-1.04.2-1.43.59L10.3 9.45l-7.72 7.72c-.78.78-.78 2.05 0 2.83L4 21.41c.39.39.9.59 1.41.59.51 0 1.02-.2 1.41-.59l7.78-7.78 2.81-2.81c.8-.78.8-2.07 0-2.86zM5.41 20L4 18.59l7.72-7.72 1.47 1.35L5.41 20z\"/>\n",
              "  </svg>\n",
              "      </button>\n",
              "      \n",
              "  <style>\n",
              "    .colab-df-container {\n",
              "      display:flex;\n",
              "      flex-wrap:wrap;\n",
              "      gap: 12px;\n",
              "    }\n",
              "\n",
              "    .colab-df-convert {\n",
              "      background-color: #E8F0FE;\n",
              "      border: none;\n",
              "      border-radius: 50%;\n",
              "      cursor: pointer;\n",
              "      display: none;\n",
              "      fill: #1967D2;\n",
              "      height: 32px;\n",
              "      padding: 0 0 0 0;\n",
              "      width: 32px;\n",
              "    }\n",
              "\n",
              "    .colab-df-convert:hover {\n",
              "      background-color: #E2EBFA;\n",
              "      box-shadow: 0px 1px 2px rgba(60, 64, 67, 0.3), 0px 1px 3px 1px rgba(60, 64, 67, 0.15);\n",
              "      fill: #174EA6;\n",
              "    }\n",
              "\n",
              "    [theme=dark] .colab-df-convert {\n",
              "      background-color: #3B4455;\n",
              "      fill: #D2E3FC;\n",
              "    }\n",
              "\n",
              "    [theme=dark] .colab-df-convert:hover {\n",
              "      background-color: #434B5C;\n",
              "      box-shadow: 0px 1px 3px 1px rgba(0, 0, 0, 0.15);\n",
              "      filter: drop-shadow(0px 1px 2px rgba(0, 0, 0, 0.3));\n",
              "      fill: #FFFFFF;\n",
              "    }\n",
              "  </style>\n",
              "\n",
              "      <script>\n",
              "        const buttonEl =\n",
              "          document.querySelector('#df-196acf40-5e5e-40d6-875c-92d567eb7047 button.colab-df-convert');\n",
              "        buttonEl.style.display =\n",
              "          google.colab.kernel.accessAllowed ? 'block' : 'none';\n",
              "\n",
              "        async function convertToInteractive(key) {\n",
              "          const element = document.querySelector('#df-196acf40-5e5e-40d6-875c-92d567eb7047');\n",
              "          const dataTable =\n",
              "            await google.colab.kernel.invokeFunction('convertToInteractive',\n",
              "                                                     [key], {});\n",
              "          if (!dataTable) return;\n",
              "\n",
              "          const docLinkHtml = 'Like what you see? Visit the ' +\n",
              "            '<a target=\"_blank\" href=https://colab.research.google.com/notebooks/data_table.ipynb>data table notebook</a>'\n",
              "            + ' to learn more about interactive tables.';\n",
              "          element.innerHTML = '';\n",
              "          dataTable['output_type'] = 'display_data';\n",
              "          await google.colab.output.renderOutput(dataTable, element);\n",
              "          const docLink = document.createElement('div');\n",
              "          docLink.innerHTML = docLinkHtml;\n",
              "          element.appendChild(docLink);\n",
              "        }\n",
              "      </script>\n",
              "    </div>\n",
              "  </div>\n",
              "  "
            ]
          },
          "metadata": {},
          "execution_count": 162
        }
      ]
    },
    {
      "cell_type": "code",
      "source": [
        "#confirming only arrondissements 9-20 reperesented in first sample\n",
        "samp1.postal_code.unique()"
      ],
      "metadata": {
        "colab": {
          "base_uri": "https://localhost:8080/"
        },
        "id": "P6TkI9Em34qP",
        "outputId": "6f9e89ab-426d-4c9c-ed85-19835dfb758e"
      },
      "execution_count": null,
      "outputs": [
        {
          "output_type": "execute_result",
          "data": {
            "text/plain": [
              "array([75009, 75010, 75011, 75012, 75013, 75014, 75015, 75016, 75017,\n",
              "       75018, 75019, 75020, 75112, 75116])"
            ]
          },
          "metadata": {},
          "execution_count": 163
        }
      ]
    },
    {
      "cell_type": "code",
      "source": [
        "samp2 = df_weekend.loc[indexes_samp2, :]\n",
        "samp2.head()"
      ],
      "metadata": {
        "colab": {
          "base_uri": "https://localhost:8080/",
          "height": 357
        },
        "id": "YhW_7ZO75bVy",
        "outputId": "a6ac7899-f60c-4880-8ca2-0ca3aff32fc1"
      },
      "execution_count": null,
      "outputs": [
        {
          "output_type": "execute_result",
          "data": {
            "text/plain": [
              "   postal_code       date  n_daily_data_points  dayofweek day_type  \\\n",
              "0        75001 2018-01-06                 1437          5  weekend   \n",
              "1        75001 2018-01-07                 1440          6  weekend   \n",
              "2        75001 2018-01-13                 1440          5  weekend   \n",
              "3        75001 2018-01-14                 1440          6  weekend   \n",
              "4        75001 2018-01-20                 1439          5  weekend   \n",
              "\n",
              "   bluecars_taken_sum  bluecars_returned_sum  utilib_taken_sum  \\\n",
              "0                 187                    185                 6   \n",
              "1                 180                    180                 2   \n",
              "2                 224                    223                 2   \n",
              "3                 193                    193                 2   \n",
              "4                 217                    217                 2   \n",
              "\n",
              "   utilib_returned_sum  utilib_14_taken_sum  utilib_14_returned_sum  \\\n",
              "0                    6                    7                       8   \n",
              "1                    2                   10                       9   \n",
              "2                    2                   15                      15   \n",
              "3                    2                   12                      12   \n",
              "4                    2                   25                      25   \n",
              "\n",
              "   slots_freed_sum  slots_taken_sum  month  \n",
              "0               38               35      1  \n",
              "1               34               34      1  \n",
              "2               38               38      1  \n",
              "3               22               20      1  \n",
              "4               41               39      1  "
            ],
            "text/html": [
              "\n",
              "  <div id=\"df-795dbfb9-2328-4fee-9d84-53c68030d0e9\">\n",
              "    <div class=\"colab-df-container\">\n",
              "      <div>\n",
              "<style scoped>\n",
              "    .dataframe tbody tr th:only-of-type {\n",
              "        vertical-align: middle;\n",
              "    }\n",
              "\n",
              "    .dataframe tbody tr th {\n",
              "        vertical-align: top;\n",
              "    }\n",
              "\n",
              "    .dataframe thead th {\n",
              "        text-align: right;\n",
              "    }\n",
              "</style>\n",
              "<table border=\"1\" class=\"dataframe\">\n",
              "  <thead>\n",
              "    <tr style=\"text-align: right;\">\n",
              "      <th></th>\n",
              "      <th>postal_code</th>\n",
              "      <th>date</th>\n",
              "      <th>n_daily_data_points</th>\n",
              "      <th>dayofweek</th>\n",
              "      <th>day_type</th>\n",
              "      <th>bluecars_taken_sum</th>\n",
              "      <th>bluecars_returned_sum</th>\n",
              "      <th>utilib_taken_sum</th>\n",
              "      <th>utilib_returned_sum</th>\n",
              "      <th>utilib_14_taken_sum</th>\n",
              "      <th>utilib_14_returned_sum</th>\n",
              "      <th>slots_freed_sum</th>\n",
              "      <th>slots_taken_sum</th>\n",
              "      <th>month</th>\n",
              "    </tr>\n",
              "  </thead>\n",
              "  <tbody>\n",
              "    <tr>\n",
              "      <th>0</th>\n",
              "      <td>75001</td>\n",
              "      <td>2018-01-06</td>\n",
              "      <td>1437</td>\n",
              "      <td>5</td>\n",
              "      <td>weekend</td>\n",
              "      <td>187</td>\n",
              "      <td>185</td>\n",
              "      <td>6</td>\n",
              "      <td>6</td>\n",
              "      <td>7</td>\n",
              "      <td>8</td>\n",
              "      <td>38</td>\n",
              "      <td>35</td>\n",
              "      <td>1</td>\n",
              "    </tr>\n",
              "    <tr>\n",
              "      <th>1</th>\n",
              "      <td>75001</td>\n",
              "      <td>2018-01-07</td>\n",
              "      <td>1440</td>\n",
              "      <td>6</td>\n",
              "      <td>weekend</td>\n",
              "      <td>180</td>\n",
              "      <td>180</td>\n",
              "      <td>2</td>\n",
              "      <td>2</td>\n",
              "      <td>10</td>\n",
              "      <td>9</td>\n",
              "      <td>34</td>\n",
              "      <td>34</td>\n",
              "      <td>1</td>\n",
              "    </tr>\n",
              "    <tr>\n",
              "      <th>2</th>\n",
              "      <td>75001</td>\n",
              "      <td>2018-01-13</td>\n",
              "      <td>1440</td>\n",
              "      <td>5</td>\n",
              "      <td>weekend</td>\n",
              "      <td>224</td>\n",
              "      <td>223</td>\n",
              "      <td>2</td>\n",
              "      <td>2</td>\n",
              "      <td>15</td>\n",
              "      <td>15</td>\n",
              "      <td>38</td>\n",
              "      <td>38</td>\n",
              "      <td>1</td>\n",
              "    </tr>\n",
              "    <tr>\n",
              "      <th>3</th>\n",
              "      <td>75001</td>\n",
              "      <td>2018-01-14</td>\n",
              "      <td>1440</td>\n",
              "      <td>6</td>\n",
              "      <td>weekend</td>\n",
              "      <td>193</td>\n",
              "      <td>193</td>\n",
              "      <td>2</td>\n",
              "      <td>2</td>\n",
              "      <td>12</td>\n",
              "      <td>12</td>\n",
              "      <td>22</td>\n",
              "      <td>20</td>\n",
              "      <td>1</td>\n",
              "    </tr>\n",
              "    <tr>\n",
              "      <th>4</th>\n",
              "      <td>75001</td>\n",
              "      <td>2018-01-20</td>\n",
              "      <td>1439</td>\n",
              "      <td>5</td>\n",
              "      <td>weekend</td>\n",
              "      <td>217</td>\n",
              "      <td>217</td>\n",
              "      <td>2</td>\n",
              "      <td>2</td>\n",
              "      <td>25</td>\n",
              "      <td>25</td>\n",
              "      <td>41</td>\n",
              "      <td>39</td>\n",
              "      <td>1</td>\n",
              "    </tr>\n",
              "  </tbody>\n",
              "</table>\n",
              "</div>\n",
              "      <button class=\"colab-df-convert\" onclick=\"convertToInteractive('df-795dbfb9-2328-4fee-9d84-53c68030d0e9')\"\n",
              "              title=\"Convert this dataframe to an interactive table.\"\n",
              "              style=\"display:none;\">\n",
              "        \n",
              "  <svg xmlns=\"http://www.w3.org/2000/svg\" height=\"24px\"viewBox=\"0 0 24 24\"\n",
              "       width=\"24px\">\n",
              "    <path d=\"M0 0h24v24H0V0z\" fill=\"none\"/>\n",
              "    <path d=\"M18.56 5.44l.94 2.06.94-2.06 2.06-.94-2.06-.94-.94-2.06-.94 2.06-2.06.94zm-11 1L8.5 8.5l.94-2.06 2.06-.94-2.06-.94L8.5 2.5l-.94 2.06-2.06.94zm10 10l.94 2.06.94-2.06 2.06-.94-2.06-.94-.94-2.06-.94 2.06-2.06.94z\"/><path d=\"M17.41 7.96l-1.37-1.37c-.4-.4-.92-.59-1.43-.59-.52 0-1.04.2-1.43.59L10.3 9.45l-7.72 7.72c-.78.78-.78 2.05 0 2.83L4 21.41c.39.39.9.59 1.41.59.51 0 1.02-.2 1.41-.59l7.78-7.78 2.81-2.81c.8-.78.8-2.07 0-2.86zM5.41 20L4 18.59l7.72-7.72 1.47 1.35L5.41 20z\"/>\n",
              "  </svg>\n",
              "      </button>\n",
              "      \n",
              "  <style>\n",
              "    .colab-df-container {\n",
              "      display:flex;\n",
              "      flex-wrap:wrap;\n",
              "      gap: 12px;\n",
              "    }\n",
              "\n",
              "    .colab-df-convert {\n",
              "      background-color: #E8F0FE;\n",
              "      border: none;\n",
              "      border-radius: 50%;\n",
              "      cursor: pointer;\n",
              "      display: none;\n",
              "      fill: #1967D2;\n",
              "      height: 32px;\n",
              "      padding: 0 0 0 0;\n",
              "      width: 32px;\n",
              "    }\n",
              "\n",
              "    .colab-df-convert:hover {\n",
              "      background-color: #E2EBFA;\n",
              "      box-shadow: 0px 1px 2px rgba(60, 64, 67, 0.3), 0px 1px 3px 1px rgba(60, 64, 67, 0.15);\n",
              "      fill: #174EA6;\n",
              "    }\n",
              "\n",
              "    [theme=dark] .colab-df-convert {\n",
              "      background-color: #3B4455;\n",
              "      fill: #D2E3FC;\n",
              "    }\n",
              "\n",
              "    [theme=dark] .colab-df-convert:hover {\n",
              "      background-color: #434B5C;\n",
              "      box-shadow: 0px 1px 3px 1px rgba(0, 0, 0, 0.15);\n",
              "      filter: drop-shadow(0px 1px 2px rgba(0, 0, 0, 0.3));\n",
              "      fill: #FFFFFF;\n",
              "    }\n",
              "  </style>\n",
              "\n",
              "      <script>\n",
              "        const buttonEl =\n",
              "          document.querySelector('#df-795dbfb9-2328-4fee-9d84-53c68030d0e9 button.colab-df-convert');\n",
              "        buttonEl.style.display =\n",
              "          google.colab.kernel.accessAllowed ? 'block' : 'none';\n",
              "\n",
              "        async function convertToInteractive(key) {\n",
              "          const element = document.querySelector('#df-795dbfb9-2328-4fee-9d84-53c68030d0e9');\n",
              "          const dataTable =\n",
              "            await google.colab.kernel.invokeFunction('convertToInteractive',\n",
              "                                                     [key], {});\n",
              "          if (!dataTable) return;\n",
              "\n",
              "          const docLinkHtml = 'Like what you see? Visit the ' +\n",
              "            '<a target=\"_blank\" href=https://colab.research.google.com/notebooks/data_table.ipynb>data table notebook</a>'\n",
              "            + ' to learn more about interactive tables.';\n",
              "          element.innerHTML = '';\n",
              "          dataTable['output_type'] = 'display_data';\n",
              "          await google.colab.output.renderOutput(dataTable, element);\n",
              "          const docLink = document.createElement('div');\n",
              "          docLink.innerHTML = docLinkHtml;\n",
              "          element.appendChild(docLink);\n",
              "        }\n",
              "      </script>\n",
              "    </div>\n",
              "  </div>\n",
              "  "
            ]
          },
          "metadata": {},
          "execution_count": 164
        }
      ]
    },
    {
      "cell_type": "code",
      "source": [
        "#confirming only arrondissements 1-8 in second sample\n",
        "samp2.postal_code.unique()"
      ],
      "metadata": {
        "colab": {
          "base_uri": "https://localhost:8080/"
        },
        "id": "nlW9fPdC5Va8",
        "outputId": "5def7c2b-d4e5-41c5-a3fd-bc728aee3ae6"
      },
      "execution_count": null,
      "outputs": [
        {
          "output_type": "execute_result",
          "data": {
            "text/plain": [
              "array([75001, 75002, 75003, 75004, 75005, 75006, 75007, 75008])"
            ]
          },
          "metadata": {},
          "execution_count": 165
        }
      ]
    },
    {
      "cell_type": "code",
      "source": [
        "print(samp1.shape,\n",
        "samp2.shape)"
      ],
      "metadata": {
        "colab": {
          "base_uri": "https://localhost:8080/"
        },
        "id": "XdjqmB6a6uax",
        "outputId": "616134ec-9f42-4cef-9bb0-7d3f9e81c4b0"
      },
      "execution_count": null,
      "outputs": [
        {
          "output_type": "stream",
          "name": "stdout",
          "text": [
            "(616, 14) (352, 14)\n"
          ]
        }
      ]
    },
    {
      "cell_type": "markdown",
      "source": [
        "#### 1. Stating the null and alternative hypothesis"
      ],
      "metadata": {
        "id": "Hroz823NGiVP"
      }
    },
    {
      "cell_type": "markdown",
      "source": [
        "**Null hypothesis**\n",
        "\n",
        "Ho : u1 <= u2\n",
        "\n",
        "The average number of blue cars taken during weekends in the 9th-20th arrondissements of Paris (u1) is less than or equal to the average number taken in the 1st-8th arrondissements during weekends (u2).\n",
        "\n",
        "**Alternative hypothesis**\n",
        "\n",
        "Ha : u1 > u2 (claim)\n",
        "\n",
        "The average number of blue cars taken during weekends in the 9th-20th arrondissements of Paris (u1) is greater than the average number taken in the 1st-8th arrondissements (u2) during weekends."
      ],
      "metadata": {
        "id": "XUdzKH1UKpzp"
      }
    },
    {
      "cell_type": "markdown",
      "source": [
        "#### 2. Setting the significance level "
      ],
      "metadata": {
        "id": "tPu0fakCGl8w"
      }
    },
    {
      "cell_type": "markdown",
      "source": [
        "The significance level a = 0.05. If the probability of the null hypothesis being true falls below this level the null is rejected."
      ],
      "metadata": {
        "id": "yhgSloaoMLxm"
      }
    },
    {
      "cell_type": "markdown",
      "source": [
        "#### 3. Calculating the test statistic and corresponding p value"
      ],
      "metadata": {
        "id": "8c6aZiF9GwhQ"
      }
    },
    {
      "cell_type": "markdown",
      "source": [
        "##### Claim"
      ],
      "metadata": {
        "id": "E7wgZ-ns52od"
      }
    },
    {
      "cell_type": "markdown",
      "source": [
        "Claim: The average number of blue cars taken during weekends in the 9th-20th arrondissements of Paris is greater than the average number taken in the 1st-8th arrondissements during the weekend."
      ],
      "metadata": {
        "id": "9VCs78X80W1S"
      }
    },
    {
      "cell_type": "markdown",
      "source": [
        "##### Choosing test statistic (why)"
      ],
      "metadata": {
        "id": "et7oSPos59WS"
      }
    },
    {
      "cell_type": "markdown",
      "source": [
        "We are comparing 2 samples and do not have the true population standard deviations (for our claim, the population standard deviations would be obtained by having data for all weekends since the time Autolib was launched  - not available). Despite sample sizes > 30, lack of the population standard deviations allows for the t statistic to be used (reference - [here](https://www.statskingdom.com/doc_t_test_z_test.html#:~:text=Z%2DTest%20or%20T%2Dtest,should%20use%20the%20T%2Dtest.&text=Usually%2C%20we%20don't%20have,we%20use%20the%20T%2Dtest.)). Therefore, we will be using the independent samples t-test.\n",
        "\n",
        "![image.png](data:image/png;base64,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)\n"
      ],
      "metadata": {
        "id": "ViF2RiEvMjnK"
      }
    },
    {
      "cell_type": "markdown",
      "source": [
        "Assumptions for independent t test: \n",
        " * Common variance\n",
        " * Independence of samples\n",
        " * Normality"
      ],
      "metadata": {
        "id": "bo7DKdn8-fU2"
      }
    },
    {
      "cell_type": "code",
      "source": [
        "#testing for normality\n",
        "samples = [samp1, samp2]\n",
        "for samp in samples:\n",
        "  from scipy.stats import probplot\n",
        "  import matplotlib.pyplot as plt\n",
        "  probplot(samp['bluecars_taken_sum'], plot = plt)\n",
        "  if samp['bluecars_taken_sum'].mean() == samp1['bluecars_taken_sum'].mean():\n",
        "    plt.title('Probability plot Districts 9-20')\n",
        "  else:\n",
        "    plt.title('Probability plot Districts 1-8')\n",
        "  plt.show()"
      ],
      "metadata": {
        "colab": {
          "base_uri": "https://localhost:8080/",
          "height": 573
        },
        "id": "cZKijbFIO3xA",
        "outputId": "ed8f5644-e9f4-4663-b6c0-4e840102a6b9"
      },
      "execution_count": null,
      "outputs": [
        {
          "output_type": "display_data",
          "data": {
            "text/plain": [
              "<Figure size 432x288 with 1 Axes>"
            ],
            "image/png": "[encoded data removed]"
          },
          "metadata": {
            "needs_background": "light"
          }
        },
        {
          "output_type": "display_data",
          "data": {
            "text/plain": [
              "<Figure size 432x288 with 1 Axes>"
            ],
            "image/png": "[encoded data removed]"
          },
          "metadata": {
            "needs_background": "light"
          }
        }
      ]
    },
    {
      "cell_type": "markdown",
      "source": [
        "The samples both have normal distributions despite some outliers."
      ],
      "metadata": {
        "id": "dx-rhc-9Pab8"
      }
    },
    {
      "cell_type": "code",
      "source": [
        "# !pip uninstall scipy"
      ],
      "metadata": {
        "colab": {
          "base_uri": "https://localhost:8080/"
        },
        "id": "LJoTqbnYI04s",
        "outputId": "a14ea1e6-78a8-4dba-980c-fa2b3eeb1c55"
      },
      "execution_count": null,
      "outputs": [
        {
          "output_type": "stream",
          "name": "stdout",
          "text": [
            "Found existing installation: scipy 1.4.1\n",
            "Uninstalling scipy-1.4.1:\n",
            "  Would remove:\n",
            "    /usr/local/lib/python3.7/dist-packages/scipy-1.4.1.dist-info/*\n",
            "    /usr/local/lib/python3.7/dist-packages/scipy/*\n",
            "Proceed (y/n)? y\n",
            "  Successfully uninstalled scipy-1.4.1\n"
          ]
        }
      ]
    },
    {
      "cell_type": "code",
      "source": [
        "# !pip install scipy"
      ],
      "metadata": {
        "colab": {
          "base_uri": "https://localhost:8080/"
        },
        "id": "mOVYkof0JnwY",
        "outputId": "dfe7f4c2-138b-4864-97e3-42c9a5872f09"
      },
      "execution_count": null,
      "outputs": [
        {
          "output_type": "stream",
          "name": "stdout",
          "text": [
            "Collecting scipy\n",
            "  Downloading scipy-1.7.3-cp37-cp37m-manylinux_2_12_x86_64.manylinux2010_x86_64.whl (38.1 MB)\n",
            "\u001b[K     |████████████████████████████████| 38.1 MB 1.2 MB/s \n",
            "\u001b[?25hRequirement already satisfied: numpy<1.23.0,>=1.16.5 in /usr/local/lib/python3.7/dist-packages (from scipy) (1.21.6)\n",
            "Installing collected packages: scipy\n",
            "\u001b[31mERROR: pip's dependency resolver does not currently take into account all the packages that are installed. This behaviour is the source of the following dependency conflicts.\n",
            "albumentations 0.1.12 requires imgaug<0.2.7,>=0.2.5, but you have imgaug 0.2.9 which is incompatible.\u001b[0m\n",
            "Successfully installed scipy-1.7.3\n"
          ]
        }
      ]
    },
    {
      "cell_type": "code",
      "source": [
        "import scipy"
      ],
      "metadata": {
        "id": "ohIRWel7KM06"
      },
      "execution_count": null,
      "outputs": []
    },
    {
      "cell_type": "code",
      "source": [
        "scipy.__version__"
      ],
      "metadata": {
        "colab": {
          "base_uri": "https://localhost:8080/",
          "height": 35
        },
        "id": "Ai2mU-U6KRlv",
        "outputId": "e8044d89-d6e5-445f-91dd-944b6007ed3d"
      },
      "execution_count": null,
      "outputs": [
        {
          "output_type": "execute_result",
          "data": {
            "text/plain": [
              "'1.7.3'"
            ],
            "application/vnd.google.colaboratory.intrinsic+json": {
              "type": "string"
            }
          },
          "metadata": {},
          "execution_count": 167
        }
      ]
    },
    {
      "cell_type": "code",
      "source": [
        "from scipy import stats"
      ],
      "metadata": {
        "id": "IauKCmUlKneO"
      },
      "execution_count": null,
      "outputs": []
    },
    {
      "cell_type": "markdown",
      "source": [
        "##### Long calculation test statistic"
      ],
      "metadata": {
        "id": "yg6-F9GwuhjW"
      }
    },
    {
      "cell_type": "code",
      "source": [
        "samp1['bluecars_taken_sum'].mean()"
      ],
      "metadata": {
        "id": "g3U0Ed6L8aoN",
        "colab": {
          "base_uri": "https://localhost:8080/"
        },
        "outputId": "a44775eb-52cd-4bce-d892-b08b4af38f75"
      },
      "execution_count": null,
      "outputs": [
        {
          "output_type": "execute_result",
          "data": {
            "text/plain": [
              "564.1412337662338"
            ]
          },
          "metadata": {},
          "execution_count": 171
        }
      ]
    },
    {
      "cell_type": "code",
      "source": [
        "std_1 = samp1['bluecars_taken_sum'].std()\n",
        "std_1"
      ],
      "metadata": {
        "id": "qaMPIYtkAyyo",
        "colab": {
          "base_uri": "https://localhost:8080/"
        },
        "outputId": "91e220fe-c088-4486-ee63-c4ecfa1e04be"
      },
      "execution_count": null,
      "outputs": [
        {
          "output_type": "execute_result",
          "data": {
            "text/plain": [
              "307.0238589088613"
            ]
          },
          "metadata": {},
          "execution_count": 173
        }
      ]
    },
    {
      "cell_type": "code",
      "source": [
        "samp2['bluecars_taken_sum'].mean()"
      ],
      "metadata": {
        "id": "PlRwcSoX8hla",
        "colab": {
          "base_uri": "https://localhost:8080/"
        },
        "outputId": "5261e6b1-b515-4ec2-ad3e-6c0c28c0a95b"
      },
      "execution_count": null,
      "outputs": [
        {
          "output_type": "execute_result",
          "data": {
            "text/plain": [
              "302.4176136363636"
            ]
          },
          "metadata": {},
          "execution_count": 174
        }
      ]
    },
    {
      "cell_type": "code",
      "source": [
        "std_2 = samp2['bluecars_taken_sum'].std()\n",
        "std_2"
      ],
      "metadata": {
        "id": "-el7bR0EA6z9",
        "colab": {
          "base_uri": "https://localhost:8080/"
        },
        "outputId": "94761208-7554-47ff-8f2d-4ad6f5c490a3"
      },
      "execution_count": null,
      "outputs": [
        {
          "output_type": "execute_result",
          "data": {
            "text/plain": [
              "98.47060693230586"
            ]
          },
          "metadata": {},
          "execution_count": 175
        }
      ]
    },
    {
      "cell_type": "code",
      "source": [
        "print(samp1.shape, samp2.shape)"
      ],
      "metadata": {
        "id": "VpZaAXL8AguO",
        "colab": {
          "base_uri": "https://localhost:8080/"
        },
        "outputId": "61ca8020-fcd0-468a-ab53-0415e118b745"
      },
      "execution_count": null,
      "outputs": [
        {
          "output_type": "stream",
          "name": "stdout",
          "text": [
            "(616, 14) (352, 14)\n"
          ]
        }
      ]
    },
    {
      "cell_type": "code",
      "source": [
        "mean_diff = samp1['bluecars_taken_sum'].mean() - samp2['bluecars_taken_sum'].mean()"
      ],
      "metadata": {
        "id": "D3VB1LDJAScg"
      },
      "execution_count": null,
      "outputs": []
    },
    {
      "cell_type": "code",
      "source": [
        "mean_diff"
      ],
      "metadata": {
        "colab": {
          "base_uri": "https://localhost:8080/"
        },
        "id": "kxrpDnFxgGO0",
        "outputId": "054b7336-5359-4d2c-8e51-35e849f41c59"
      },
      "execution_count": null,
      "outputs": [
        {
          "output_type": "execute_result",
          "data": {
            "text/plain": [
              "261.72362012987014"
            ]
          },
          "metadata": {},
          "execution_count": 198
        }
      ]
    },
    {
      "cell_type": "code",
      "source": [
        "#pooled variance\n",
        "pooled_var = (((616-1)*std_1**2) + ((352-1)*std_2**2))/(616+352-2)\n",
        "pooled_var"
      ],
      "metadata": {
        "id": "-7CgYdEl-Nqx",
        "colab": {
          "base_uri": "https://localhost:8080/"
        },
        "outputId": "12ef9357-c266-4d26-e74d-e2ed6974cd99"
      },
      "execution_count": null,
      "outputs": [
        {
          "output_type": "execute_result",
          "data": {
            "text/plain": [
              "63535.82021061885"
            ]
          },
          "metadata": {},
          "execution_count": 177
        }
      ]
    },
    {
      "cell_type": "code",
      "source": [
        "pooled_var**0.5"
      ],
      "metadata": {
        "colab": {
          "base_uri": "https://localhost:8080/"
        },
        "id": "a9zc90XmYnC0",
        "outputId": "ba6f7cb3-6b52-4065-d131-de1341adcefa"
      },
      "execution_count": null,
      "outputs": [
        {
          "output_type": "execute_result",
          "data": {
            "text/plain": [
              "252.06312743163932"
            ]
          },
          "metadata": {},
          "execution_count": 197
        }
      ]
    },
    {
      "cell_type": "code",
      "source": [
        "#t statistic\n",
        "import math\n",
        "t_stat = mean_diff/math.sqrt(pooled_var*((1/352)+(1/616)))\n",
        "t_stat\n",
        "#t statistic is 15.54.."
      ],
      "metadata": {
        "id": "QBSwf89EBSF-",
        "colab": {
          "base_uri": "https://localhost:8080/"
        },
        "outputId": "b8c835ea-c75c-46f6-ca88-403b7741772f"
      },
      "execution_count": null,
      "outputs": [
        {
          "output_type": "execute_result",
          "data": {
            "text/plain": [
              "15.540235916778126"
            ]
          },
          "metadata": {},
          "execution_count": 178
        }
      ]
    },
    {
      "cell_type": "code",
      "source": [
        ""
      ],
      "metadata": {
        "id": "-r4SBvOotuqr"
      },
      "execution_count": null,
      "outputs": []
    },
    {
      "cell_type": "markdown",
      "source": [
        "##### P calculation"
      ],
      "metadata": {
        "id": "5lVH9YgluzUJ"
      }
    },
    {
      "cell_type": "code",
      "source": [
        "#Calculating the value of p\n",
        "prob = scipy.stats.t.sf(abs(t_stat), df=966)\n",
        "prob\n",
        "#p is 4.453e-49"
      ],
      "metadata": {
        "id": "ogpolh-4EVST",
        "colab": {
          "base_uri": "https://localhost:8080/"
        },
        "outputId": "bf735423-84da-47d3-d131-5795c7053bba"
      },
      "execution_count": null,
      "outputs": [
        {
          "output_type": "execute_result",
          "data": {
            "text/plain": [
              "4.453152629351808e-49"
            ]
          },
          "metadata": {},
          "execution_count": 179
        }
      ]
    },
    {
      "cell_type": "markdown",
      "source": [
        "##### Using scipys method - shortcut"
      ],
      "metadata": {
        "id": "Rf_0onS5vOxH"
      }
    },
    {
      "cell_type": "code",
      "source": [
        "#t test of independence. alternative=greater indicates that we want to perform a\n",
        "#test where the mean of first sample > mean of second, the condition which is our claim\n",
        "#, hence a right tailed test\n",
        "stats.ttest_ind(samp1['bluecars_taken_sum'], samp2['bluecars_taken_sum'], alternative='greater')"
      ],
      "metadata": {
        "colab": {
          "base_uri": "https://localhost:8080/"
        },
        "id": "V4zgTcQvKUwx",
        "outputId": "19fe3bdf-609c-4e29-addd-f4eb0c897024"
      },
      "execution_count": null,
      "outputs": [
        {
          "output_type": "execute_result",
          "data": {
            "text/plain": [
              "Ttest_indResult(statistic=15.540235916778126, pvalue=4.453152629351808e-49)"
            ]
          },
          "metadata": {},
          "execution_count": 169
        }
      ]
    },
    {
      "cell_type": "markdown",
      "source": [
        "The results found are the same as long calculation"
      ],
      "metadata": {
        "id": "rD9_mBBGvevl"
      }
    },
    {
      "cell_type": "markdown",
      "source": [
        "##### Values"
      ],
      "metadata": {
        "id": "1IkC_JurvYbM"
      }
    },
    {
      "cell_type": "markdown",
      "source": [
        "The t statistic was determined to be 15.54. \n",
        "\n",
        "The p value was determined to be 4.453e-49 (very small)"
      ],
      "metadata": {
        "id": "-g_KEyiBRqiR"
      }
    },
    {
      "cell_type": "markdown",
      "source": [
        "#### 4. Drawing the conclusion"
      ],
      "metadata": {
        "id": "BfpQZ5HtHtDN"
      }
    },
    {
      "cell_type": "markdown",
      "source": [
        "##### Conclusion"
      ],
      "metadata": {
        "id": "ecCOGy5I1Quz"
      }
    },
    {
      "cell_type": "markdown",
      "source": [
        "Given that our p value is 4.453e-49, which is much smaller than our significance level of 0.05, there is very strong evidence for rejecting our null hypothesis (Ho : u1 <= u2 - The average number of blue cars taken during weekends in the 9th-20th arrondissements of Paris (u1) is less than or equal to the average number taken in the 1st-8th arrondissements during the weekend (u2)). \n",
        "\n",
        "Therefore, **we conclude that the alternative hypothesis**, which was our original claim, **is true** at a level of significance of 0.05:\n",
        "\n",
        "Ha : u1 > u2 (claim)\n",
        "\n",
        "The average number of blue cars taken during weekends in the 9th-20th arrondissements of Paris (u1) is greater than the average number taken in the 1st-8th arrondissements (u2) during the weekend."
      ],
      "metadata": {
        "id": "rKjOaBwiSd7k"
      }
    },
    {
      "cell_type": "markdown",
      "source": [
        "##### Potential errors"
      ],
      "metadata": {
        "id": "L_WjrmGexZ8d"
      }
    },
    {
      "cell_type": "markdown",
      "source": [
        "**Type I error:**\n",
        "\n",
        "* Rejecting the null hypothesis when it is true. In this study, that would mean accepting that the average number of blue cars taken during weekends in the 9th-20th arrondissements of Paris (u1) is greater than that in the 1st-8th arrondissements (u2) during the weekend, while it is not the case. The probability of commiting this error in this study is the significance level a (0.05).\n",
        "\n",
        "**Type II error:**\n",
        "\n",
        "* Accepting the null hypothesis when it is false. In this study, that would mean accepting that the average number of blue cars taken during weekends in the 9th-20th arrondissements of Paris (u1) is less than or equal to that in the 1st-8th arrondissements (u2) while it is not the case."
      ],
      "metadata": {
        "id": "DCvAlJZnxj5_"
      }
    },
    {
      "cell_type": "markdown",
      "source": [
        "#### Recommendation"
      ],
      "metadata": {
        "id": "iRXMyJbV1Llp"
      }
    },
    {
      "cell_type": "markdown",
      "source": [
        "Our claim that the average number of blue cars taken during weekends in the 9th-20th arrondissements of Paris is greater than the average number taken in the 1st-8th arrondissements during the weekend was proven to be true.\n",
        "\n",
        "Therefore, we recommend that more of the Autolib company resources (charging slots, cars, personnel) be made available over the weekend in the 9th to 20th arrondisments as opposed to in the first 8 -- despite the popularity of the latter for business, tourism and entertainment -- because more cars are hired per day in these regions.\n",
        "\n"
      ],
      "metadata": {
        "id": "mV62jmSv1cdV"
      }
    }
  ]
}